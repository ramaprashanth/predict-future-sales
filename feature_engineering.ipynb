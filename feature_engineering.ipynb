{
 "cells": [
  {
   "cell_type": "markdown",
   "metadata": {
    "colab_type": "text",
    "id": "38grnsCYc3mm"
   },
   "source": [
    "# Mount google drive"
   ]
  },
  {
   "cell_type": "code",
   "execution_count": 1,
   "metadata": {
    "colab": {
     "base_uri": "https://localhost:8080/",
     "height": 122
    },
    "colab_type": "code",
    "executionInfo": {
     "elapsed": 53299,
     "status": "ok",
     "timestamp": 1568519666948,
     "user": {
      "displayName": "BA22",
      "photoUrl": "",
      "userId": "02603670721502132211"
     },
     "user_tz": -120
    },
    "id": "jKlHX-60QraZ",
    "outputId": "dd268880-e36b-4cb7-8394-f160b05f743f"
   },
   "outputs": [
    {
     "name": "stdout",
     "output_type": "stream",
     "text": [
      "Go to this URL in a browser: https://accounts.google.com/o/oauth2/auth?client_id=947318989803-6bn6qk8qdgf4n4g3pfee6491hc0brc4i.apps.googleusercontent.com&redirect_uri=urn%3Aietf%3Awg%3Aoauth%3A2.0%3Aoob&scope=email%20https%3A%2F%2Fwww.googleapis.com%2Fauth%2Fdocs.test%20https%3A%2F%2Fwww.googleapis.com%2Fauth%2Fdrive%20https%3A%2F%2Fwww.googleapis.com%2Fauth%2Fdrive.photos.readonly%20https%3A%2F%2Fwww.googleapis.com%2Fauth%2Fpeopleapi.readonly&response_type=code\n",
      "\n",
      "Enter your authorization code:\n",
      "··········\n",
      "Mounted at /content/drive/\n"
     ]
    }
   ],
   "source": [
    "from google.colab import drive\n",
    "drive.mount('/content/drive/')\n",
    "data_path = '/content/drive/My Drive/Colab Notebooks/predict_future_sales/data/prep/'"
   ]
  },
  {
   "cell_type": "markdown",
   "metadata": {
    "colab_type": "text",
    "id": "GyfAeLzDczmO"
   },
   "source": [
    "# Install libs"
   ]
  },
  {
   "cell_type": "code",
   "execution_count": 2,
   "metadata": {
    "colab": {
     "base_uri": "https://localhost:8080/",
     "height": 207
    },
    "colab_type": "code",
    "executionInfo": {
     "elapsed": 28567,
     "status": "ok",
     "timestamp": 1568519676621,
     "user": {
      "displayName": "BA22",
      "photoUrl": "",
      "userId": "02603670721502132211"
     },
     "user_tz": -120
    },
    "id": "mHBrZF9LtB_Y",
    "outputId": "b0905d6b-87fb-4ecd-8a77-c3db2f4c561d"
   },
   "outputs": [
    {
     "name": "stdout",
     "output_type": "stream",
     "text": [
      "Collecting sparse_dot_topn\n",
      "\u001b[?25l  Downloading https://files.pythonhosted.org/packages/7d/09/ae06509912675fec6f6f7aa5d84cf92d7e62ab215534b2cb6bfcc1d7c17b/sparse_dot_topn-0.2.5.tar.gz (54kB)\n",
      "\u001b[K     |████████████████████████████████| 61kB 2.5MB/s \n",
      "\u001b[?25hBuilding wheels for collected packages: sparse-dot-topn\n",
      "  Building wheel for sparse-dot-topn (setup.py) ... \u001b[?25l\u001b[?25hdone\n",
      "  Created wheel for sparse-dot-topn: filename=sparse_dot_topn-0.2.5-cp36-cp36m-linux_x86_64.whl size=98256 sha256=d2bae483ca8590d05c6ce463fbc750eba6c46967144beaee75280bebb925cdeb\n",
      "  Stored in directory: /root/.cache/pip/wheels/f5/de/86/f644ccba76566c3e0dc0aafa4b4b57164a11760606f69dce22\n",
      "Successfully built sparse-dot-topn\n",
      "Installing collected packages: sparse-dot-topn\n",
      "Successfully installed sparse-dot-topn-0.2.5\n"
     ]
    }
   ],
   "source": [
    "!pip install sparse_dot_topn"
   ]
  },
  {
   "cell_type": "markdown",
   "metadata": {
    "colab_type": "text",
    "id": "bbA2nxDVc-0v"
   },
   "source": [
    "# Import libs"
   ]
  },
  {
   "cell_type": "code",
   "execution_count": 0,
   "metadata": {
    "colab": {},
    "colab_type": "code",
    "id": "x8EDotX7Q-mp"
   },
   "outputs": [],
   "source": [
    "import pandas as pd\n",
    "import numpy as np\n",
    "import matplotlib as mpl\n",
    "import matplotlib.pyplot as plt\n",
    "%matplotlib inline\n",
    "import seaborn as sns\n",
    "import datetime\n",
    "from itertools import product\n",
    "import gc\n",
    "from sklearn.preprocessing import LabelEncoder\n",
    "import lightgbm as lgb\n",
    "from statsmodels.tsa.seasonal import seasonal_decompose\n",
    "from pytz import timezone\n",
    "import time\n",
    "\n",
    "mpl.rcParams['figure.figsize'] = [8.0, 6.0]"
   ]
  },
  {
   "cell_type": "markdown",
   "metadata": {
    "colab_type": "text",
    "id": "srDJaWJwQdo4"
   },
   "source": [
    "# Load Data"
   ]
  },
  {
   "cell_type": "code",
   "execution_count": 0,
   "metadata": {
    "colab": {},
    "colab_type": "code",
    "id": "RKLpPXp7QJYH"
   },
   "outputs": [],
   "source": [
    "sales = pd.read_pickle(data_path + 'sales.pkl')\n",
    "test = pd.read_pickle(data_path + 'test.pkl')\n",
    "items = pd.read_pickle(data_path + 'items.pkl')\n",
    "categories = pd.read_pickle(data_path + 'item_categories.pkl')\n",
    "shops = pd.read_pickle(data_path + 'shops.pkl')\n",
    "\n",
    "sales = sales.merge(items[['item_id', 'item_category_id']], on = 'item_id', how = 'inner')\n",
    "\n",
    "index_cols = ['shop_id', 'item_id', 'date_block_num'] "
   ]
  },
  {
   "cell_type": "markdown",
   "metadata": {
    "colab_type": "text",
    "id": "kj65t-q2ZK7C"
   },
   "source": [
    "# Utile Functions"
   ]
  },
  {
   "cell_type": "code",
   "execution_count": 0,
   "metadata": {
    "colab": {},
    "colab_type": "code",
    "id": "4tgGJgDfR6hC"
   },
   "outputs": [],
   "source": [
    "def downcast_dtypes(df):\n",
    "    start_size = df.memory_usage(deep = True).sum() / 1024**2\n",
    "    print('Memory usage: {:.2f} MB'.format(start_size))\n",
    "\n",
    "    float_cols = [c for c in df if df[c].dtype == \"float64\"]\n",
    "    int_cols = [c for c in df if df[c].dtype in [\"int64\", \"int32\"]]\n",
    "    df[float_cols] = df[float_cols].astype(np.float32)\n",
    "    df[int_cols] = df[int_cols].astype(np.int16)\n",
    "    end_size = df.memory_usage(deep = True).sum() / 1024**2\n",
    "    print('New Memory usage: {:.2f} MB'.format(end_size))\n",
    "    return df\n",
    "\n",
    "def create_target_for_attribute(df, attr, target, time_col, aggfunc = np.sum, fill = 0):\n",
    "    target_for_attr = df.pivot_table(index = [attr],\n",
    "                                   values = [target],\n",
    "                                   columns = time_col, \n",
    "                                   aggfunc = aggfunc,\n",
    "                                   fill_value = fill,\n",
    "                                  ).reset_index()\n",
    "  \n",
    "    target_for_attr.columns = target_for_attr.columns.droplevel().map(str)\n",
    "    target_for_attr = target_for_attr.reset_index(drop = True).rename_axis(None, axis = 1)\n",
    "    target_for_attr.columns.values[0] = attr\n",
    "    return target_for_attr\n",
    "\n",
    "def create_target_for_attributes(df, attrs, target, time_col, aggfunc = np.sum, fill = 0):\n",
    "    target_for_attrs = df.pivot_table(index = attrs,\n",
    "                                   values = target, \n",
    "                                   columns = time_col, \n",
    "                                   aggfunc = aggfunc, \n",
    "                                   fill_value = fill,\n",
    "                                  ).reset_index()\n",
    "    target_for_attrs.columns = target_for_attrs.columns.map(str)\n",
    "    target_for_attrs = target_for_attrs.reset_index(drop = True).rename_axis(None, axis = 1)\n",
    "    return target_for_attrs\n",
    "\n",
    "def create_train_set(df, index_cols = index_cols):\n",
    "    grid = []\n",
    "  #curr_shops = df['shop_id'].unique()\n",
    "  #curr_items = df['item_id'].unique()\n",
    "    for month in df['date_block_num'].unique():\n",
    "        curr_shops = df[df['date_block_num'] == month]['shop_id'].unique()\n",
    "        curr_items = df[df['date_block_num'] == month]['item_id'].unique()\n",
    "        grid.append(np.array(list(product(*[curr_shops, curr_items, [month]])), dtype = 'int32'))\n",
    "\n",
    "    grid = pd.DataFrame(np.vstack(grid), columns = index_cols, dtype = np.int32)\n",
    "\n",
    "    gb = df.groupby(index_cols, as_index = False).agg({'item_cnt_day':'sum'})\n",
    "    gb.columns = index_cols + ['target']\n",
    "    all_data = pd.merge(grid, gb, how = 'left', on = index_cols).fillna(0)\n",
    "    all_data.sort_values(['date_block_num','shop_id','item_id'], inplace = True)\n",
    "    all_data.loc[:, 'target'] = all_data['target'].clip(0, 20).astype(np.float32)\n",
    "    print('Sales data shape:', df.shape)\n",
    "    print('Generated Train data shape:', all_data.shape)\n",
    "    del curr_shops\n",
    "    del curr_items\n",
    "    del gb\n",
    "    del grid\n",
    "    gc.collect()\n",
    "    return all_data\n",
    "\n",
    "def generate_name(my_name):\n",
    "    now = datetime.datetime.now(timezone('Europe/Berlin'))\n",
    "    name_id = now.strftime(\"%H_%M_%S__%d_%h_%Y\")\n",
    "    return my_name + '_' + name_id"
   ]
  },
  {
   "cell_type": "markdown",
   "metadata": {
    "colab_type": "text",
    "id": "QimFCsvHcMqz"
   },
   "source": [
    "# Construct Training data\n",
    "\n",
    "- Collect shops, items that have been sold in each month form sales dataframe.\n",
    "- Generate all possible triples for (shop_id, item_id, date_block_num)\n",
    "- Group sales dataframe according to (shop_id, item_id, date_block_num) and calculate the sum of target\n",
    "- Merge the generated triples with the grouped dataframe\n",
    "- Sort the result dataframe according to month, shop and item\n"
   ]
  },
  {
   "cell_type": "code",
   "execution_count": 0,
   "metadata": {
    "colab": {
     "base_uri": "https://localhost:8080/",
     "height": 51
    },
    "colab_type": "code",
    "executionInfo": {
     "elapsed": 17865,
     "status": "ok",
     "timestamp": 1567874194586,
     "user": {
      "displayName": "BA22",
      "photoUrl": "",
      "userId": "02603670721502132211"
     },
     "user_tz": -120
    },
    "id": "TFA8nleJF8so",
    "outputId": "61a57875-715b-4b86-8404-2b250dd5efb2"
   },
   "outputs": [
    {
     "name": "stdout",
     "output_type": "stream",
     "text": [
      "Sales data shape: (2935842, 7)\n",
      "Generated Train data shape: (10809347, 4)\n"
     ]
    }
   ],
   "source": [
    "all_data = create_train_set(sales)"
   ]
  },
  {
   "cell_type": "markdown",
   "metadata": {
    "colab_type": "text",
    "id": "Wtrbmid8khfA"
   },
   "source": [
    "# Baseline Model"
   ]
  },
  {
   "cell_type": "code",
   "execution_count": 0,
   "metadata": {
    "colab": {},
    "colab_type": "code",
    "id": "G095gJXNklkk"
   },
   "outputs": [],
   "source": [
    "all_data = all_data.merge(items, on = 'item_id', how = 'left')\n",
    "all_data = all_data.merge(shops, on = 'shop_id', how = 'left')\n",
    "all_data = all_data.merge(categories, on = 'item_category_id', how = 'left')"
   ]
  },
  {
   "cell_type": "code",
   "execution_count": 0,
   "metadata": {
    "colab": {},
    "colab_type": "code",
    "id": "uhWH0px4leMj"
   },
   "outputs": [],
   "source": [
    "features = all_data.columns.values\n",
    "features = features[(features != 'target') & (features != 'date_block_num')]\n",
    "X = all_data.loc[:, features]\n",
    "y = all_data.loc[:, 'target']"
   ]
  },
  {
   "cell_type": "code",
   "execution_count": 0,
   "metadata": {
    "colab": {},
    "colab_type": "code",
    "id": "yfrh4I-ws_M7"
   },
   "outputs": [],
   "source": [
    "X_enc = X.copy()\n",
    "X_enc = X_enc.fillna('Unknow')\n",
    "cat_features = []\n",
    "  for col in X.columns:\n",
    "    if X_enc[col].dtypes == np.object:\n",
    "      cat_features.append(X_enc.columns.get_loc(col))\n",
    "      X_enc.loc[:, col] = LabelEncoder().fit_transform(X_enc[col].values)"
   ]
  },
  {
   "cell_type": "code",
   "execution_count": 0,
   "metadata": {
    "colab": {},
    "colab_type": "code",
    "id": "whSpJ_ikmuF_"
   },
   "outputs": [],
   "source": [
    "lgb_params = {\n",
    "    'feature_fraction': 0.75,\n",
    "    'metric': 'rmse',\n",
    "    'nthread':1, \n",
    "    'min_data_in_leaf': 2**7, \n",
    "    'bagging_fraction': 0.75, \n",
    "    'learning_rate': 0.03, \n",
    "    'objective': 'mse', \n",
    "    'bagging_seed': 2**7, \n",
    "    'num_leaves': 2**7,\n",
    "    'bagging_freq':1,\n",
    "    'verbose':0,\n",
    "}\n",
    "d_train = lgb.Dataset(X_enc, label = y)\n",
    "gb_model = lgb.train(lgb_params, d_train, 100)"
   ]
  },
  {
   "cell_type": "code",
   "execution_count": 0,
   "metadata": {
    "colab": {
     "base_uri": "https://localhost:8080/",
     "height": 369
    },
    "colab_type": "code",
    "executionInfo": {
     "elapsed": 1053,
     "status": "ok",
     "timestamp": 1567190420239,
     "user": {
      "displayName": "BA22",
      "photoUrl": "",
      "userId": "02603670721502132211"
     },
     "user_tz": -120
    },
    "id": "ANym-0vDntfs",
    "outputId": "f33ed4be-1614-4172-9290-fb5b636a17d8"
   },
   "outputs": [
    {
     "data": {
      "image/png": "[encoded data removed]",
      "text/plain": [
       "<Figure size 720x360 with 1 Axes>"
      ]
     },
     "metadata": {
      "tags": []
     },
     "output_type": "display_data"
    }
   ],
   "source": [
    "feature_importance = pd.DataFrame(sorted(zip(gb_model.feature_importance(importance_type = 'gain'), X_enc.columns)), columns=['Value','Feature'])\n",
    "plt.figure(figsize = (10, 5))\n",
    "sns.barplot(x = \"Value\", y = \"Feature\", data = feature_importance.sort_values(by = \"Value\", ascending = False))\n",
    "plt.title('LightGBM Features')\n",
    "plt.tight_layout()\n",
    "plt.show()"
   ]
  },
  {
   "cell_type": "markdown",
   "metadata": {
    "colab_type": "text",
    "id": "xNE4J3XQah7f"
   },
   "source": [
    "# Global Variables"
   ]
  },
  {
   "cell_type": "code",
   "execution_count": 8,
   "metadata": {
    "colab": {
     "base_uri": "https://localhost:8080/",
     "height": 34
    },
    "colab_type": "code",
    "executionInfo": {
     "elapsed": 80421,
     "status": "ok",
     "timestamp": 1568519932281,
     "user": {
      "displayName": "BA22",
      "photoUrl": "",
      "userId": "02603670721502132211"
     },
     "user_tz": -120
    },
    "id": "pqUk6ihnSQiV",
    "outputId": "298fa732-a99f-4b81-d32b-6570621f687f"
   },
   "outputs": [
    {
     "name": "stdout",
     "output_type": "stream",
     "text": [
      "79 seconds\n"
     ]
    }
   ],
   "source": [
    "start = time.time()\n",
    "\n",
    "items_sales = create_target_for_attribute(sales, 'item_id', 'item_cnt_day', 'date_block_num', aggfunc = np.sum, fill = 0)\n",
    "items_trans = create_target_for_attribute(sales, 'item_id', 'item_cnt_day', 'date_block_num', aggfunc = np.count_nonzero, fill = 0)\n",
    "items_prices = create_target_for_attribute(sales, 'item_id', 'item_price', 'date_block_num', aggfunc = np.median, fill = np.nan)\n",
    "\n",
    "shops_sales = create_target_for_attribute(sales, 'shop_id', 'item_cnt_day', 'date_block_num', aggfunc = np.sum, fill = 0)\n",
    "shops_trans = create_target_for_attribute(sales, 'shop_id', 'item_cnt_day', 'date_block_num', aggfunc = np.count_nonzero, fill = 0)\n",
    "#shops_prices = create_target_for_attribute(sales, 'shop_id', 'item_price', 'date_block_num', aggfunc = np.median, fill  = np.nan)\n",
    "\n",
    "categories_sales = create_target_for_attribute(sales, 'item_category_id', 'item_cnt_day', 'date_block_num', aggfunc = np.sum, fill = 0)\n",
    "categories_trans = create_target_for_attribute(sales, 'item_category_id', 'item_cnt_day', 'date_block_num', aggfunc = np.count_nonzero, fill = 0)\n",
    "#categories_prices = create_target_for_attribute(sales, 'item_category_id', 'item_price', 'date_block_num', aggfunc = np.median, fill = np.nan)\n",
    "\n",
    "shops_items_sales = create_target_for_attributes(sales, ['shop_id', 'item_id'], 'item_cnt_day', 'date_block_num', aggfunc = np.sum, fill = 0)\n",
    "shops_items_trans = create_target_for_attributes(sales, ['shop_id', 'item_id'], 'item_cnt_day', 'date_block_num', aggfunc = np.count_nonzero, fill = 0)\n",
    "shops_items_sales.loc[:, '0':] = shops_items_sales.loc[:, '0':].clip(0, 20)\n",
    "\n",
    "print(round(time.time() - start), 'seconds')"
   ]
  },
  {
   "cell_type": "markdown",
   "metadata": {
    "colab_type": "text",
    "id": "W38KOIR2HRvA"
   },
   "source": [
    "# Feature Engineering"
   ]
  },
  {
   "cell_type": "markdown",
   "metadata": {
    "colab_type": "text",
    "id": "QGi3AfPEJd-1"
   },
   "source": [
    "Before we go crazy generating features, let us look again to the data."
   ]
  },
  {
   "cell_type": "code",
   "execution_count": 9,
   "metadata": {
    "colab": {
     "base_uri": "https://localhost:8080/",
     "height": 102
    },
    "colab_type": "code",
    "executionInfo": {
     "elapsed": 1066,
     "status": "ok",
     "timestamp": 1568519937954,
     "user": {
      "displayName": "BA22",
      "photoUrl": "",
      "userId": "02603670721502132211"
     },
     "user_tz": -120
    },
    "id": "R-ds-FprLilQ",
    "outputId": "84c8a19f-aa0a-4237-d32c-70aa0aa0a519"
   },
   "outputs": [
    {
     "name": "stdout",
     "output_type": "stream",
     "text": [
      "There is sales history for: 4737  items in test set out of 5100\n",
      "There is No sales history for: 363  items in test set out of 5100\n",
      "---------------------\n",
      "There is sales history for: 42  shops in test set out of 42\n",
      "There is No sales history for: 0  shops in test set out of 42\n"
     ]
    }
   ],
   "source": [
    "test_items = set(test.item_id)\n",
    "sales_items = set(sales.item_id)\n",
    "items_in_test_and_sales = test_items.intersection(sales_items)\n",
    "items_in_test_not_sales = test_items - sales_items.intersection(test_items)\n",
    "\n",
    "print('There is sales history for:', len(items_in_test_and_sales) , ' items in test set out of', test['item_id'].nunique())\n",
    "print('There is No sales history for:', len(items_in_test_not_sales), ' items in test set out of', test['item_id'].nunique())\n",
    "print('---------------------')\n",
    "shops_test = set(test.shop_id)\n",
    "shops_train = set(sales.shop_id)\n",
    "shops_in_test_and_sales = shops_test.intersection(shops_train)\n",
    "shops_in_test_not_sales = set(test.shop_id) - shops_test.intersection(shops_train)\n",
    "print('There is sales history for:', len(shops_in_test_and_sales), ' shops in test set out of', test['shop_id'].nunique())\n",
    "print('There is No sales history for:', len(shops_in_test_not_sales), ' shops in test set out of', test['shop_id'].nunique())"
   ]
  },
  {
   "cell_type": "code",
   "execution_count": 10,
   "metadata": {
    "colab": {
     "base_uri": "https://localhost:8080/",
     "height": 119
    },
    "colab_type": "code",
    "executionInfo": {
     "elapsed": 2059,
     "status": "ok",
     "timestamp": 1568519954432,
     "user": {
      "displayName": "BA22",
      "photoUrl": "",
      "userId": "02603670721502132211"
     },
     "user_tz": -120
    },
    "id": "fT7ufTzVX_7O",
    "outputId": "fd6a6226-0279-432d-a18d-4fd5c0b47ed3"
   },
   "outputs": [
    {
     "name": "stdout",
     "output_type": "stream",
     "text": [
      "There is sales history for: 111543  shop/item pairs in test set out of 214200\n",
      "There is No sales history for: 15246  shop/item in test set of 214200\n",
      "There is sales history for: 87411  items ONLY from shop/item pairs in test set out of 214200\n",
      "-------------------\n",
      "Total number of shop/item pairs in train set:  416197\n",
      "Total number of Possible shop/item pairs:  1219350\n"
     ]
    }
   ],
   "source": [
    "ntest = test.reset_index()\n",
    "found_sales = ntest.merge(sales, on = ['item_id','shop_id'], how = 'left').dropna()\n",
    "pairs_with_history = ntest[ntest['ID'].isin(found_sales['ID'])]\n",
    "pairs_with_no_item_history = ntest[~(ntest['item_id'].isin(sales['item_id']))]\n",
    "pairs_with_just_item_history_num = test.shape[0] - (len(pairs_with_history) + len(pairs_with_no_item_history))\n",
    "\n",
    "print('There is sales history for:', len(pairs_with_history) , ' shop/item pairs in test set out of', len(test))\n",
    "print('There is No sales history for:',  len(pairs_with_no_item_history), ' shop/item in test set of', len(test))\n",
    "print('There is sales history for:',  pairs_with_just_item_history_num, ' items ONLY from shop/item pairs in test set out of', len(test))\n",
    "print('-------------------')\n",
    "print('Total number of shop/item pairs in train set: ', len(shops_items_sales))\n",
    "print('Total number of Possible shop/item pairs: ', len(items) * len(shops))"
   ]
  },
  {
   "cell_type": "markdown",
   "metadata": {
    "colab_type": "text",
    "id": "eNND7iV0jRqx"
   },
   "source": [
    "## Summerize"
   ]
  },
  {
   "cell_type": "markdown",
   "metadata": {
    "colab_type": "text",
    "id": "yx2nrPO6pvIp"
   },
   "source": [
    "We have **214200** pairs of shop/item that we want to predict their future sales. Those pairs can be divided into 3 groups:\n",
    "- **First group:** 111543 pairs with shop/item sales history. We know the previous sales of the item inside the shop\n",
    "- **Second group:** 87411 pairs with item sales history. We know the previous sales of the items in different shops\n",
    "- **Third group:** 15246 pairs have shop history. We know the previous sales of the shop only. The items have no sales history\n",
    "\n",
    "The problem is modeled as: \n",
    "\n",
    "\n",
    "target_pair1(t = 0), target_pair1(t = 1), target_pair1(t = 2), ..., target_pair1(t = k) >>--->>predict>>--->> **target_pair1(t = 34)**.\n",
    "\n",
    "target_pair2(t = 0), target_pair2(t = 1), target_pair2(t = 2), ..., target_pair2(t = k) >>--->>predict>>--->> **target_pair2(t = 34)**\n",
    "\n",
    "- \n",
    "- \n",
    "- \n",
    "\n",
    "target_pair_m(t = 0), target_pair_m(t = 1), target_pair_m(t = 2), ..., target_pair_m(t = k) >>--->>predict>>--->> **target_pair_m(t = 34)**\n",
    "\n",
    "\n",
    "**First Group:**\n",
    "- lag features for target per (item, shop, item/shop)\n",
    "- trend and seasonality\n",
    "\n",
    "**Second Group:**\n",
    "- lag features for target per(item, shop)\n",
    "- trend and seasonality\n",
    "\n",
    "**Third Group:**\n",
    "- lag features for target per similar items in the same shop\n",
    "- trend and seasonality\n",
    "\n",
    "\n"
   ]
  },
  {
   "cell_type": "markdown",
   "metadata": {
    "colab_type": "text",
    "id": "-JvnlD9XmZve"
   },
   "source": [
    "## Outdated shops/items/categories"
   ]
  },
  {
   "cell_type": "code",
   "execution_count": 0,
   "metadata": {
    "colab": {},
    "colab_type": "code",
    "id": "-9-p-JbQFGx3"
   },
   "outputs": [],
   "source": [
    "outdated_limit = '27'"
   ]
  },
  {
   "cell_type": "code",
   "execution_count": 25,
   "metadata": {
    "colab": {
     "base_uri": "https://localhost:8080/",
     "height": 51
    },
    "colab_type": "code",
    "executionInfo": {
     "elapsed": 1792,
     "status": "ok",
     "timestamp": 1568520137785,
     "user": {
      "displayName": "BA22",
      "photoUrl": "",
      "userId": "02603670721502132211"
     },
     "user_tz": -120
    },
    "id": "8o7QZxkSIkb4",
    "outputId": "8784a0ad-31a3-4573-cdea-2ae3c944782e"
   },
   "outputs": [
    {
     "name": "stdout",
     "output_type": "stream",
     "text": [
      "shops in train set:  55  out of 55\n",
      "Outdated shops in train set:  12.73 %\n"
     ]
    }
   ],
   "source": [
    "outdated_shops = shops_sales[shops_sales.loc[:, outdated_limit:].sum(axis = 1) <= 0]\n",
    "print('shops in train set: ', len(shops_sales), ' out of', len(shops))\n",
    "print('Outdated shops in train set: ', round(100 * len(outdated_shops) / len(shops_sales), 2), '%')\n",
    "\n",
    "shops['shop_status'] = 'unknown'\n",
    "shops.loc[shops['shop_id'].isin(outdated_shops['shop_id']), 'shop_status'] = 'deactive'\n",
    "\n",
    "active_shops =  shops_sales[shops_sales.loc[:, outdated_limit:].sum(axis = 1) > 0]\n",
    "shops.loc[shops['shop_id'].isin(active_shops['shop_id']), 'shop_status'] = 'active'"
   ]
  },
  {
   "cell_type": "code",
   "execution_count": 26,
   "metadata": {
    "colab": {
     "base_uri": "https://localhost:8080/",
     "height": 51
    },
    "colab_type": "code",
    "executionInfo": {
     "elapsed": 1092,
     "status": "ok",
     "timestamp": 1568520138084,
     "user": {
      "displayName": "BA22",
      "photoUrl": "",
      "userId": "02603670721502132211"
     },
     "user_tz": -120
    },
    "id": "AMtqcxMJmEny",
    "outputId": "a600389c-6f6c-4b69-9cc6-7eda08ccc57a"
   },
   "outputs": [
    {
     "name": "stdout",
     "output_type": "stream",
     "text": [
      "items in train set:  21806  out of 22170\n",
      "Outdated items in train set:  56.84 %\n"
     ]
    }
   ],
   "source": [
    "outdated_items = items_sales[items_sales.loc[:, outdated_limit:].sum(axis = 1) <= 0]\n",
    "print('items in train set: ', len(items_sales), ' out of', len(items))\n",
    "print('Outdated items in train set: ', round(100 * len(outdated_items) /len(items_sales), 2), '%')\n",
    "\n",
    "items['item_status'] = 'unknown'\n",
    "items.loc[items['item_id'].isin(outdated_items['item_id']), 'item_status'] = 'deactive'\n",
    "\n",
    "active_items =  items_sales[items_sales.loc[:,outdated_limit:].sum(axis = 1) > 0]\n",
    "items.loc[items['item_id'].isin(active_items['item_id']), 'item_status'] = 'active'"
   ]
  },
  {
   "cell_type": "code",
   "execution_count": 27,
   "metadata": {
    "colab": {
     "base_uri": "https://localhost:8080/",
     "height": 51
    },
    "colab_type": "code",
    "executionInfo": {
     "elapsed": 1317,
     "status": "ok",
     "timestamp": 1568520152047,
     "user": {
      "displayName": "BA22",
      "photoUrl": "",
      "userId": "02603670721502132211"
     },
     "user_tz": -120
    },
    "id": "vpH20q6ymQ72",
    "outputId": "dc6b2ba3-6f24-4564-a103-12376ad8e78b"
   },
   "outputs": [
    {
     "name": "stdout",
     "output_type": "stream",
     "text": [
      "categories in train set:  84  out of 84\n",
      "Outdated categories in train set:  20.24 %\n"
     ]
    }
   ],
   "source": [
    "outdated_categories = categories_sales[categories_sales.loc[:, outdated_limit:].sum(axis = 1) <= 0]\n",
    "print('categories in train set: ', len(categories_sales), ' out of', len(categories))\n",
    "print('Outdated categories in train set: ',  round(100 * len(outdated_categories)/len(categories_sales), 2), '%')\n",
    "\n",
    "categories['item_category_status'] = 'unknown'\n",
    "categories.loc[categories['item_category_id'].isin(outdated_categories['item_category_id']), 'item_category_status'] = 'deactive'\n",
    "\n",
    "active_categories = categories_sales[categories_sales.loc[:, outdated_limit:].sum(axis = 1) > 0]\n",
    "categories.loc[categories['item_category_id'].isin(active_categories['item_category_id']), 'item_category_status'] = 'active'"
   ]
  },
  {
   "cell_type": "markdown",
   "metadata": {
    "colab_type": "text",
    "id": "2BYo1fwQZDDH"
   },
   "source": [
    "## Generate history for missing item"
   ]
  },
  {
   "cell_type": "markdown",
   "metadata": {
    "colab_type": "text",
    "id": "fj0p52wmZJTW"
   },
   "source": [
    "There is 363 items that we have no sales history at all. It could be that those items are outdated and nobody bought them during the 34 months. Or it could be the orgnizers of the competion took them form the train set.\n",
    "- I will assume that those items have the same sales history like items with same type and category in same shop.\n",
    "- I will give the rest the median of the sales of items in the same category and shop\n"
   ]
  },
  {
   "cell_type": "markdown",
   "metadata": {
    "colab_type": "text",
    "id": "mpBT5pUyVEdX"
   },
   "source": [
    "### Find similar items"
   ]
  },
  {
   "cell_type": "code",
   "execution_count": 0,
   "metadata": {
    "colab": {},
    "colab_type": "code",
    "id": "DrLo1sCondKy"
   },
   "outputs": [],
   "source": [
    "def ngrams(string, n=3):\n",
    "    ngrams = zip(*[string[i:] for i in range(n)])\n",
    "    return [''.join(ngram) for ngram in ngrams]\n",
    "\n",
    "from scipy.sparse import csr_matrix\n",
    "import sparse_dot_topn.sparse_dot_topn as ct\n",
    "from sklearn.feature_extraction.text import TfidfVectorizer\n",
    "\n",
    "def awesome_cossim_top(A, B, ntop, lower_bound=0):\n",
    "    A = A.tocsr()\n",
    "    B = B.tocsr()\n",
    "    M, _ = A.shape\n",
    "    _, N = B.shape\n",
    " \n",
    "    idx_dtype = np.int32\n",
    " \n",
    "    nnz_max = M*ntop\n",
    " \n",
    "    indptr = np.zeros(M+1, dtype=idx_dtype)\n",
    "    indices = np.zeros(nnz_max, dtype=idx_dtype)\n",
    "    data = np.zeros(nnz_max, dtype=A.dtype)\n",
    "\n",
    "    ct.sparse_dot_topn(\n",
    "        M, N, np.asarray(A.indptr, dtype=idx_dtype),\n",
    "        np.asarray(A.indices, dtype=idx_dtype),\n",
    "        A.data,\n",
    "        np.asarray(B.indptr, dtype=idx_dtype),\n",
    "        np.asarray(B.indices, dtype=idx_dtype),\n",
    "        B.data,\n",
    "        ntop,\n",
    "        lower_bound,\n",
    "        indptr, indices, data)\n",
    "\n",
    "    return csr_matrix((data,indices,indptr),shape=(M,N))\n",
    "  \n",
    "def get_matches_df(sparse_matrix, name_vector, top=100):\n",
    "    non_zeros = sparse_matrix.nonzero()\n",
    "    \n",
    "    sparserows = non_zeros[0]\n",
    "    sparsecols = non_zeros[1]\n",
    "    \n",
    "    if top:\n",
    "        nr_matches = top\n",
    "    else:\n",
    "        nr_matches = sparsecols.size\n",
    "    \n",
    "    left_side = np.empty([nr_matches], dtype=object)\n",
    "    right_side = np.empty([nr_matches], dtype=object)\n",
    "    similairity = np.zeros(nr_matches)\n",
    "    \n",
    "    for index in range(0, nr_matches):\n",
    "        left_side[index] = name_vector[sparserows[index]]\n",
    "        right_side[index] = name_vector[sparsecols[index]]\n",
    "        similairity[index] = sparse_matrix.data[index]\n",
    "        \n",
    "    df = pd.DataFrame({'left_side': left_side,\n",
    "                          'right_side': right_side,\n",
    "                           'similairity': similairity})\n",
    "    \n",
    "    return df.sort_values(['similairity'], ascending=False)"
   ]
  },
  {
   "cell_type": "code",
   "execution_count": 29,
   "metadata": {
    "colab": {
     "base_uri": "https://localhost:8080/",
     "height": 51
    },
    "colab_type": "code",
    "executionInfo": {
     "elapsed": 13532,
     "status": "ok",
     "timestamp": 1568520217835,
     "user": {
      "displayName": "BA22",
      "photoUrl": "",
      "userId": "02603670721502132211"
     },
     "user_tz": -120
    },
    "id": "z1uYF5tir6wg",
    "outputId": "9417e984-4e77-4052-c561-91de87b99401"
   },
   "outputs": [
    {
     "name": "stdout",
     "output_type": "stream",
     "text": [
      "item_name tfid shape:  (22170, 16714)\n",
      "Matches between item_names:  (266236, 3)\n"
     ]
    }
   ],
   "source": [
    "items_names = items['item_name']\n",
    "vectorizer = TfidfVectorizer(min_df = 1, analyzer=ngrams)\n",
    "tf_idf_matrix = vectorizer.fit_transform(items_names)\n",
    "print('item_name tfid shape: ', tf_idf_matrix.shape)\n",
    "matches = awesome_cossim_top(tf_idf_matrix, tf_idf_matrix.transpose(), 22170, 0.4)\n",
    "\n",
    "matches_df = get_matches_df(matches, items_names, top = 0)\n",
    "matches_df = matches_df[matches_df['similairity'] < 0.99999]\n",
    "print('Matches between item_names: ', matches_df.shape)"
   ]
  },
  {
   "cell_type": "code",
   "execution_count": 30,
   "metadata": {
    "colab": {
     "base_uri": "https://localhost:8080/",
     "height": 1000
    },
    "colab_type": "code",
    "executionInfo": {
     "elapsed": 18700,
     "status": "ok",
     "timestamp": 1568520261251,
     "user": {
      "displayName": "BA22",
      "photoUrl": "",
      "userId": "02603670721502132211"
     },
     "user_tz": -120
    },
    "id": "U2F3sScDtSUh",
    "outputId": "425ce6c1-1309-4537-cae2-232e2294d1e9"
   },
   "outputs": [
    {
     "name": "stdout",
     "output_type": "stream",
     "text": [
      "72 --> 72\n",
      "20486 фигурка game of thrones jon snow legacy action 15см --> 20485 фигурка game of thrones jaime lannister legacy collection 6\n",
      "========\n",
      "20 --> 20\n",
      "6169 rock band 4 игра гитара барабаны и микрофон ps4 английская версия --> 3756 guitar hero live гитара игра ps4 английская версия\n",
      "========\n",
      "75 --> 75\n",
      "4156 kaspersky endpoint security для бизнеса стандартный russian edition 15 19 node 1 year renewal license --> 4155 kaspersky endpoint security для бизнеса стандартный russian edition 10 14 node 1 year renewal license\n",
      "========\n",
      "40 --> 40\n",
      "12409 карнавал rem --> 12406 карнавал регион\n",
      "========\n",
      "40 --> 40\n",
      "18560 свой среди чужих чужой среди своих rem --> 18561 свой среди чужих чужой среди своих регион\n",
      "========\n",
      "40 --> 40\n",
      "10372 гений регион --> 9864 вий регион\n",
      "========\n",
      "44 --> 44\n",
      "168 1с аудиокниги аудиокурсы по географии 6 класс pc цифровая версия --> 169 1с аудиокниги аудиокурсы по географии 7 класс pc цифровая версия\n",
      "========\n",
      "45 --> 45\n",
      "173 1с аудиокниги аудиоэнциклопедия для самых маленьких окружающий мир digipack --> 380 1с аудиокниги спокойной ночи сказки для самых маленьких\n",
      "========\n",
      "55 --> 55\n",
      "14521 меладзе валерий и константин полста 2cd фирм --> 14519 меладзе валерий океан\n",
      "========\n",
      "55 --> 55\n",
      "6335 stewart rod another country --> 6338 stewart rod time\n",
      "========\n",
      "44 --> 44\n",
      "204 1с аудиокниги г р хаггард клеопатра pc цифровая версия --> 208 1с аудиокниги генри хаггард дочь монтесумы pc цифровая версия\n",
      "========\n",
      "58 --> 58\n",
      "4310 led zeppelin coda original recording remastered lp --> 4312 led zeppelin i original recording remastered lp\n",
      "========\n",
      "45 --> 45\n",
      "249 1с аудиокниги жюль верн пятнадцатилетний капитан jewel --> 248 1с аудиокниги жюль верн дети капитана гранта jewel\n",
      "========\n",
      "19 --> 19\n",
      "2322 call of duty black ops iii ps3 русская версия --> 2307 call of duty black ops ii ps3 русская версия\n",
      "========\n",
      "23 --> 23\n",
      "2324 call of duty black ops iii xbox 360 русская версия --> 2309 call of duty black ops ii xbox 360 русская версия\n",
      "========\n",
      "40 --> 40\n",
      "16675 отелло rem --> 21765 чучело rem\n",
      "========\n",
      "40 --> 40\n",
      "12591 клуб самоубийц или приключения титулованной особы rem --> 12590 клуб самоубийц или приключения титулованной особы регион\n",
      "========\n",
      "55 --> 55\n",
      "4412 limp bizkit greatest hitz --> 4411 limp bizkit gold cobra\n",
      "========\n",
      "42 --> 42\n",
      "8549 артбук мир игры rise of the tomb raider --> 8550 артбук мир игры the last of us\n",
      "========\n",
      "42 --> 42\n",
      "8551 артбук мир игры total war --> 8550 артбук мир игры the last of us\n",
      "========\n",
      "31 --> 31\n",
      "2434 crusader kings 2 dlc collection pc цифровая версия --> 2433 crusader kings 2 pc цифровая версия\n",
      "========\n",
      "72 --> 72\n",
      "20880 фигурка walking dead rv walker zombie pop tv 10см --> 20864 фигурка the walking dead series 1 zombie lurker 6\n",
      "========\n",
      "44 --> 44\n",
      "402 1с аудиокниги чарская л а сказки голубой феи pc цифровая версия --> 148 1с аудиокниги английские сказки часть 1 pc цифровая версия\n",
      "========\n",
      "58 --> 58\n",
      "14760 моральный кодекс гибкий стан 2lp --> 14761 моральный кодекс зима 2lp\n",
      "========\n",
      "78 --> 78\n",
      "16811 онлайн доступ к мат по ист 5 11 кл эконом 9 11 и обществозн 10 11 1 год pc цифровая версия --> 16812 онлайн доступ к мат по ист 5 11 кл эконом 9 11 и обществозн 10 11 3 мес pc цифровая версия\n",
      "========\n",
      "58 --> 58\n",
      "14765 моральный кодекс сотрясение мозга 2lp --> 14761 моральный кодекс зима 2lp\n",
      "========\n",
      "45 --> 45\n",
      "430 1с аудиотеатр коллекция сказок а усачева digipack --> 431 1с аудиотеатр коллекция сказок в гауфа digipack\n",
      "========\n",
      "78 --> 78\n",
      "16813 онлайн доступ к матер по биологии для 5 11 кл и химии для 8 9 кл на 1 год pc цифровая версия --> 16814 онлайн доступ к матер по биологии для 5 11 кл и химии для 8 9 кл на 3 мес pc цифровая версия\n",
      "========\n",
      "40 --> 40\n",
      "18913 снайпер регион --> 18910 снайпер\n",
      "========\n",
      "40 --> 40\n",
      "8676 бармен --> 19675 титаник кармен\n",
      "========\n",
      "76 --> 76\n",
      "6645 softorbits photo retoucher домашняя обработка фото esd цифровая версия --> 6648 softorbits пакетная автоматическая обработка фотографий rus цифровая версия\n",
      "========\n",
      "61 --> 61\n",
      "20996 футболка assassin s creed syndicate bronze crest l --> 20998 футболка assassin s creed syndicate bronze crest s\n",
      "========\n",
      "72 --> 72\n",
      "20863 фигурка the simpsons series 4 marge simpson working woman marge 5 --> 20862 фигурка the simpsons series 4 homer simpson grunge homer 5\n",
      "========\n",
      "55 --> 55\n",
      "10779 ддт легенды русского рока 1 фирм --> 10780 ддт легенды русского рока 2 фирм\n",
      "========\n",
      "55 --> 55\n",
      "4642 minogue kylie kylie christmas --> 4643 minogue kylie the best of\n",
      "========\n",
      "40 --> 40\n",
      "18979 соломенная шляпка rem --> 18980 соломенная шляпка регион\n",
      "========\n",
      "77 --> 77\n",
      "566 1с образовательная коллекция веселые правила дорожного движения развивающие игры для детей jewel --> 17704 правила дорожного движения 2011 jewel\n",
      "========\n",
      "40 --> 40\n",
      "8760 белорусский вокзал rem --> 8761 белорусский вокзал регион\n",
      "========\n",
      "40 --> 40\n",
      "16976 переправа часть 2 --> 16975 переправа часть 1\n",
      "========\n",
      "55 --> 55\n",
      "12890 крематорий легенды русского рока 1 фирм --> 12891 крематорий легенды русского рока 2 фирм\n",
      "========\n",
      "47 --> 47\n",
      "14959 манга врата штейна том 3 --> 14957 манга врата штейна том 1\n",
      "========\n",
      "77 --> 77\n",
      "640 1с образовательная коллекция профессор хиггинс русский без акцента версия 6 5 jewel --> 638 1с образовательная коллекция профессор хиггинс английский без акцента версия 6 5 jewel\n",
      "========\n",
      "40 --> 40\n",
      "17030 пиковая дама rem --> 22158 яма rem\n",
      "========\n",
      "40 --> 40\n",
      "19085 старики разбойники rem --> 19086 старики разбойники регион\n",
      "========\n",
      "31 --> 31\n",
      "2722 darksiders franchise pack pc цифровая версия --> 2717 darksiders ii pc цифровая версия\n",
      "========\n",
      "55 --> 55\n",
      "8890 билан дима не молчи --> 8889 билан дима мечтатель\n",
      "========\n",
      "49 --> 49\n",
      "15034 метод материалы 1с зарплата и управление персоналом 8 редакция 3 практика применения в 2015 году --> 15035 метод материалы 1с зарплата и управление персоналом 8 редакция 3 практика применения\n",
      "========\n",
      "61 --> 61\n",
      "21196 футболка payday 2 wolf mask l --> 21197 футболка payday 2 wolf mask m\n",
      "========\n",
      "40 --> 40\n",
      "19155 стюарт литтл регион --> 8904 биттл джюс регион\n",
      "========\n",
      "40 --> 40\n",
      "17117 плохой хороший человек rem --> 21413 хороший плохой злой\n",
      "========\n",
      "61 --> 61\n",
      "21214 футболка starcraft 2 marine m --> 21225 футболка starcraft ii logo черная m\n",
      "========\n",
      "55 --> 55\n",
      "6891 turunen tarja ave maria en plein air --> 6890 turunen tarja act 1 2cd\n",
      "========\n",
      "20 --> 20\n",
      "6903 tales of zestiria ps4 русские субтитры --> 4721 mad max ps4 русские субтитры\n",
      "========\n",
      "40 --> 40\n",
      "19210 супермен 2 --> 9163 бэтмен и супермен м ф регион\n",
      "========\n",
      "36 --> 36\n",
      "13096 карта оплаты windows 750 рублей цифровая версия --> 13093 карта оплаты windows 250 рублей цифровая версия\n",
      "========\n",
      "75 --> 75\n",
      "4925 movavi screen capture 5 box --> 4922 movavi screen capture\n",
      "========\n",
      "78 --> 78\n",
      "15183 модные девчонки украшения своими руками pc цифровая версия --> 10280 вырезаем и играем театр своими руками pc цифровая версия\n",
      "========\n",
      "20 --> 20\n",
      "6996 the talos principle deluxe edition ps4 английская версия --> 2785 destiny limited edition ps4 английская версия\n",
      "========\n",
      "78 --> 78\n",
      "900 1с школа окружающий мир 2 класс pc цифровая версия --> 899 1с школа окружающий мир 1 4 кл тесты pc цифровая версия\n",
      "========\n",
      "78 --> 78\n",
      "907 1с школа русский язык литература математика окружающий мир игры и задачи 1 4 классы pc цифровая версия --> 867 1с школа игры и задачи 1 4 классы pc цифровая версия\n",
      "========\n",
      "54 --> 54\n",
      "9111 бух 1с 12 декабрь 2015 цифровая версия --> 9114 бух 1с 12 декабрь 2013 цифровая версия\n",
      "========\n",
      "47 --> 47\n",
      "13209 комикс adventure time вс наоборот --> 13210 комикс adventure time книга 1\n",
      "========\n",
      "55 --> 55\n",
      "5025 newman john revolve --> 5026 newman john tribute\n",
      "========\n",
      "47 --> 47\n",
      "13231 комикс бесобой том 4 балор --> 13229 комикс бесобой том 1 имя ему бесобой\n",
      "========\n",
      "31 --> 31\n",
      "7094 total war attila набор эпоха карла великого pc цифровая версия --> 7088 total war attila pc цифровая версия\n",
      "========\n",
      "55 --> 55\n",
      "5064 noize mc акустика фирм --> 5065 noize mc последний альбом\n",
      "========\n",
      "47 --> 47\n",
      "13257 комикс инок том 4 зверь во мне книга 2 --> 13256 комикс инок том 2 проданная реликвия книга 2\n",
      "========\n",
      "31 --> 31\n",
      "7124 total war warhammer предзаказ pc цифровая версия --> 7100 total war rome ii предзаказ pc цифровая версия\n",
      "========\n",
      "47 --> 47\n",
      "13271 комикс майор гром том 4 как в сказке --> 13268 комикс майор гром том 1 чумной доктор книга 1\n",
      "========\n",
      "47 --> 47\n",
      "13273 комикс манхэттенские проекты том 2 --> 13272 комикс манхэттенские проекты том 1\n",
      "========\n",
      "20 --> 20\n",
      "19417 снупи большое приключение ps4 английская версия --> 7172 ufc ps4 английская версия\n",
      "========\n",
      "47 --> 47\n",
      "13295 комикс сага том 1 --> 13296 комикс сага том 2\n",
      "========\n",
      "47 --> 47\n",
      "13303 комикс скотт пилигрим том 4 скотт пилигрим берется за ум --> 13302 комикс скотт пилигрим том 3 скотт пилигрим и бесконечная печаль\n",
      "========\n",
      "47 --> 47\n",
      "13309 комикс сорвиголова том 2 --> 13308 комикс сорвиголова том 1\n",
      "========\n",
      "67 --> 67\n",
      "5121 nanoblock кенгуру --> 5132 nanoblock кролик\n",
      "========\n",
      "47 --> 47\n",
      "13313 комикс супермен бэтмен том 2 супердевушка --> 13312 комикс супермен бэтмен том 1 враги общества\n",
      "========\n",
      "63 --> 63\n",
      "15418 мягкая игрушка обезьянка вика в носочках 32см --> 15417 мягкая игрушка обезьянка вика в носочках 23см\n",
      "========\n",
      "49 --> 49\n",
      "13392 компл вопр серт экзам по подс междун фин учет в 1с erp уп 2 сист пр 1с пр 8 сентябрь 2015 1с паблишинг --> 13388 компл вопр серт экзам 1с розница 8 сентябрь 2011г 1с паблишинг\n",
      "========\n",
      "15 --> 15\n",
      "13394 комплект microsoft xbox 360 250gb xbox 360 kinect сенсор s7g 00014 --> 13396 комплект microsoft xbox 360 e 250gb xbox 360 kinect сенсор kinect adventures 5cx 00012\n",
      "========\n",
      "63 --> 63\n",
      "15467 мягкая игрушка смеющаяся обезьяна интерактивная --> 15421 мягкая игрушка обезьянка вязаная интерактивная\n",
      "========\n",
      "31 --> 31\n",
      "5248 need for speed rivals ultimate edition pc цифровая версия epay --> 5239 need for speed rivals pc цифровая версия\n",
      "========\n",
      "12 --> 12\n",
      "13445 комплект sony playstation 4 1tb black cuh 1208b дополнительный контроллер черный --> 13449 комплект sony playstation 4 500 gb black cuh 1208a b01 дополнительный контроллер черный\n",
      "========\n",
      "12 --> 12\n",
      "13446 комплект sony playstation 4 1tb black cuh 1208b игра call of duty black ops iii --> 6674 sony playstation 4 1tb black cuh 1208b\n",
      "========\n",
      "12 --> 12\n",
      "13447 комплект sony playstation 4 1tb black cuh 1208b игра star wars battlefront --> 6674 sony playstation 4 1tb black cuh 1208b\n",
      "========\n",
      "24 --> 24\n",
      "5269 need for speed xbox one русская версия --> 5244 need for speed rivals xbox one русская версия\n",
      "========\n",
      "76 --> 76\n",
      "1184 abbyy lingvo x6 многоязычная профессиональная версия full версия для скачивания pc цифровая версия --> 1183 abbyy lingvo x6 многоязычная домашняя версия full версия для скачивания pc цифровая версия\n",
      "========\n",
      "40 --> 40\n",
      "15564 наследники --> 13839 ледник\n",
      "========\n",
      "55 --> 55\n",
      "21708 черный кофе легенды русского рока фирм --> 15793 ноль легенды русского рока фирм\n",
      "========\n",
      "55 --> 55\n",
      "1252 adele 25 --> 1249 adele 21\n",
      "========\n",
      "40 --> 40\n",
      "1284 angry birds коллекция мультфильмов сезон 2 том 1 регион --> 12686 коллекция мультфильмов dreamworks колл\n",
      "========\n",
      "31 --> 31\n",
      "3338 fifa 15 pc цифровая версия epay --> 3339 fifa 15 pc цифровая версия\n",
      "========\n",
      "40 --> 40\n",
      "15665 необыкновенное путешествие серафимы --> 16470 обыкновенное чудо регион\n",
      "========\n",
      "31 --> 31\n",
      "9530 в тылу врага 2 штурм полное издание pc цифровая версия --> 9527 в тылу врага 2 штурм pc цифровая версия\n",
      "========\n",
      "55 --> 55\n",
      "9537 ва банкъ легенды русского рока фирм --> 15793 ноль легенды русского рока фирм\n",
      "========\n",
      "31 --> 31\n",
      "1394 alien isolation коллекция pc цифровая версия --> 1385 alien isolation pc цифровая версия\n",
      "========\n",
      "64 --> 64\n",
      "7572 warhammer 40000 miniatures chaos cultists малый набор арт 35 34 --> 7575 warhammer 40000 miniatures chaos space marines малый набор арт 35 31\n",
      "========\n",
      "31 --> 31\n",
      "1434 anno 2205 season pass pc цифровая версия --> 1435 anno 2205 standard edition pc цифровая версия\n",
      "========\n",
      "31 --> 31\n",
      "1436 anno 2205 ultimate edition pc цифровая версия --> 1435 anno 2205 standard edition pc цифровая версия\n",
      "========\n",
      "64 --> 64\n",
      "7592 warhammer 40000 miniatures pathfinder team арт 56 09 --> 7604 warhammer 40000 miniatures tau fire warriors арт 56 06\n",
      "========\n",
      "64 --> 64\n",
      "7607 warhammer accessories citadel base paint set арт 60 22 --> 7609 warhammer accessories citadel shade paint set арт 60 23\n",
      "========\n",
      "76 --> 76\n",
      "5569 promt для ms office только для домашнего использования pc цифровая версия --> 5564 promt professional 10 домашний а р а только для домашнего использования pc цифровая версия\n",
      "========\n",
      "40 --> 40\n",
      "17858 рикки и флэш --> 17859 рикки тикки тави регион\n",
      "========\n",
      "30 --> 30\n",
      "3538 football manager 2016 pc jewel русская версия --> 3530 football manager 2012 pc jewel русская версия\n",
      "========\n",
      "61 --> 61\n",
      "21974 шарф doctor who tardis синий 1 6м --> 18105 рюкзак doctor who tardis синий 50см\n",
      "========\n",
      "40 --> 40\n",
      "11762 золотой фонд отечественного кино владимир высоцкий 4dvd --> 11774 золотой фонд отечественного кино сказки часть 1 4dvd\n",
      "========\n",
      "40 --> 40\n",
      "11764 золотой фонд отечественного кино достоевский ф м экранизации 5dvd rem --> 11768 золотой фонд отечественного кино комедии часть 1 4dvd\n",
      "========\n",
      "55 --> 55\n",
      "7669 winehouse amy amy --> 7672 winehouse amy frank\n",
      "========\n",
      "40 --> 40\n",
      "11765 золотой фонд отечественного кино зимние сказки 4dvd --> 11774 золотой фонд отечественного кино сказки часть 1 4dvd\n",
      "========\n",
      "61 --> 61\n",
      "19966 толстовка batman arkham knight с ушками m --> 19965 толстовка batman arkham knight с ушками l\n",
      "========\n",
      "61 --> 61\n",
      "19973 толстовка minecraft enderman zip up детская черная s 36 38 --> 19972 толстовка minecraft enderman zip up детская черная m 38 40\n",
      "========\n",
      "40 --> 40\n",
      "22022 экипаж rem --> 22020 экипаж\n",
      "========\n",
      "40 --> 40\n",
      "17929 розыгрыш rem --> 8664 барбоскины выпуск 4 розыгрыш регион\n",
      "========\n",
      "40 --> 40\n",
      "22035 элвин и бурундуки 2 --> 22037 элвин и бурундуки 2 р\n",
      "========\n",
      "55 --> 55\n",
      "3604 gomez selena revival --> 3605 gomez selena stars dance\n",
      "========\n",
      "40 --> 40\n",
      "13846 ледниковый период 3 эра динозавров 2dvd ххси --> 13848 ледниковый период 3 эра динозавров м ф регион\n",
      "========\n",
      "3 --> 3\n",
      "5667 ps4 контроллер игровой беспроводной золотой dualshock 4 cont cuh zct1e scee --> 5666 ps4 контроллер игровой беспроводной белый dualshock 4 cont glacier white cuh zct1e scee\n",
      "========\n",
      "31 --> 31\n",
      "1574 assassin s creed синдикат gold edition pc цифровая версия --> 1573 assassin s creed синдикат gold edition предзаказ pc цифровая версия\n",
      "========\n",
      "31 --> 31\n",
      "1575 assassin s creed синдикат season pass pc цифровая версия --> 1576 assassin s creed синдикат standard edition pc цифровая версия\n",
      "========\n",
      "40 --> 40\n",
      "9767 великая --> 9768 великая война колл\n",
      "========\n",
      "55 --> 55\n",
      "3627 gregorian masters of chant x the final chapter --> 3628 gregorian masters chant and chill\n",
      "========\n",
      "31 --> 31\n",
      "7766 warhammer 40 000 dawn of war ii retribution набор кровавых эффектов ridiculously bloody blood pack pc цифровая версия --> 7748 warhammer 40 000 dawn of war ii retribution pc цифровая версия\n",
      "========\n",
      "55 --> 55\n",
      "1683 bjork vulnicura strings --> 1682 bjork vulnicura\n",
      "========\n",
      "40 --> 40\n",
      "11946 иди и смотри rem --> 19075 станционный смотритель rem\n",
      "========\n",
      "64 --> 64\n",
      "16051 настольная игра world of tanks rush последний бой арт 1483 --> 16056 настольная игра world of tanks rush арт 1123\n",
      "========\n",
      "31 --> 31\n",
      "5812 plants vs zombies garden warfare pc цифровая версия epay --> 5818 plants vs zombies garden warfare pc цифровая версия\n",
      "========\n",
      "28 --> 28\n",
      "7862 world of warcraft warlords of draenor дополнение pc jewel русская версия --> 7863 world of warcraft warlords of draenor дополнение pc русская версия\n",
      "========\n",
      "65 --> 65\n",
      "5826 pokemon xy грохочущие небеса блистер --> 5827 pokemon xy двойной блистер\n",
      "========\n",
      "55 --> 55\n",
      "1732 bocelli andrea cinema --> 1730 bocelli andrea bocelli\n",
      "========\n",
      "64 --> 64\n",
      "16095 настольная игра диксит 2 --> 16094 настольная игра диксит 1\n",
      "========\n",
      "64 --> 64\n",
      "16096 настольная игра диксит 3 --> 16094 настольная игра диксит 1\n",
      "========\n",
      "64 --> 64\n",
      "16097 настольная игра диксит 4 --> 16094 настольная игра диксит 1\n",
      "========\n",
      "64 --> 64\n",
      "16099 настольная игра доббль --> 16057 настольная игра рш\n",
      "========\n",
      "40 --> 40\n",
      "9972 воин регион --> 9970 воин\n",
      "========\n",
      "7 --> 7\n",
      "7926 xone беспроводной геймпад для xbox one elite hm3 00005 --> 7925 xone беспроводной геймпад titanfall для xbox one j72 00016\n",
      "========\n",
      "65 --> 65\n",
      "16139 настольная игра кубики историй бэтмен --> 16138 настольная игра кубики историй\n",
      "========\n",
      "65 --> 65\n",
      "16141 настольная игра кубики историй муми тролли --> 16138 настольная игра кубики историй\n",
      "========\n",
      "76 --> 76\n",
      "3867 hetman data recovery pack домашняя версия pc цифровая версия --> 6059 rs data recovery домашняя версия recovery software pc цифровая версия\n",
      "========\n",
      "64 --> 64\n",
      "16157 настольная игра манчкин замес арт 1487 --> 16159 настольная игра манчкин зомби арт 1001\n",
      "========\n",
      "40 --> 40\n",
      "10045 восхождение юпитер регион --> 10042 восхождение юпитер\n",
      "========\n",
      "40 --> 40\n",
      "10054 враг государства 1 регион --> 12055 история государства российского том 1 регион\n",
      "========\n",
      "31 --> 31\n",
      "1867 battlefield 4 premium service pc цифровая версия epay --> 1852 battlefield 4 premium service pc цифровая версия\n",
      "========\n",
      "16 --> 16\n",
      "12117 игровая консоль microsoft xbox one 1tb гибридной памяти с геймпадом elite kg4 00062 --> 13531 комплект предзаказа на консоль microsoft xbox one 1tb гибридной памяти с геймпадом elite цифровая версия\n",
      "========\n",
      "31 --> 31\n",
      "1885 battlefield hardline standard edition pc цифровая версия epay --> 1875 battlefield hardline pc цифровая версия\n",
      "========\n",
      "55 --> 55\n",
      "3984 jarre jean michel electronika 1 the time machine --> 3987 jarre jean michel essential recollection\n",
      "========\n",
      "75 --> 75\n",
      "6066 radmin 3 522 лиц --> 6065 radmin 3 1 лиц\n",
      "========\n",
      "20 --> 20\n",
      "10203 ведьмак 3 дикая охота дополнение каменные сердца код загрузки без диска без карт ps4 русская версия --> 10202 ведьмак 3 дикая охота дополнение каменные сердца код загрузки без диска ps4 русская версия\n",
      "========\n",
      "72 --> 72\n",
      "20461 фигурка diablo diablo pop games 3 75 --> 20463 фигурка diablo iii shadow of diablo 7\n",
      "========\n",
      "58 --> 58\n",
      "8182 аквариум радио африка lp --> 8171 аквариум акустика lp\n",
      "========\n"
     ]
    }
   ],
   "source": [
    "missing_items_ids = set(items.item_id) - set(items.item_id).intersection(set(sales.item_id))\n",
    "nsales = sales.copy()\n",
    "\n",
    "for missing_item_id in missing_items_ids:\n",
    "    missing_item_name, missing_item_cat = items.loc[items['item_id'] == missing_item_id, ['item_name', 'item_category_id']].values[0]\n",
    "    similar_item_names = matches_df.loc[matches_df['left_side'] == missing_item_name, 'right_side'].values\n",
    "    if len(similar_item_names) > 0:\n",
    "        similar_item_name = similar_item_names[0]\n",
    "        similar_item_id, similar_item_cat, status = items.loc[items['item_name'] == similar_item_name, ['item_id', 'item_category_id', 'item_status']].values[0]\n",
    "        if missing_item_cat == similar_item_cat:\n",
    "            similar_item_sales = sales[sales['item_id'] == similar_item_id]\n",
    "            if len(similar_item_sales) > 0:\n",
    "                items.loc[items['item_id'] == missing_item_id, 'item_status'] = status\n",
    "                print(missing_item_cat, '-->', similar_item_cat)\n",
    "                print(missing_item_id, missing_item_name, '-->', similar_item_id, similar_item_name)\n",
    "                missing_item_sales = similar_item_sales.copy()\n",
    "                missing_item_sales.item_id = missing_item_id\n",
    "                nsales = pd.concat([nsales, missing_item_sales], ignore_index = True, sort = False, keys = nsales.columns.values)\n",
    "                print('========')"
   ]
  },
  {
   "cell_type": "code",
   "execution_count": 31,
   "metadata": {
    "colab": {
     "base_uri": "https://localhost:8080/",
     "height": 34
    },
    "colab_type": "code",
    "executionInfo": {
     "elapsed": 1753,
     "status": "ok",
     "timestamp": 1568520278354,
     "user": {
      "displayName": "BA22",
      "photoUrl": "",
      "userId": "02603670721502132211"
     },
     "user_tz": -120
    },
    "id": "Miw7nQLr2BQY",
    "outputId": "417b5d96-a638-4a72-e3f6-f59e86a19c01"
   },
   "outputs": [
    {
     "name": "stdout",
     "output_type": "stream",
     "text": [
      "Remaining missing items  216\n"
     ]
    }
   ],
   "source": [
    "print('Remaining missing items ', len(set(items.item_id) - set(items.item_id).intersection(set(nsales.item_id))))"
   ]
  },
  {
   "cell_type": "markdown",
   "metadata": {
    "colab_type": "text",
    "id": "DXYXktY-VMdl"
   },
   "source": [
    "### Give missing items median of the sales of items in the same shop and category"
   ]
  },
  {
   "cell_type": "code",
   "execution_count": 0,
   "metadata": {
    "colab": {},
    "colab_type": "code",
    "id": "P8V3f6VYR138"
   },
   "outputs": [],
   "source": [
    "aggs = {'item_cnt_day': 'median', 'item_id': 'count', 'item_price': 'median', }\n",
    "gb = sales.groupby(['item_category_id', 'date_block_num', 'shop_id', 'date']).agg(aggs).reset_index()"
   ]
  },
  {
   "cell_type": "code",
   "execution_count": 0,
   "metadata": {
    "colab": {},
    "colab_type": "code",
    "id": "UZbETCbnNA7Y"
   },
   "outputs": [],
   "source": [
    "missing_items_ids = set(items.item_id) - set(items.item_id).intersection(set(nsales.item_id))\n",
    "for missing_items_id in missing_items_ids:\n",
    "    missing_items_cat = items.loc[items['item_id'] == missing_items_id, 'item_category_id'].values[0]\n",
    "    missing_item_sales = gb[gb['item_category_id'] == missing_items_cat].copy()\n",
    "    missing_item_sales.loc[:, 'item_id'] = missing_items_id\n",
    "    nsales = pd.concat([nsales, missing_item_sales], ignore_index = True, sort = False, keys = nsales.columns.values)"
   ]
  },
  {
   "cell_type": "code",
   "execution_count": 34,
   "metadata": {
    "colab": {
     "base_uri": "https://localhost:8080/",
     "height": 34
    },
    "colab_type": "code",
    "executionInfo": {
     "elapsed": 2708,
     "status": "ok",
     "timestamp": 1568520364295,
     "user": {
      "displayName": "BA22",
      "photoUrl": "",
      "userId": "02603670721502132211"
     },
     "user_tz": -120
    },
    "id": "e9rpnc6WSffI",
    "outputId": "899a069b-cdae-4792-b2b4-ed128acca34b"
   },
   "outputs": [
    {
     "name": "stdout",
     "output_type": "stream",
     "text": [
      "Remaining missing items  0\n"
     ]
    }
   ],
   "source": [
    "print('Remaining missing items ', len(set(items.item_id) - set(items.item_id).intersection(set(nsales.item_id))))"
   ]
  },
  {
   "cell_type": "markdown",
   "metadata": {
    "colab_type": "text",
    "id": "dQGPzXFk36a2"
   },
   "source": [
    "### update outdated info"
   ]
  },
  {
   "cell_type": "code",
   "execution_count": 35,
   "metadata": {
    "colab": {
     "base_uri": "https://localhost:8080/",
     "height": 34
    },
    "colab_type": "code",
    "executionInfo": {
     "elapsed": 2550,
     "status": "ok",
     "timestamp": 1568520392058,
     "user": {
      "displayName": "BA22",
      "photoUrl": "",
      "userId": "02603670721502132211"
     },
     "user_tz": -120
    },
    "id": "2dY1OTAV3-_3",
    "outputId": "f5c9eb06-3188-490c-c3e0-42fdc2bf22d5"
   },
   "outputs": [
    {
     "name": "stdout",
     "output_type": "stream",
     "text": [
      "1 seconds\n"
     ]
    }
   ],
   "source": [
    "start = time.time()\n",
    "\n",
    "nitems_prices = create_target_for_attribute(nsales, 'item_id', 'item_price', 'date_block_num', aggfunc = np.median, fill = np.nan)\n",
    "\n",
    "\n",
    "print(round(time.time() - start), 'seconds')"
   ]
  },
  {
   "cell_type": "code",
   "execution_count": 43,
   "metadata": {
    "colab": {
     "base_uri": "https://localhost:8080/",
     "height": 119
    },
    "colab_type": "code",
    "executionInfo": {
     "elapsed": 1310,
     "status": "ok",
     "timestamp": 1568521242437,
     "user": {
      "displayName": "BA22",
      "photoUrl": "",
      "userId": "02603670721502132211"
     },
     "user_tz": -120
    },
    "id": "VWYblorE4Vyv",
    "outputId": "53d9f378-906d-40ce-f444-9ca5cf8c4463"
   },
   "outputs": [
    {
     "name": "stdout",
     "output_type": "stream",
     "text": [
      "shops in train set:  55  out of 55\n",
      "Outdated shops in train set:  12.73 %\n",
      "items in train set:  21806  out of 22170\n",
      "Outdated items in train set:  56.84 %\n",
      "categories in train set:  84  out of 84\n",
      "Outdated categories in train set:  20.24 %\n"
     ]
    }
   ],
   "source": [
    "outdated_shops = shops_sales[shops_sales.loc[:, outdated_limit:].sum(axis = 1) <= 0]\n",
    "print('shops in train set: ', len(shops_sales), ' out of', len(shops))\n",
    "print('Outdated shops in train set: ',  round(100 * len(outdated_shops) / len(shops_sales), 2), '%',)\n",
    "shops['shop_status'] = 'unknown'\n",
    "shops.loc[shops['shop_id'].isin(outdated_shops['shop_id']), 'shop_status'] = 'deactive'\n",
    "active_shops =  shops_sales[shops_sales.loc[:, outdated_limit:].sum(axis = 1) > 0]\n",
    "shops.loc[shops['shop_id'].isin(active_shops['shop_id']), 'shop_status'] = 'active'\n",
    "\n",
    "outdated_items = items_sales[items_sales.loc[:, outdated_limit:].sum(axis = 1) <= 0]\n",
    "print('items in train set: ', len(items_sales), ' out of', len(items))\n",
    "print('Outdated items in train set: ',  round( 100 * len(outdated_items) / len(items_sales), 2), '%', )\n",
    "items['item_status'] = 'unknown'\n",
    "items.loc[items['item_id'].isin(outdated_items['item_id']), 'item_status'] = 'deactive'\n",
    "active_items =  items_sales[items_sales.loc[:, outdated_limit:].sum(axis = 1) > 0]\n",
    "items.loc[items['item_id'].isin(active_items['item_id']), 'item_status'] = 'active'\n",
    "\n",
    "outdated_categories = categories_sales[categories_sales.loc[:, outdated_limit:].sum(axis = 1) <= 0]\n",
    "print('categories in train set: ', len(categories_sales), ' out of', len(categories))\n",
    "print('Outdated categories in train set: ',  round( 100 * len(outdated_categories) / len(categories_sales), 2), '%', )\n",
    "\n",
    "categories['item_category_status'] = 'unknown'\n",
    "categories.loc[categories['item_category_id'].isin(outdated_categories['item_category_id']), 'item_category_status'] = 'deactive'\n",
    "\n",
    "active_categories = categories_sales[categories_sales.loc[:, outdated_limit:].sum(axis = 1) > 0]\n",
    "categories.loc[categories['item_category_id'].isin(active_categories['item_category_id']), 'item_category_status'] = 'active'"
   ]
  },
  {
   "cell_type": "markdown",
   "metadata": {
    "colab_type": "text",
    "id": "oMHUiV44URF3"
   },
   "source": [
    "#### save results"
   ]
  },
  {
   "cell_type": "code",
   "execution_count": 0,
   "metadata": {
    "colab": {},
    "colab_type": "code",
    "id": "Muy4plzXUXcW"
   },
   "outputs": [],
   "source": [
    "outdated_shops.to_pickle(data_path + 'outdated_shops.pkl')\n",
    "outdated_items.to_pickle(data_path + 'outdated_items.pkl')\n",
    "outdated_categories.to_pickle(data_path + 'outdated_categories.pkl')"
   ]
  },
  {
   "cell_type": "markdown",
   "metadata": {
    "colab_type": "text",
    "id": "WbZW8cTnaTXK"
   },
   "source": [
    "## stats"
   ]
  },
  {
   "cell_type": "code",
   "execution_count": 45,
   "metadata": {
    "colab": {
     "base_uri": "https://localhost:8080/",
     "height": 51
    },
    "colab_type": "code",
    "executionInfo": {
     "elapsed": 1286,
     "status": "ok",
     "timestamp": 1568521289268,
     "user": {
      "displayName": "BA22",
      "photoUrl": "",
      "userId": "02603670721502132211"
     },
     "user_tz": -120
    },
    "id": "zzF9Ee-EX21l",
    "outputId": "c7d33966-b3d9-4b26-fbc8-97ed5848d16f"
   },
   "outputs": [
    {
     "name": "stdout",
     "output_type": "stream",
     "text": [
      "Outdated items in test set: 164 out of 5100\n",
      "Outdated shops in test set: 0 out of 42\n"
     ]
    }
   ],
   "source": [
    "test_outdated_items = test[test['item_id'].isin(outdated_items['item_id'])]\n",
    "test_outdated_items_number = test_outdated_items['item_id'].nunique()\n",
    "print('Outdated items in test set:', test_outdated_items_number, 'out of', test.item_id.nunique())\n",
    "\n",
    "test_outdated_shops = test.loc[test['shop_id'].isin(outdated_shops['shop_id'])]['shop_id'].nunique()\n",
    "print('Outdated shops in test set:',test_outdated_shops, 'out of', test.shop_id.nunique())"
   ]
  },
  {
   "cell_type": "code",
   "execution_count": 46,
   "metadata": {
    "colab": {
     "base_uri": "https://localhost:8080/",
     "height": 34
    },
    "colab_type": "code",
    "executionInfo": {
     "elapsed": 1305,
     "status": "ok",
     "timestamp": 1568521305723,
     "user": {
      "displayName": "BA22",
      "photoUrl": "",
      "userId": "02603670721502132211"
     },
     "user_tz": -120
    },
    "id": "UEzeS3rlRevG",
    "outputId": "8f303c00-e6c5-41bd-dda6-41272ecb2243"
   },
   "outputs": [
    {
     "name": "stdout",
     "output_type": "stream",
     "text": [
      "Outdated shops/items pairs in train set:  74.23 %\n"
     ]
    }
   ],
   "source": [
    "outdated_pairs = shops_items_trans[shops_items_trans.loc[:, outdated_limit:].sum(axis = 1) == 0]\n",
    "print('Outdated shops/items pairs in train set: ',  round(100 * len(outdated_pairs) / len(shops_items_trans), 2), '%',)"
   ]
  },
  {
   "cell_type": "markdown",
   "metadata": {
    "colab_type": "text",
    "id": "ANnvma1auJBS"
   },
   "source": [
    "## Generating feature from item_name"
   ]
  },
  {
   "cell_type": "code",
   "execution_count": 0,
   "metadata": {
    "colab": {},
    "colab_type": "code",
    "id": "RmIuGXtwh2GF"
   },
   "outputs": [],
   "source": [
    "items[['item_type',\t'item_subtype']] = items[['item_type',\t'item_subtype']].fillna('unknown')"
   ]
  },
  {
   "cell_type": "code",
   "execution_count": 48,
   "metadata": {
    "colab": {
     "base_uri": "https://localhost:8080/",
     "height": 34
    },
    "colab_type": "code",
    "executionInfo": {
     "elapsed": 1860,
     "status": "ok",
     "timestamp": 1568521335686,
     "user": {
      "displayName": "BA22",
      "photoUrl": "",
      "userId": "02603670721502132211"
     },
     "user_tz": -120
    },
    "id": "2bQkkJCCgHVf",
    "outputId": "92142bf1-8905-4427-fed4-c6968cf5ce84"
   },
   "outputs": [
    {
     "name": "stdout",
     "output_type": "stream",
     "text": [
      "features count:  26\n"
     ]
    }
   ],
   "source": [
    "from collections import Counter\n",
    "from operator import itemgetter\n",
    "\n",
    "strings = items['item_type'].values.tolist() + items['item_subtype'].values.tolist()\n",
    "features = Counter(' '.join(strings).split(' ')).items()\n",
    "features = sorted(features, key = itemgetter(1))\n",
    "features = pd.DataFrame(features, columns=['feature', 'count'])\n",
    "features = features[(features['feature'].str.len() > 1) & (features['count'] > 150)]\n",
    "\n",
    "features = features.drop_duplicates(subset=['feature'])\n",
    "\n",
    "print('features count: ', len(features))"
   ]
  },
  {
   "cell_type": "code",
   "execution_count": 0,
   "metadata": {
    "colab": {},
    "colab_type": "code",
    "id": "nbYl2EnPXyN7"
   },
   "outputs": [],
   "source": [
    "items['item_maintype'] = np.nan"
   ]
  },
  {
   "cell_type": "code",
   "execution_count": 0,
   "metadata": {
    "colab": {},
    "colab_type": "code",
    "id": "moCxdbzzjZbW"
   },
   "outputs": [],
   "source": [
    "for feature in features['feature']:\n",
    "    items.loc[items['item_name'].str.contains(feature), 'item_maintype'] = feature"
   ]
  },
  {
   "cell_type": "code",
   "execution_count": 0,
   "metadata": {
    "colab": {},
    "colab_type": "code",
    "id": "uW7o4CXnlYyO"
   },
   "outputs": [],
   "source": [
    "items['item_maintype'] = items['item_maintype'].fillna('unknown')"
   ]
  },
  {
   "cell_type": "code",
   "execution_count": 53,
   "metadata": {
    "colab": {
     "base_uri": "https://localhost:8080/",
     "height": 425
    },
    "colab_type": "code",
    "executionInfo": {
     "elapsed": 928,
     "status": "ok",
     "timestamp": 1568521368131,
     "user": {
      "displayName": "BA22",
      "photoUrl": "",
      "userId": "02603670721502132211"
     },
     "user_tz": -120
    },
    "id": "URZLGXcykdmj",
    "outputId": "91209209-e8f1-496f-f230-790541ccbab3"
   },
   "outputs": [
    {
     "data": {
      "text/plain": [
       "unknown       9224\n",
       "версия        3515\n",
       "bd            2279\n",
       "регион        1848\n",
       "cd            1050\n",
       "jewel          761\n",
       "dvd            669\n",
       "фирм           544\n",
       "pc             529\n",
       "русская        286\n",
       "xbox           283\n",
       "rem            254\n",
       "ps3            230\n",
       "digipack       169\n",
       "ps             157\n",
       "3d             124\n",
       "box             97\n",
       "субтитры        66\n",
       "mp3             51\n",
       "360             20\n",
       "русские          9\n",
       "цифровая         4\n",
       "essentials       1\n",
       "Name: item_maintype, dtype: int64"
      ]
     },
     "execution_count": 53,
     "metadata": {
      "tags": []
     },
     "output_type": "execute_result"
    }
   ],
   "source": [
    "items['item_maintype'].value_counts()"
   ]
  },
  {
   "cell_type": "code",
   "execution_count": 0,
   "metadata": {
    "colab": {},
    "colab_type": "code",
    "id": "3kFH6PYi3NRa"
   },
   "outputs": [],
   "source": [
    "items = items.drop(columns = ['item_type', 'item_subtype'], axis = 'columns')"
   ]
  },
  {
   "cell_type": "markdown",
   "metadata": {
    "colab_type": "text",
    "id": "qwLAspPygJuD"
   },
   "source": [
    "## Trend and seasonality"
   ]
  },
  {
   "cell_type": "markdown",
   "metadata": {
    "colab_type": "text",
    "id": "tMdNQnpzgNky"
   },
   "source": [
    "Any time-series signal can be expressed as:\n",
    "\n",
    "ts = tend + seanonality + noise\n",
    "\n",
    "**tend**: is the signal's amplitude inceasing or decreasing.\n",
    "\n",
    "**seasonality**: variations in the signal's amplitude that occurs at certain point at time (at holiday season, sales increase every year)\n",
    "\n",
    "\n",
    "Before feeding time-series data to the machine, we should remove the trend and seasonality for those reasons:\n",
    "- machines like to work with data that have constant mean and variance over time\n",
    "- by removing the trend and seasonality, we make the mapping task between the dependent varaibles and the target more easier for machine. In other words, there is no need for the machine to learn extra infomation(trend and seasonality)in order to predict the target. It is enough and easier to learn how the noise in the singnal influence the target\n",
    "- Trend and seasonality rely on time, by removing them we make data independent from time and that makes prediction task more easier\n",
    "\n"
   ]
  },
  {
   "cell_type": "code",
   "execution_count": 0,
   "metadata": {
    "colab": {
     "base_uri": "https://localhost:8080/",
     "height": 441
    },
    "colab_type": "code",
    "executionInfo": {
     "elapsed": 1694,
     "status": "ok",
     "timestamp": 1568339748898,
     "user": {
      "displayName": "BA22",
      "photoUrl": "",
      "userId": "02603670721502132211"
     },
     "user_tz": -120
    },
    "id": "iFNFFA9HpBIy",
    "outputId": "1d596129-8aaa-41fc-f608-37bf54a65efe"
   },
   "outputs": [
    {
     "data": {
      "image/png": "[encoded data removed]",
      "text/plain": [
       "<Figure size 576x432 with 4 Axes>"
      ]
     },
     "metadata": {
      "tags": []
     },
     "output_type": "display_data"
    }
   ],
   "source": [
    "shop_7 = shops_sales[shops_sales['shop_id'] == 7]\n",
    "shop_7 = shop_7.loc[:, '0':].T\n",
    "decomposition = seasonal_decompose(shop_7, freq = 12, two_sided = False)\n",
    "trend = decomposition.trend\n",
    "seasonal = decomposition.seasonal\n",
    "residual = decomposition.resid\n",
    "\n",
    "plt.subplot(411)\n",
    "plt.plot(shop_7, label='Shop 7 sales')\n",
    "plt.legend(loc='best')\n",
    "plt.subplot(412)\n",
    "plt.plot(trend, label='Trend')\n",
    "plt.legend(loc='best')\n",
    "plt.subplot(413)\n",
    "plt.plot(seasonal,label='Seasonality')\n",
    "plt.legend(loc='best')\n",
    "plt.subplot(414)\n",
    "plt.plot(residual, label='Residuals')\n",
    "plt.legend(loc='best')\n",
    "plt.tight_layout()"
   ]
  },
  {
   "cell_type": "markdown",
   "metadata": {
    "colab_type": "text",
    "id": "8B4ItUeIwnx2"
   },
   "source": [
    "Any method that we use to estimate trend and seanonality in the data requires to throw away historical data. By example: to find the trend and seasonality for shop 7 sales, we needed to throw away data of the first year.\n"
   ]
  },
  {
   "cell_type": "markdown",
   "metadata": {
    "colab_type": "text",
    "id": "ulYtCHvHmflJ"
   },
   "source": [
    "**Notes**\n",
    "- Not all pairs(shop/item) have trend or seasonality (it is hard to analyse all pairs manually by ploting their sales)\n",
    "- lots of shops start selling late and lots of items start to be sold also late. This means first year of data is not enough to estimate accuretly those measures"
   ]
  },
  {
   "cell_type": "markdown",
   "metadata": {
    "colab_type": "text",
    "id": "L9FsCtbCo-BC"
   },
   "source": [
    "### shop/item sales"
   ]
  },
  {
   "cell_type": "code",
   "execution_count": 0,
   "metadata": {
    "colab": {
     "base_uri": "https://localhost:8080/",
     "height": 510
    },
    "colab_type": "code",
    "executionInfo": {
     "elapsed": 2889,
     "status": "ok",
     "timestamp": 1568339848776,
     "user": {
      "displayName": "BA22",
      "photoUrl": "",
      "userId": "02603670721502132211"
     },
     "user_tz": -120
    },
    "id": "x-QDj1Dfwmsl",
    "outputId": "16f86cc6-dd55-496d-cc9b-451ee794f555"
   },
   "outputs": [
    {
     "name": "stdout",
     "output_type": "stream",
     "text": [
      "Until month:  5 ,  56.85 %, Item/Shops Pairs have made No sales\n",
      "Until month:  6 ,  53.64 %, Item/Shops Pairs have made No sales\n",
      "Until month:  7 ,  50.63 %, Item/Shops Pairs have made No sales\n",
      "Until month:  8 ,  48.04 %, Item/Shops Pairs have made No sales\n",
      "Until month:  9 ,  45.2 %, Item/Shops Pairs have made No sales\n",
      "Until month:  10 ,  42.31 %, Item/Shops Pairs have made No sales\n",
      "Until month:  11 ,  38.64 %, Item/Shops Pairs have made No sales\n",
      "Until month:  12 ,  36.79 %, Item/Shops Pairs have made No sales\n",
      "Until month:  13 ,  34.89 %, Item/Shops Pairs have made No sales\n",
      "Until month:  14 ,  32.67 %, Item/Shops Pairs have made No sales\n",
      "Until month:  15 ,  30.55 %, Item/Shops Pairs have made No sales\n",
      "Until month:  16 ,  28.46 %, Item/Shops Pairs have made No sales\n",
      "Until month:  17 ,  26.6 %, Item/Shops Pairs have made No sales\n",
      "Until month:  18 ,  24.86 %, Item/Shops Pairs have made No sales\n",
      "Until month:  19 ,  23.02 %, Item/Shops Pairs have made No sales\n",
      "Until month:  20 ,  21.14 %, Item/Shops Pairs have made No sales\n",
      "Until month:  21 ,  19.02 %, Item/Shops Pairs have made No sales\n",
      "Until month:  22 ,  16.56 %, Item/Shops Pairs have made No sales\n",
      "Until month:  23 ,  13.43 %, Item/Shops Pairs have made No sales\n",
      "Until month:  24 ,  12.09 %, Item/Shops Pairs have made No sales\n",
      "Until month:  25 ,  10.72 %, Item/Shops Pairs have made No sales\n",
      "Until month:  26 ,  9.19 %, Item/Shops Pairs have made No sales\n",
      "Until month:  27 ,  7.88 %, Item/Shops Pairs have made No sales\n",
      "Until month:  28 ,  6.68 %, Item/Shops Pairs have made No sales\n",
      "Until month:  29 ,  5.49 %, Item/Shops Pairs have made No sales\n",
      "Until month:  30 ,  4.28 %, Item/Shops Pairs have made No sales\n",
      "Until month:  31 ,  3.0 %, Item/Shops Pairs have made No sales\n",
      "Until month:  32 ,  1.77 %, Item/Shops Pairs have made No sales\n",
      "Until month:  33 ,  0.0 %, Item/Shops Pairs have made No sales\n"
     ]
    }
   ],
   "source": [
    "for month in range(5, 34):\n",
    "    pairs = shops_items_trans[shops_items_trans.loc[:,'0': str(month)].sum(axis=1) == 0]\n",
    "    percent = round(100 * len(pairs) / len(shops_items_trans), 2)\n",
    "    print('Until month: ', month, ', ', percent, '%, Item/Shops Pairs have made No sales')"
   ]
  },
  {
   "cell_type": "code",
   "execution_count": 0,
   "metadata": {
    "colab": {
     "base_uri": "https://localhost:8080/",
     "height": 441
    },
    "colab_type": "code",
    "executionInfo": {
     "elapsed": 2055,
     "status": "ok",
     "timestamp": 1568339853742,
     "user": {
      "displayName": "BA22",
      "photoUrl": "",
      "userId": "02603670721502132211"
     },
     "user_tz": -120
    },
    "id": "w5OKEAnT1d6o",
    "outputId": "d8c00277-5a43-4596-e03d-fb7243d1f547"
   },
   "outputs": [
    {
     "data": {
      "image/png": "[encoded data removed]",
      "text/plain": [
       "<Figure size 576x432 with 4 Axes>"
      ]
     },
     "metadata": {
      "tags": []
     },
     "output_type": "display_data"
    }
   ],
   "source": [
    "shop_item = shops_items_sales[shops_items_sales['shop_id'] == 7].sample(1)\n",
    "shop_item_sale = shop_item.loc[:, '0':].T\n",
    "decomposition = seasonal_decompose(shop_item_sale, freq = 6, two_sided = False, extrapolate_trend = 6)\n",
    "trend = decomposition.trend\n",
    "seasonal = decomposition.seasonal\n",
    "residual = decomposition.resid\n",
    "\n",
    "plt.subplot(411)\n",
    "plt.plot(shop_item_sale, label='Shop = 7, item =' + str(shop_item['item_id'].values[0]))\n",
    "plt.legend(loc='best')\n",
    "plt.subplot(412)\n",
    "plt.plot(trend, label='Trend')\n",
    "plt.legend(loc='best')\n",
    "plt.subplot(413)\n",
    "plt.plot(seasonal,label='Seasonality')\n",
    "plt.legend(loc='best')\n",
    "plt.subplot(414)\n",
    "plt.plot(residual, label='Residuals')\n",
    "plt.legend(loc='best')\n",
    "plt.tight_layout()"
   ]
  },
  {
   "cell_type": "code",
   "execution_count": 0,
   "metadata": {
    "colab": {},
    "colab_type": "code",
    "id": "9TtXgd43Zzqi"
   },
   "outputs": [],
   "source": [
    "dt_shops_items_sales = detrend_df_sales(shops_items_sales).T\n",
    "nshops_items_sales = shops_items_sales.loc[:, ['shop_id', 'item_id']]\n",
    "nshops_items_sales = pd.concat([nshops_items_sales, dt_shops_items_sales], axis = 1)"
   ]
  },
  {
   "cell_type": "markdown",
   "metadata": {
    "colab_type": "text",
    "id": "ub75sfyQ2UN5"
   },
   "source": [
    "### Items sales"
   ]
  },
  {
   "cell_type": "code",
   "execution_count": 0,
   "metadata": {
    "colab": {
     "base_uri": "https://localhost:8080/",
     "height": 510
    },
    "colab_type": "code",
    "executionInfo": {
     "elapsed": 422,
     "status": "ok",
     "timestamp": 1568339874527,
     "user": {
      "displayName": "BA22",
      "photoUrl": "",
      "userId": "02603670721502132211"
     },
     "user_tz": -120
    },
    "id": "QPmOzlZi2ZD8",
    "outputId": "f0b0414a-8ae6-463d-8247-c5687feafec2"
   },
   "outputs": [
    {
     "name": "stdout",
     "output_type": "stream",
     "text": [
      "Until month:  5 ,  44.9 %, Items have made No sales\n",
      "Until month:  6 ,  42.87 %, Items have made No sales\n",
      "Until month:  7 ,  40.75 %, Items have made No sales\n",
      "Until month:  8 ,  39.02 %, Items have made No sales\n",
      "Until month:  9 ,  36.05 %, Items have made No sales\n",
      "Until month:  10 ,  33.78 %, Items have made No sales\n",
      "Until month:  11 ,  31.36 %, Items have made No sales\n",
      "Until month:  12 ,  30.42 %, Items have made No sales\n",
      "Until month:  13 ,  28.87 %, Items have made No sales\n",
      "Until month:  14 ,  27.47 %, Items have made No sales\n",
      "Until month:  15 ,  26.02 %, Items have made No sales\n",
      "Until month:  16 ,  24.84 %, Items have made No sales\n",
      "Until month:  17 ,  23.69 %, Items have made No sales\n",
      "Until month:  18 ,  22.24 %, Items have made No sales\n",
      "Until month:  19 ,  21.11 %, Items have made No sales\n",
      "Until month:  20 ,  19.57 %, Items have made No sales\n",
      "Until month:  21 ,  17.03 %, Items have made No sales\n",
      "Until month:  22 ,  14.94 %, Items have made No sales\n",
      "Until month:  23 ,  12.79 %, Items have made No sales\n",
      "Until month:  24 ,  11.9 %, Items have made No sales\n",
      "Until month:  25 ,  10.87 %, Items have made No sales\n",
      "Until month:  26 ,  9.28 %, Items have made No sales\n",
      "Until month:  27 ,  8.07 %, Items have made No sales\n",
      "Until month:  28 ,  7.04 %, Items have made No sales\n",
      "Until month:  29 ,  5.9 %, Items have made No sales\n",
      "Until month:  30 ,  4.94 %, Items have made No sales\n",
      "Until month:  31 ,  3.62 %, Items have made No sales\n",
      "Until month:  32 ,  2.22 %, Items have made No sales\n",
      "Until month:  33 ,  0.0 %, Items have made No sales\n"
     ]
    }
   ],
   "source": [
    "for month in range(5, 34):\n",
    "    items_temp = items_trans[items_trans.loc[:,'0': str(month)].sum(axis=1) == 0]\n",
    "    percent = round(100 * len(items_temp) / len(items_trans), 2)\n",
    "    print('Until month: ', month, ', ', percent, '%, Items have made No sales')"
   ]
  },
  {
   "cell_type": "code",
   "execution_count": 0,
   "metadata": {
    "colab": {
     "base_uri": "https://localhost:8080/",
     "height": 441
    },
    "colab_type": "code",
    "executionInfo": {
     "elapsed": 1904,
     "status": "ok",
     "timestamp": 1568339880571,
     "user": {
      "displayName": "BA22",
      "photoUrl": "",
      "userId": "02603670721502132211"
     },
     "user_tz": -120
    },
    "id": "qZO3gJGk2sY6",
    "outputId": "1bd2d8f6-b552-481f-bda3-bc1e53c0a7ed"
   },
   "outputs": [
    {
     "data": {
      "image/png": "[encoded data removed]",
      "text/plain": [
       "<Figure size 576x432 with 4 Axes>"
      ]
     },
     "metadata": {
      "tags": []
     },
     "output_type": "display_data"
    }
   ],
   "source": [
    "item_temp = items_sales.nlargest(50, columns = [str(itr) for itr in np.arange(27, 34)]).sample(1)\n",
    "#item = items_sales.sample(1)\n",
    "item_temp_sales = item_temp.loc[:, '0':].T\n",
    "decomposition = seasonal_decompose(item_temp_sales, freq = 12, two_sided = False, extrapolate_trend = 0)\n",
    "trend = decomposition.trend\n",
    "seasonal = decomposition.seasonal\n",
    "residual = decomposition.resid\n",
    "\n",
    "plt.subplot(411)\n",
    "plt.plot(item_temp_sales, label='item =' + str(item_temp['item_id'].values[0]))\n",
    "plt.legend(loc='best')\n",
    "plt.subplot(412)\n",
    "plt.plot(trend, label='Trend')\n",
    "plt.legend(loc='best')\n",
    "plt.subplot(413)\n",
    "plt.plot(seasonal,label='Seasonality')\n",
    "plt.legend(loc='best')\n",
    "plt.subplot(414)\n",
    "plt.plot(residual, label='Residuals')\n",
    "plt.legend(loc='best')\n",
    "plt.tight_layout()"
   ]
  },
  {
   "cell_type": "markdown",
   "metadata": {
    "colab_type": "text",
    "id": "YKkwdJhV2YAK"
   },
   "source": [
    "Although the lake of data about item sales. But we can detrend and deseasonlize their sales. We assume that although the randomness of demand on items but there is lots of items that people buy in certain time of the year and in general all items are sold less than before."
   ]
  },
  {
   "cell_type": "code",
   "execution_count": 0,
   "metadata": {
    "colab": {},
    "colab_type": "code",
    "id": "i69f0DQ_ZyZ4"
   },
   "outputs": [],
   "source": [
    "dt_items_sales = detrend_df_sales(items_sales).T\n",
    "nitems_sales = items_sales.loc[:, 'item_id']\n",
    "nitems_sales = pd.concat([nitems_sales, dt_items_sales], axis = 1)"
   ]
  },
  {
   "cell_type": "markdown",
   "metadata": {
    "colab_type": "text",
    "id": "x7pNRPmD6ciJ"
   },
   "source": [
    "### shops sales"
   ]
  },
  {
   "cell_type": "code",
   "execution_count": 0,
   "metadata": {
    "colab": {
     "base_uri": "https://localhost:8080/",
     "height": 510
    },
    "colab_type": "code",
    "executionInfo": {
     "elapsed": 426,
     "status": "ok",
     "timestamp": 1568339902698,
     "user": {
      "displayName": "BA22",
      "photoUrl": "",
      "userId": "02603670721502132211"
     },
     "user_tz": -120
    },
    "id": "stncx_KU6gO1",
    "outputId": "b97dab9f-aed3-45c5-ce01-7d445645913f"
   },
   "outputs": [
    {
     "name": "stdout",
     "output_type": "stream",
     "text": [
      "Until month:  5 ,  14.55 %, Items have made No sales\n",
      "Until month:  6 ,  14.55 %, Items have made No sales\n",
      "Until month:  7 ,  14.55 %, Items have made No sales\n",
      "Until month:  8 ,  14.55 %, Items have made No sales\n",
      "Until month:  9 ,  12.73 %, Items have made No sales\n",
      "Until month:  10 ,  12.73 %, Items have made No sales\n",
      "Until month:  11 ,  10.91 %, Items have made No sales\n",
      "Until month:  12 ,  10.91 %, Items have made No sales\n",
      "Until month:  13 ,  10.91 %, Items have made No sales\n",
      "Until month:  14 ,  9.09 %, Items have made No sales\n",
      "Until month:  15 ,  7.27 %, Items have made No sales\n",
      "Until month:  16 ,  7.27 %, Items have made No sales\n",
      "Until month:  17 ,  7.27 %, Items have made No sales\n",
      "Until month:  18 ,  5.45 %, Items have made No sales\n",
      "Until month:  19 ,  3.64 %, Items have made No sales\n",
      "Until month:  20 ,  3.64 %, Items have made No sales\n",
      "Until month:  21 ,  1.82 %, Items have made No sales\n",
      "Until month:  22 ,  1.82 %, Items have made No sales\n",
      "Until month:  23 ,  1.82 %, Items have made No sales\n",
      "Until month:  24 ,  1.82 %, Items have made No sales\n",
      "Until month:  25 ,  1.82 %, Items have made No sales\n",
      "Until month:  26 ,  1.82 %, Items have made No sales\n",
      "Until month:  27 ,  1.82 %, Items have made No sales\n",
      "Until month:  28 ,  1.82 %, Items have made No sales\n",
      "Until month:  29 ,  1.82 %, Items have made No sales\n",
      "Until month:  30 ,  1.82 %, Items have made No sales\n",
      "Until month:  31 ,  1.82 %, Items have made No sales\n",
      "Until month:  32 ,  1.82 %, Items have made No sales\n",
      "Until month:  33 ,  0.0 %, Items have made No sales\n"
     ]
    }
   ],
   "source": [
    "for month in range(5, 34):\n",
    "    shops_temp = shops_trans[shops_trans.loc[:,'0': str(month)].sum(axis=1) == 0]\n",
    "    percent = round(100 * len(shops_temp) / len(shops_trans), 2)\n",
    "    print('Until month: ', month, ', ', percent, '%, Items have made No sales')"
   ]
  },
  {
   "cell_type": "code",
   "execution_count": 0,
   "metadata": {
    "colab": {
     "base_uri": "https://localhost:8080/",
     "height": 441
    },
    "colab_type": "code",
    "executionInfo": {
     "elapsed": 1822,
     "status": "ok",
     "timestamp": 1568339907040,
     "user": {
      "displayName": "BA22",
      "photoUrl": "",
      "userId": "02603670721502132211"
     },
     "user_tz": -120
    },
    "id": "wXRfKhaQ6sZd",
    "outputId": "71eb0631-ee5b-42c9-d143-b9414f0b5c34"
   },
   "outputs": [
    {
     "data": {
      "image/png": "[encoded data removed]",
      "text/plain": [
       "<Figure size 576x432 with 4 Axes>"
      ]
     },
     "metadata": {
      "tags": []
     },
     "output_type": "display_data"
    }
   ],
   "source": [
    "shop_temp = shops_sales.sample(1)\n",
    "shop_temp_sales = shop_temp.loc[:, '0':].T\n",
    "decomposition = seasonal_decompose(shop_temp_sales, freq = 12, two_sided = False, extrapolate_trend = 6)\n",
    "trend = decomposition.trend\n",
    "seasonal = decomposition.seasonal\n",
    "residual = decomposition.resid\n",
    "\n",
    "plt.subplot(411)\n",
    "plt.plot(shop_temp_sales, label='shop = '+str(shop_temp['shop_id'].values[0]))\n",
    "plt.legend(loc='best')\n",
    "plt.subplot(412)\n",
    "plt.plot(trend, label='Trend')\n",
    "plt.legend(loc='best')\n",
    "plt.subplot(413)\n",
    "plt.plot(seasonal,label='Seasonality')\n",
    "plt.legend(loc='best')\n",
    "plt.subplot(414)\n",
    "plt.plot(residual, label='Residuals')\n",
    "plt.legend(loc='best')\n",
    "plt.tight_layout()"
   ]
  },
  {
   "cell_type": "markdown",
   "metadata": {
    "colab_type": "text",
    "id": "zmV9U19769_3"
   },
   "source": [
    "Time series analysis is powerful and by detrending and deseasonalizing the data you throw away unneeded complexity in the data.\n",
    "\n",
    "In our case, we don't have enough sales history to perform such analysis. Indeed if you perform this analysis on the data you get nice score on the training set and validation set but your model will fail to generlize to the test set. The sales history for items/shops is relativly small and as a result the model will overfit miserably since the model will not be able to find general patterns in the noise of the sales data (no enough data)."
   ]
  },
  {
   "cell_type": "code",
   "execution_count": 0,
   "metadata": {
    "colab": {},
    "colab_type": "code",
    "id": "gKkmyOU4ZxXV"
   },
   "outputs": [],
   "source": [
    "dt_shops_sales = detrend_df_sales(shops_sales).T\n",
    "nshops_sales = shops_sales.loc[:, 'shop_id']\n",
    "nshops_sales = pd.concat([nshops_sales, dt_shops_sales], axis = 1)"
   ]
  },
  {
   "cell_type": "markdown",
   "metadata": {
    "colab_type": "text",
    "id": "4PCOhLp6BzF7"
   },
   "source": [
    "## Lag features"
   ]
  },
  {
   "cell_type": "code",
   "execution_count": 0,
   "metadata": {
    "colab": {},
    "colab_type": "code",
    "id": "QZW-RDjHRjzf"
   },
   "outputs": [],
   "source": [
    "from statsmodels.tsa.stattools import acf\n",
    "time_shift = 14"
   ]
  },
  {
   "cell_type": "markdown",
   "metadata": {
    "colab_type": "text",
    "id": "9-68q3iUgYsw"
   },
   "source": [
    "### How much to go back in time for pairs(shop/item)\n",
    "choose 100 pairs and compute how much the previous values of the series (lags) may be helpful in predicting the current value. "
   ]
  },
  {
   "cell_type": "code",
   "execution_count": 0,
   "metadata": {
    "colab": {},
    "colab_type": "code",
    "id": "PWbL86c6oaxK"
   },
   "outputs": [],
   "source": [
    "shops_items_sales_temp = shops_items_sales.sample(1000)#.nlargest(10**4, columns = [str(itr) for itr in range(27, 33)])\n",
    "pairs_acf = np.zeros((shops_items_sales_temp.shape[0], time_shift + 1))\n",
    "for i, (ind, shop_item_sales) in enumerate(shops_items_sales_temp.iterrows()):\n",
    "    pair = shop_item_sales.loc['0': ]\n",
    "  #if np.sum(pair) != 0:\n",
    "    acf_12 = acf(pair, nlags = time_shift, fft = True)\n",
    "    pairs_acf[i, :] = acf_12"
   ]
  },
  {
   "cell_type": "code",
   "execution_count": 75,
   "metadata": {
    "colab": {
     "base_uri": "https://localhost:8080/",
     "height": 390
    },
    "colab_type": "code",
    "executionInfo": {
     "elapsed": 1338,
     "status": "ok",
     "timestamp": 1568521521514,
     "user": {
      "displayName": "BA22",
      "photoUrl": "",
      "userId": "02603670721502132211"
     },
     "user_tz": -120
    },
    "id": "ykJXkQ47Vjys",
    "outputId": "d3a7f6c3-f785-42c6-d839-e6d8551a132c"
   },
   "outputs": [
    {
     "data": {
      "image/png": "[encoded data removed]",
      "text/plain": [
       "<Figure size 576x432 with 1 Axes>"
      ]
     },
     "metadata": {
      "tags": []
     },
     "output_type": "display_data"
    }
   ],
   "source": [
    "avgs = np.mean(pairs_acf, axis = 0)\n",
    "plt.bar(x = np.arange(time_shift + 1), height = avgs)\n",
    "plt.title('lag importance of shop/item pairs')\n",
    "plt.show()"
   ]
  },
  {
   "cell_type": "code",
   "execution_count": 0,
   "metadata": {
    "colab": {},
    "colab_type": "code",
    "id": "UAfptIVM6J4s"
   },
   "outputs": [],
   "source": [
    "pair_lags = [1, 2, 3, 4, 9, 10, 11, 12]"
   ]
  },
  {
   "cell_type": "markdown",
   "metadata": {
    "colab_type": "text",
    "id": "dTdQux4Ni94E"
   },
   "source": [
    "### How much to go back in time for items"
   ]
  },
  {
   "cell_type": "code",
   "execution_count": 0,
   "metadata": {
    "colab": {},
    "colab_type": "code",
    "id": "c5zXu4I5pGh-"
   },
   "outputs": [],
   "source": [
    "items_acf = np.zeros((items_sales.shape[0], time_shift + 1))\n",
    "for i, item_sales in items_sales.iterrows():\n",
    "    item_temp = item_sales.loc['0': ]\n",
    "    if np.sum(item_temp) != 0:\n",
    "        acf_12 = acf(item_temp, nlags = time_shift, fft = True)\n",
    "        items_acf[i, :] = acf_12"
   ]
  },
  {
   "cell_type": "code",
   "execution_count": 78,
   "metadata": {
    "colab": {
     "base_uri": "https://localhost:8080/",
     "height": 390
    },
    "colab_type": "code",
    "executionInfo": {
     "elapsed": 11165,
     "status": "ok",
     "timestamp": 1568521572483,
     "user": {
      "displayName": "BA22",
      "photoUrl": "",
      "userId": "02603670721502132211"
     },
     "user_tz": -120
    },
    "id": "e6puC3Bsap8f",
    "outputId": "c8f1179a-d6cf-4864-f12f-8aca45b10efa"
   },
   "outputs": [
    {
     "data": {
      "image/png": "[encoded data removed]",
      "text/plain": [
       "<Figure size 576x432 with 1 Axes>"
      ]
     },
     "metadata": {
      "tags": []
     },
     "output_type": "display_data"
    }
   ],
   "source": [
    "avgs = np.mean(items_acf, axis = 0)\n",
    "plt.bar(x = np.arange(time_shift + 1), height = avgs)\n",
    "plt.title('lag importance of items')\n",
    "plt.show()"
   ]
  },
  {
   "cell_type": "code",
   "execution_count": 0,
   "metadata": {
    "colab": {},
    "colab_type": "code",
    "id": "Dfi8_qLg6g9d"
   },
   "outputs": [],
   "source": [
    "item_lags = [1, 2, 3, 4, 5, 6, 11, 12]"
   ]
  },
  {
   "cell_type": "markdown",
   "metadata": {
    "colab_type": "text",
    "id": "9YbM2OvWjGdc"
   },
   "source": [
    "### How much to go back in time for shops"
   ]
  },
  {
   "cell_type": "code",
   "execution_count": 0,
   "metadata": {
    "colab": {},
    "colab_type": "code",
    "id": "9mh9bf_8oyst"
   },
   "outputs": [],
   "source": [
    "shops_acf = np.zeros((shops_sales.shape[0], time_shift + 1))\n",
    "for i, shop_sales in shops_sales.iterrows():\n",
    "    shop_temp = shop_sales.loc['0': ]\n",
    "    acf_12 = acf(shop_temp, nlags = time_shift, fft = True)\n",
    "    shops_acf[i, :] = acf_12"
   ]
  },
  {
   "cell_type": "code",
   "execution_count": 81,
   "metadata": {
    "colab": {
     "base_uri": "https://localhost:8080/",
     "height": 390
    },
    "colab_type": "code",
    "executionInfo": {
     "elapsed": 893,
     "status": "ok",
     "timestamp": 1568521631473,
     "user": {
      "displayName": "BA22",
      "photoUrl": "",
      "userId": "02603670721502132211"
     },
     "user_tz": -120
    },
    "id": "6RqmD3r6es2V",
    "outputId": "98db05de-683c-41a8-a3b5-d92c94b5c6b2"
   },
   "outputs": [
    {
     "data": {
      "image/png": "[encoded data removed]",
      "text/plain": [
       "<Figure size 576x432 with 1 Axes>"
      ]
     },
     "metadata": {
      "tags": []
     },
     "output_type": "display_data"
    }
   ],
   "source": [
    "avgs = np.mean(shops_acf, axis = 0)\n",
    "plt.bar(x = np.arange(time_shift + 1), height = avgs)\n",
    "plt.title('lag importance of shops')\n",
    "plt.show()"
   ]
  },
  {
   "cell_type": "code",
   "execution_count": 0,
   "metadata": {
    "colab": {},
    "colab_type": "code",
    "id": "6BKfhpj_6x5h"
   },
   "outputs": [],
   "source": [
    "shop_lags = [1, 2, 3, 4, 5, 6, 9, 12]"
   ]
  },
  {
   "cell_type": "markdown",
   "metadata": {
    "colab_type": "text",
    "id": "TB1px-8NSido"
   },
   "source": [
    "### How much to go back in time for categories"
   ]
  },
  {
   "cell_type": "code",
   "execution_count": 0,
   "metadata": {
    "colab": {},
    "colab_type": "code",
    "id": "SwhC5bDpSieC"
   },
   "outputs": [],
   "source": [
    "categories_acf = np.zeros((categories_sales.shape[0], time_shift + 1))\n",
    "for i, category_sales in categories_sales.iterrows():\n",
    "    category_temp = category_sales.loc['0': ]\n",
    "    acf_12 = acf(category_temp, nlags = time_shift, fft = True)\n",
    "    categories_acf[i, :] = acf_12"
   ]
  },
  {
   "cell_type": "code",
   "execution_count": 84,
   "metadata": {
    "colab": {
     "base_uri": "https://localhost:8080/",
     "height": 390
    },
    "colab_type": "code",
    "executionInfo": {
     "elapsed": 1348,
     "status": "ok",
     "timestamp": 1568521669734,
     "user": {
      "displayName": "BA22",
      "photoUrl": "",
      "userId": "02603670721502132211"
     },
     "user_tz": -120
    },
    "id": "0wHMdZS2SieE",
    "outputId": "6d052e7b-08d8-4327-80ca-4cd26d0af062"
   },
   "outputs": [
    {
     "data": {
      "image/png": "[encoded data removed]",
      "text/plain": [
       "<Figure size 576x432 with 1 Axes>"
      ]
     },
     "metadata": {
      "tags": []
     },
     "output_type": "display_data"
    }
   ],
   "source": [
    "avgs = np.mean(categories_acf, axis = 0)\n",
    "plt.bar(x = np.arange(time_shift + 1), height = avgs)\n",
    "plt.title('lag importance of categories')\n",
    "plt.show()"
   ]
  },
  {
   "cell_type": "code",
   "execution_count": 0,
   "metadata": {
    "colab": {},
    "colab_type": "code",
    "id": "F9fOeQS4SieH"
   },
   "outputs": [],
   "source": [
    "category_lags = [1, 2, 3, 4, 5, 6, 12]"
   ]
  },
  {
   "cell_type": "markdown",
   "metadata": {
    "colab_type": "text",
    "id": "yB2wn7wuyU4y"
   },
   "source": [
    "## Create training grid and add lags to it"
   ]
  },
  {
   "cell_type": "code",
   "execution_count": 86,
   "metadata": {
    "colab": {
     "base_uri": "https://localhost:8080/",
     "height": 68
    },
    "colab_type": "code",
    "executionInfo": {
     "elapsed": 24710,
     "status": "ok",
     "timestamp": 1568521726829,
     "user": {
      "displayName": "BA22",
      "photoUrl": "",
      "userId": "02603670721502132211"
     },
     "user_tz": -120
    },
    "id": "o5M66Xl2q4xr",
    "outputId": "77104d97-a34c-40c9-d59a-826cae25faf7"
   },
   "outputs": [
    {
     "name": "stdout",
     "output_type": "stream",
     "text": [
      "Sales data shape: (2935842, 7)\n",
      "Generated Train data shape: (10809347, 4)\n",
      "23 seconds\n"
     ]
    }
   ],
   "source": [
    "start = time.time()\n",
    "grid = create_train_set(sales, index_cols)\n",
    "test['date_block_num'] = 34\n",
    "grid = pd.concat([grid, test], ignore_index = True, sort = False, keys = index_cols)\n",
    "grid = grid.merge(items[['item_id', 'item_category_id']], on = 'item_id', how = 'left')\n",
    "print(round(time.time() - start), 'seconds')"
   ]
  },
  {
   "cell_type": "code",
   "execution_count": 0,
   "metadata": {
    "colab": {},
    "colab_type": "code",
    "id": "ejt9xpsAGVrI"
   },
   "outputs": [],
   "source": [
    "def lag_ex_features(grid, features, features_sales, features_lags):\n",
    "    df = grid.copy()\n",
    "    for feature_lag in features_lags:\n",
    "        max_month = df.date_block_num.max()\n",
    "        cols = [str(itr) for itr in np.arange(0, max_month)]\n",
    "        gb = features_sales.melt( id_vars = features, \n",
    "                                 var_name = 'date_block_num' , \n",
    "                                 value_vars= cols, \n",
    "                                 value_name = '_'.join(features) + '_lag_' + str(feature_lag)\n",
    "                                )\n",
    "        gb.date_block_num = gb.date_block_num.astype(np.int16)\n",
    "        gb.date_block_num = gb.date_block_num + feature_lag\n",
    "        df = pd.merge(df, gb, on = features + ['date_block_num'], how='left')\n",
    "    return df\n",
    "  "
   ]
  },
  {
   "cell_type": "code",
   "execution_count": 0,
   "metadata": {
    "colab": {},
    "colab_type": "code",
    "id": "11MFMpzJAhrP"
   },
   "outputs": [],
   "source": [
    "def lag_features(grid, features, features_lags):\n",
    "    df = grid.copy()\n",
    "    for month_shift in features_lags:\n",
    "        df_shift = df[index_cols + features].copy()\n",
    "        df_shift['date_block_num'] = df_shift['date_block_num'] + month_shift\n",
    "        lag_cols = lambda x: '{}_lag_{}'.format(x, month_shift) if x in features else x\n",
    "        df_shift = df_shift.rename(columns = lag_cols)\n",
    "        df = pd.merge(df, df_shift, on = index_cols, how='left')\n",
    "    return df"
   ]
  },
  {
   "cell_type": "code",
   "execution_count": 89,
   "metadata": {
    "colab": {
     "base_uri": "https://localhost:8080/",
     "height": 34
    },
    "colab_type": "code",
    "executionInfo": {
     "elapsed": 74073,
     "status": "ok",
     "timestamp": 1568521812233,
     "user": {
      "displayName": "BA22",
      "photoUrl": "",
      "userId": "02603670721502132211"
     },
     "user_tz": -120
    },
    "id": "3CwCg8EvAZIR",
    "outputId": "82f32914-7534-41d3-f0fb-089656e8e432"
   },
   "outputs": [
    {
     "name": "stdout",
     "output_type": "stream",
     "text": [
      "73 seconds\n"
     ]
    }
   ],
   "source": [
    "start = time.time()\n",
    "grid = lag_features(grid, ['target'], pair_lags)\n",
    "print(round(time.time() - start), 'seconds')"
   ]
  },
  {
   "cell_type": "code",
   "execution_count": 90,
   "metadata": {
    "colab": {
     "base_uri": "https://localhost:8080/",
     "height": 34
    },
    "colab_type": "code",
    "executionInfo": {
     "elapsed": 91630,
     "status": "ok",
     "timestamp": 1568521834792,
     "user": {
      "displayName": "BA22",
      "photoUrl": "",
      "userId": "02603670721502132211"
     },
     "user_tz": -120
    },
    "id": "FxyzeSe2IOnA",
    "outputId": "446b106a-16c7-47e5-ae73-921940d2d78e"
   },
   "outputs": [
    {
     "name": "stdout",
     "output_type": "stream",
     "text": [
      "23 seconds\n"
     ]
    }
   ],
   "source": [
    "start = time.time()\n",
    "grid = lag_ex_features(grid, ['item_id'], items_sales, item_lags)\n",
    "print(round(time.time() - start), 'seconds')"
   ]
  },
  {
   "cell_type": "code",
   "execution_count": 91,
   "metadata": {
    "colab": {
     "base_uri": "https://localhost:8080/",
     "height": 34
    },
    "colab_type": "code",
    "executionInfo": {
     "elapsed": 105602,
     "status": "ok",
     "timestamp": 1568521851916,
     "user": {
      "displayName": "BA22",
      "photoUrl": "",
      "userId": "02603670721502132211"
     },
     "user_tz": -120
    },
    "id": "89FfHZc4JGv4",
    "outputId": "06717837-cc17-400c-83f8-6fd9de8a3a1f"
   },
   "outputs": [
    {
     "name": "stdout",
     "output_type": "stream",
     "text": [
      "17 seconds\n"
     ]
    }
   ],
   "source": [
    "start = time.time()\n",
    "grid = lag_ex_features(grid, ['shop_id'], shops_sales, shop_lags)\n",
    "print(round(time.time() - start), 'seconds')"
   ]
  },
  {
   "cell_type": "code",
   "execution_count": 92,
   "metadata": {
    "colab": {
     "base_uri": "https://localhost:8080/",
     "height": 34
    },
    "colab_type": "code",
    "executionInfo": {
     "elapsed": 119772,
     "status": "ok",
     "timestamp": 1568521869206,
     "user": {
      "displayName": "BA22",
      "photoUrl": "",
      "userId": "02603670721502132211"
     },
     "user_tz": -120
    },
    "id": "QSVi7f5udcez",
    "outputId": "161106e2-dfb6-4e0e-8a90-b4f74f019967"
   },
   "outputs": [
    {
     "name": "stdout",
     "output_type": "stream",
     "text": [
      "17 seconds\n"
     ]
    }
   ],
   "source": [
    "start = time.time()\n",
    "grid = lag_ex_features(grid, ['item_category_id'], categories_sales, category_lags)\n",
    "print(round(time.time() - start), 'seconds')"
   ]
  },
  {
   "cell_type": "code",
   "execution_count": 93,
   "metadata": {
    "colab": {
     "base_uri": "https://localhost:8080/",
     "height": 646
    },
    "colab_type": "code",
    "executionInfo": {
     "elapsed": 125693,
     "status": "ok",
     "timestamp": 1568521878302,
     "user": {
      "displayName": "BA22",
      "photoUrl": "",
      "userId": "02603670721502132211"
     },
     "user_tz": -120
    },
    "id": "-ogxRwusvVzE",
    "outputId": "96aa4a19-9837-4820-ef96-64b71db4ba70"
   },
   "outputs": [
    {
     "data": {
      "text/plain": [
       "shop_id                          0\n",
       "item_id                          0\n",
       "date_block_num                   0\n",
       "target                      214200\n",
       "item_category_id                 0\n",
       "target_lag_1               2466770\n",
       "target_lag_2               3091897\n",
       "target_lag_3               3688208\n",
       "target_lag_4               4253668\n",
       "target_lag_9               6724591\n",
       "target_lag_10              7129579\n",
       "target_lag_11              7524904\n",
       "target_lag_12              7884005\n",
       "item_id_lag_1               372306\n",
       "item_id_lag_2               739866\n",
       "item_id_lag_3              1113456\n",
       "item_id_lag_4              1479981\n",
       "item_id_lag_5              1855236\n",
       "item_id_lag_6              2245224\n",
       "item_id_lag_11             4081468\n",
       "item_id_lag_12             4471226\n",
       "shop_id_lag_1               357060\n",
       "shop_id_lag_2               724620\n",
       "shop_id_lag_3              1098210\n",
       "shop_id_lag_4              1464735\n",
       "shop_id_lag_5              1839990\n",
       "shop_id_lag_6              2229978\n",
       "shop_id_lag_9              3332423\n",
       "shop_id_lag_12             4455980\n",
       "item_category_id_lag_1      357060\n",
       "item_category_id_lag_2      724620\n",
       "item_category_id_lag_3     1098210\n",
       "item_category_id_lag_4     1464735\n",
       "item_category_id_lag_5     1839990\n",
       "item_category_id_lag_6     2229978\n",
       "item_category_id_lag_12    4455980\n",
       "dtype: int64"
      ]
     },
     "execution_count": 93,
     "metadata": {
      "tags": []
     },
     "output_type": "execute_result"
    }
   ],
   "source": [
    "grid.isnull().sum()"
   ]
  },
  {
   "cell_type": "code",
   "execution_count": 0,
   "metadata": {
    "colab": {},
    "colab_type": "code",
    "id": "IBhhM13REqY0"
   },
   "outputs": [],
   "source": [
    "grid = grid[grid['date_block_num'] > 11]\n",
    "grid = grid.fillna(0)"
   ]
  },
  {
   "cell_type": "markdown",
   "metadata": {
    "colab_type": "text",
    "id": "umz5GWIvhWWo"
   },
   "source": [
    "## Item Price"
   ]
  },
  {
   "cell_type": "code",
   "execution_count": 95,
   "metadata": {
    "colab": {
     "base_uri": "https://localhost:8080/",
     "height": 461
    },
    "colab_type": "code",
    "executionInfo": {
     "elapsed": 1758,
     "status": "ok",
     "timestamp": 1568521948991,
     "user": {
      "displayName": "BA22",
      "photoUrl": "",
      "userId": "02603670721502132211"
     },
     "user_tz": -120
    },
    "id": "E5mjJRethVYP",
    "outputId": "2168a371-9ff2-4706-eabf-05cc65719a4d"
   },
   "outputs": [
    {
     "data": {
      "image/png": "[encoded data removed]",
      "text/plain": [
       "<Figure size 576x432 with 1 Axes>"
      ]
     },
     "metadata": {
      "tags": []
     },
     "output_type": "display_data"
    },
    {
     "data": {
      "text/html": [
       "<div>\n",
       "<style scoped>\n",
       "    .dataframe tbody tr th:only-of-type {\n",
       "        vertical-align: middle;\n",
       "    }\n",
       "\n",
       "    .dataframe tbody tr th {\n",
       "        vertical-align: top;\n",
       "    }\n",
       "\n",
       "    .dataframe thead th {\n",
       "        text-align: right;\n",
       "    }\n",
       "</style>\n",
       "<table border=\"1\" class=\"dataframe\">\n",
       "  <thead>\n",
       "    <tr style=\"text-align: right;\">\n",
       "      <th></th>\n",
       "      <th>item_id</th>\n",
       "      <th>0</th>\n",
       "      <th>1</th>\n",
       "      <th>2</th>\n",
       "      <th>3</th>\n",
       "      <th>4</th>\n",
       "      <th>5</th>\n",
       "      <th>6</th>\n",
       "      <th>7</th>\n",
       "      <th>8</th>\n",
       "      <th>9</th>\n",
       "      <th>10</th>\n",
       "      <th>11</th>\n",
       "      <th>12</th>\n",
       "      <th>13</th>\n",
       "      <th>14</th>\n",
       "      <th>15</th>\n",
       "      <th>16</th>\n",
       "      <th>17</th>\n",
       "      <th>18</th>\n",
       "      <th>19</th>\n",
       "      <th>20</th>\n",
       "      <th>21</th>\n",
       "      <th>22</th>\n",
       "      <th>23</th>\n",
       "      <th>24</th>\n",
       "      <th>25</th>\n",
       "      <th>26</th>\n",
       "      <th>27</th>\n",
       "      <th>28</th>\n",
       "      <th>29</th>\n",
       "      <th>30</th>\n",
       "      <th>31</th>\n",
       "      <th>32</th>\n",
       "      <th>33</th>\n",
       "    </tr>\n",
       "  </thead>\n",
       "  <tbody>\n",
       "    <tr>\n",
       "      <th>4332</th>\n",
       "      <td>4332</td>\n",
       "      <td>449.0</td>\n",
       "      <td>449.0</td>\n",
       "      <td>449.0</td>\n",
       "      <td>449.0</td>\n",
       "      <td>449.0</td>\n",
       "      <td>449.0</td>\n",
       "      <td>449.0</td>\n",
       "      <td>449.0</td>\n",
       "      <td>449.0</td>\n",
       "      <td>449.0</td>\n",
       "      <td>449.0</td>\n",
       "      <td>449.0</td>\n",
       "      <td>449.0</td>\n",
       "      <td>449.0</td>\n",
       "      <td>449.0</td>\n",
       "      <td>449.0</td>\n",
       "      <td>449.0</td>\n",
       "      <td>449.0</td>\n",
       "      <td>449.0</td>\n",
       "      <td>449.0</td>\n",
       "      <td>449.0</td>\n",
       "      <td>449.0</td>\n",
       "      <td>449.0</td>\n",
       "      <td>449.0</td>\n",
       "      <td>398.0</td>\n",
       "      <td>398.0</td>\n",
       "      <td>398.0</td>\n",
       "      <td>398.0</td>\n",
       "      <td>298.0</td>\n",
       "      <td>NaN</td>\n",
       "      <td>248.0</td>\n",
       "      <td>248.0</td>\n",
       "      <td>NaN</td>\n",
       "      <td>NaN</td>\n",
       "    </tr>\n",
       "  </tbody>\n",
       "</table>\n",
       "</div>"
      ],
      "text/plain": [
       "      item_id      0      1      2      3  ...  29     30     31  32  33\n",
       "4332     4332  449.0  449.0  449.0  449.0  ... NaN  248.0  248.0 NaN NaN\n",
       "\n",
       "[1 rows x 35 columns]"
      ]
     },
     "execution_count": 95,
     "metadata": {
      "tags": []
     },
     "output_type": "execute_result"
    }
   ],
   "source": [
    "item_temp = nitems_prices.sample(1)#[items_prices['item_id'] == 17523]\n",
    "item_temp_prices = item_temp.loc[:, '0':].T\n",
    "filled_item_temp_prices = item_temp_prices.fillna(method = 'ffill')\n",
    "filled_item_temp_prices = filled_item_temp_prices.fillna(method = 'bfill')\n",
    "\n",
    "decomposition = seasonal_decompose(filled_item_temp_prices, freq = 32, two_sided = False)\n",
    "trend = decomposition.trend\n",
    "\n",
    "plt.plot(filled_item_temp_prices, label='filled item =' + str(item_temp['item_id'].values[0]), color = 'red')\n",
    "plt.plot(item_temp_prices, label='item =' + str(item_temp['item_id'].values[0]))\n",
    "plt.plot(trend, label='trend')\n",
    "plt.legend(loc='best')\n",
    "plt.show()\n",
    "item_temp"
   ]
  },
  {
   "cell_type": "code",
   "execution_count": 0,
   "metadata": {
    "colab": {},
    "colab_type": "code",
    "id": "VC3xjVQRhkWY"
   },
   "outputs": [],
   "source": [
    "filled_items_prices = nitems_prices.copy()\n",
    "filled_items_prices.loc[:, '0':] =  filled_items_prices.loc[:, '0':].fillna(method = 'ffill', axis = 1)\n",
    "filled_items_prices.loc[:, '0':] =  filled_items_prices.loc[:, '0':].fillna(method = 'bfill', axis = 1)\n",
    "filled_items_prices_temp = filled_items_prices.loc[:, '0':'33'].T\n",
    "decomposition = seasonal_decompose(filled_items_prices_temp, freq = 32, two_sided = False)\n",
    "trend = decomposition.trend\n",
    "trend = trend.T\n",
    "trend = trend.dropna(axis = 1)\n",
    "trend.columns = ['trend32', 'trend33']\n",
    "trend.trend32 = round(trend.trend32, 4)\n",
    "trend.trend33 = round(trend.trend33, 4)\n",
    "filled_items_prices = pd.concat([filled_items_prices, trend], axis = 1)"
   ]
  },
  {
   "cell_type": "code",
   "execution_count": 0,
   "metadata": {
    "colab": {},
    "colab_type": "code",
    "id": "jnApJn9q4Avv"
   },
   "outputs": [],
   "source": [
    "filled_items_prices['item_price_status'] ='constant'\n",
    "filled_items_prices.loc[filled_items_prices['trend32'] < filled_items_prices['trend33'], 'item_price_status'] = 'increasing'\n",
    "filled_items_prices.loc[filled_items_prices['trend32'] > filled_items_prices['trend33'], 'item_price_status'] = 'decreasing'\n",
    "filled_items_prices = filled_items_prices.drop(columns = ['trend32', 'trend33'], axis = 0)"
   ]
  },
  {
   "cell_type": "code",
   "execution_count": 0,
   "metadata": {
    "colab": {},
    "colab_type": "code",
    "id": "dCDj0iBC9A5V"
   },
   "outputs": [],
   "source": [
    "filled_items_prices['item_price_avg'] = filled_items_prices.loc[:, '0':].median(axis = 1)"
   ]
  },
  {
   "cell_type": "code",
   "execution_count": 0,
   "metadata": {
    "colab": {},
    "colab_type": "code",
    "id": "JFZ-9XY8F1Ab"
   },
   "outputs": [],
   "source": [
    "items = items.merge(filled_items_prices[['item_id', 'item_price_status', 'item_price_avg']], on = 'item_id', how = 'left')"
   ]
  },
  {
   "cell_type": "markdown",
   "metadata": {
    "colab_type": "text",
    "id": "iu9ouud6Iqab"
   },
   "source": [
    "## In how many shops each item is getting sold"
   ]
  },
  {
   "cell_type": "code",
   "execution_count": 0,
   "metadata": {
    "colab": {},
    "colab_type": "code",
    "id": "-GKneK_VIpqC"
   },
   "outputs": [],
   "source": [
    "gb = sales.groupby('item_id')[['shop_id']].nunique()\n",
    "gb.columns = ['item_sold_in_shops']\n",
    "gb = gb.reset_index()\n",
    "grid = grid.merge(gb, on = ['item_id'], how = 'left')"
   ]
  },
  {
   "cell_type": "markdown",
   "metadata": {
    "colab_type": "text",
    "id": "bdeNQvY9Jpzm"
   },
   "source": [
    "## How many items does each shop contains(has sold)"
   ]
  },
  {
   "cell_type": "code",
   "execution_count": 0,
   "metadata": {
    "colab": {},
    "colab_type": "code",
    "id": "XnKIWHvEJ2YI"
   },
   "outputs": [],
   "source": [
    "gb = sales.groupby('shop_id')[['item_id']].nunique()\n",
    "gb.columns = ['shop_sold_items']\n",
    "gb = gb.reset_index()\n",
    "grid = grid.merge(gb, on = ['shop_id'], how = 'left')"
   ]
  },
  {
   "cell_type": "markdown",
   "metadata": {
    "colab_type": "text",
    "id": "M5jeHQksMb9I"
   },
   "source": [
    "## How many items per category"
   ]
  },
  {
   "cell_type": "code",
   "execution_count": 0,
   "metadata": {
    "colab": {},
    "colab_type": "code",
    "id": "ouBHJFjOoBKd"
   },
   "outputs": [],
   "source": [
    "gb = sales.groupby('item_category_id')[['item_id']].nunique()\n",
    "gb.columns = ['items_per_category']\n",
    "gb = gb.reset_index()\n",
    "grid = grid.merge(gb, on = ['item_category_id'], how = 'left')"
   ]
  },
  {
   "cell_type": "markdown",
   "metadata": {
    "colab_type": "text",
    "id": "Ypyqb1wpoW-y"
   },
   "source": [
    "## How many categories each shop has"
   ]
  },
  {
   "cell_type": "code",
   "execution_count": 0,
   "metadata": {
    "colab": {},
    "colab_type": "code",
    "id": "g6t71nMCoWUi"
   },
   "outputs": [],
   "source": [
    "gb = sales.groupby('shop_id')[['item_category_id']].nunique()\n",
    "gb.columns = ['shop_sold_categories']\n",
    "gb = gb.reset_index()\n",
    "grid = grid.merge(gb, on = ['shop_id'], how = 'left')"
   ]
  },
  {
   "cell_type": "markdown",
   "metadata": {
    "colab_type": "text",
    "id": "ULMi2BsQpHF-"
   },
   "source": [
    "## Statistics"
   ]
  },
  {
   "cell_type": "code",
   "execution_count": 0,
   "metadata": {
    "colab": {},
    "colab_type": "code",
    "id": "ba6-1OGzpJzw"
   },
   "outputs": [],
   "source": [
    "def create_df_stats(df, stat_name, attr):\n",
    "    gb = df.copy()\n",
    "    max_month =  df.columns.values[-1]\n",
    "    \n",
    "    gb[attr + '_sum'] = gb.loc[:, '0': str(max_month)].sum(axis = 1)\n",
    "    gb[attr + '_max'] = gb.loc[:, '0': str(max_month)].max(axis = 1)\n",
    "    gb[attr + '_std'] = gb.loc[:, '0': str(max_month)].std(axis = 1)\n",
    "    gb[attr + '_median'] = gb.loc[:, '0': str(max_month)].median(axis = 1)\n",
    "    gb = gb.drop(columns = [str(itr) for itr in np.arange(34)], axis = 0)\n",
    "    return gb"
   ]
  },
  {
   "cell_type": "markdown",
   "metadata": {
    "colab_type": "text",
    "id": "_15tlmCKsfsn"
   },
   "source": [
    "### Pairs stats"
   ]
  },
  {
   "cell_type": "code",
   "execution_count": 0,
   "metadata": {
    "colab": {},
    "colab_type": "code",
    "id": "5Gd6A60pslcs"
   },
   "outputs": [],
   "source": [
    "gb = create_df_stats(shops_items_sales, 'pairs', 'pair')\n",
    "gb = gb.drop(columns = ['pair_median'], axis = 0)"
   ]
  },
  {
   "cell_type": "code",
   "execution_count": 0,
   "metadata": {
    "colab": {},
    "colab_type": "code",
    "id": "xn2KbrN2uUb8"
   },
   "outputs": [],
   "source": [
    "grid = grid.merge(gb, on = ['shop_id', 'item_id'], how = 'left')"
   ]
  },
  {
   "cell_type": "code",
   "execution_count": 0,
   "metadata": {
    "colab": {},
    "colab_type": "code",
    "id": "5-fsm-63wb1c"
   },
   "outputs": [],
   "source": [
    "grid = grid.fillna(0)"
   ]
  },
  {
   "cell_type": "markdown",
   "metadata": {
    "colab_type": "text",
    "id": "QgOgxaMRq5iF"
   },
   "source": [
    "### item stats"
   ]
  },
  {
   "cell_type": "code",
   "execution_count": 0,
   "metadata": {
    "colab": {},
    "colab_type": "code",
    "id": "_aJ6xHoEpfP7"
   },
   "outputs": [],
   "source": [
    "gb = create_df_stats(items_sales, 'items', 'item')\n",
    "gb = gb.drop(columns = ['item_median'], axis = 0)"
   ]
  },
  {
   "cell_type": "code",
   "execution_count": 0,
   "metadata": {
    "colab": {},
    "colab_type": "code",
    "id": "yU42aUBlqpM8"
   },
   "outputs": [],
   "source": [
    "grid = grid.merge(gb, on = ['item_id'], how = 'left')"
   ]
  },
  {
   "cell_type": "markdown",
   "metadata": {
    "colab_type": "text",
    "id": "APEoD7YXrUym"
   },
   "source": [
    "### Shop stats"
   ]
  },
  {
   "cell_type": "code",
   "execution_count": 0,
   "metadata": {
    "colab": {},
    "colab_type": "code",
    "id": "oLeIfll7rSwK"
   },
   "outputs": [],
   "source": [
    "gb = create_df_stats(shops_sales, 'shops', 'shop')"
   ]
  },
  {
   "cell_type": "code",
   "execution_count": 0,
   "metadata": {
    "colab": {},
    "colab_type": "code",
    "id": "7KbRnNTB-foS"
   },
   "outputs": [],
   "source": [
    "grid = grid.merge(gb, on = ['shop_id'], how = 'left')"
   ]
  },
  {
   "cell_type": "markdown",
   "metadata": {
    "colab_type": "text",
    "id": "b1coDUdiATfE"
   },
   "source": [
    "### Category stats"
   ]
  },
  {
   "cell_type": "code",
   "execution_count": 0,
   "metadata": {
    "colab": {},
    "colab_type": "code",
    "id": "YGIRJh4KAbPI"
   },
   "outputs": [],
   "source": [
    "gb = create_df_stats(categories_sales, 'categories', 'category')"
   ]
  },
  {
   "cell_type": "code",
   "execution_count": 0,
   "metadata": {
    "colab": {},
    "colab_type": "code",
    "id": "KfRQvSrQAuqi"
   },
   "outputs": [],
   "source": [
    "grid = grid.merge(gb, on = ['item_category_id'], how = 'left')"
   ]
  },
  {
   "cell_type": "markdown",
   "metadata": {
    "colab_type": "text",
    "id": "ZeRATDNmCEb2"
   },
   "source": [
    "## Transactions"
   ]
  },
  {
   "cell_type": "markdown",
   "metadata": {
    "colab_type": "text",
    "id": "gg2307yqNYMc"
   },
   "source": [
    "### shop/item transactions"
   ]
  },
  {
   "cell_type": "code",
   "execution_count": 0,
   "metadata": {
    "colab": {},
    "colab_type": "code",
    "id": "-wrl6qRiNdwC"
   },
   "outputs": [],
   "source": [
    "shops_items_trans['shop_item_trans'] = shops_items_trans.loc[:, '0':'33'].sum(axis = 1)\n",
    "grid = grid.merge(shops_items_trans[['shop_id', 'item_id', 'shop_item_trans']], on = ['shop_id', 'item_id'], how = 'left')"
   ]
  },
  {
   "cell_type": "markdown",
   "metadata": {
    "colab_type": "text",
    "id": "Mhcf-7LAYtE_"
   },
   "source": [
    "### item transactions"
   ]
  },
  {
   "cell_type": "code",
   "execution_count": 0,
   "metadata": {
    "colab": {},
    "colab_type": "code",
    "id": "TjhsOWYHYsGu"
   },
   "outputs": [],
   "source": [
    "items_trans['item_trans'] = items_trans.loc[:, '0':'33'].sum(axis = 1)\n",
    "grid = grid.merge(items_trans[['item_id', 'item_trans']], on = 'item_id', how = 'left')"
   ]
  },
  {
   "cell_type": "markdown",
   "metadata": {
    "colab_type": "text",
    "id": "4plr1Z-rCIHF"
   },
   "source": [
    "### shop transactions"
   ]
  },
  {
   "cell_type": "code",
   "execution_count": 0,
   "metadata": {
    "colab": {},
    "colab_type": "code",
    "id": "oy7ujvZ0aYwe"
   },
   "outputs": [],
   "source": [
    "shops_trans['shop_trans'] = shops_trans.loc[:, '0':'33'].sum(axis = 1)\n",
    "grid = grid.merge(shops_trans[['shop_id', 'shop_trans']], on = 'shop_id', how = 'left')"
   ]
  },
  {
   "cell_type": "markdown",
   "metadata": {
    "colab_type": "text",
    "id": "Pym71XatbKly"
   },
   "source": [
    "### category transactions"
   ]
  },
  {
   "cell_type": "code",
   "execution_count": 0,
   "metadata": {
    "colab": {},
    "colab_type": "code",
    "id": "yPiw91JdbJvL"
   },
   "outputs": [],
   "source": [
    "categories_trans['category_trans'] = categories_trans.loc[:, '0':'33'].sum(axis = 1)\n",
    "grid = grid.merge(categories_trans[['item_category_id', 'category_trans']], on = 'item_category_id', how = 'left')"
   ]
  },
  {
   "cell_type": "markdown",
   "metadata": {
    "colab_type": "text",
    "id": "tWRuwCEtcGY2"
   },
   "source": [
    "## Date Features"
   ]
  },
  {
   "cell_type": "code",
   "execution_count": 0,
   "metadata": {
    "colab": {},
    "colab_type": "code",
    "id": "3wK8PAgYcJLS"
   },
   "outputs": [],
   "source": [
    "dates_train = sales.loc[:, ['date', 'date_block_num']].drop_duplicates()\n",
    "dates_train = dates_train.reset_index(drop = True)\n",
    "dates_test = dates_train.loc[dates_train.loc[:, 'date_block_num'] == 34 - 12]\n",
    "dates_test = dates_test.reset_index(drop=True)\n",
    "dates_test.loc[:,'date_block_num'] = 34\n",
    "dates_test.loc[:, 'date'] = dates_test.loc[:, 'date'] + pd.DateOffset(years = 1)\n",
    "dates_all = pd.concat([dates_train, dates_test])\n",
    "dates_all.loc[:, 'dow'] = dates_all.loc[:, 'date'].dt.dayofweek\n",
    "dates_all.loc[:, 'year'] = dates_all.loc[:, 'date'].dt.year\n",
    "\n",
    "dates_all.loc[:, 'month'] = dates_all.loc[:, 'date'].dt.month\n",
    "dates_all = pd.get_dummies(dates_all, columns = ['dow'])\n",
    "\n",
    "dow_col = ['dow_' + str(x) for x in range(7)]\n",
    "\n",
    "date_features = dates_all.groupby(['year', 'month', 'date_block_num'])[dow_col].agg('sum').reset_index()\n",
    "\n",
    "date_features.loc[:, 'days_of_month'] = date_features.loc[:, dow_col].sum(axis=1)\n",
    "\n",
    "date_features.loc[:, 'year'] = date_features.loc[:, 'year'] - 2013\n",
    "\n",
    "date_features = date_features.loc[:, ['month', 'year', 'days_of_month', 'date_block_num']]"
   ]
  },
  {
   "cell_type": "code",
   "execution_count": 0,
   "metadata": {
    "colab": {},
    "colab_type": "code",
    "id": "thDCA12kcS1J"
   },
   "outputs": [],
   "source": [
    "grid = grid.merge(date_features, on = 'date_block_num', how = 'left')"
   ]
  },
  {
   "cell_type": "markdown",
   "metadata": {
    "colab_type": "text",
    "id": "1SYT49o9e9PO"
   },
   "source": [
    "## Item selling duration/First sale/last sale"
   ]
  },
  {
   "cell_type": "code",
   "execution_count": 0,
   "metadata": {
    "colab": {},
    "colab_type": "code",
    "id": "7O9DCHCWfuCd"
   },
   "outputs": [],
   "source": [
    "def get_sale_info(row, name):\n",
    "    duration = 0\n",
    "    sale_start = 34\n",
    "    first_sale = 0\n",
    "    sale_end = 34\n",
    "    last_sale = 0\n",
    "    for month in np.arange(34):\n",
    "        if row[str(month)] > 0:\n",
    "            duration = duration + 1\n",
    "    for month in np.arange(34):\n",
    "        if row[str(month)] > 0:\n",
    "            sale_start = month\n",
    "            first_sale = row[str(month)]\n",
    "            break\n",
    "    for month in np.arange(34):\n",
    "        if row[str( 33 - month)] > 0:\n",
    "            sale_end = 33 - month\n",
    "            last_sale = row[str(33 - month)]\n",
    "            break\n",
    "    row[name + '_sale_start'] = sale_start\n",
    "    row[name + '_first_sale'] = first_sale\n",
    "    row[name + '_sale_end'] = sale_end\n",
    "    row[name + '_last_sale'] = last_sale\n",
    "    row[name + '_selling_duration'] = duration\n",
    "    return row\n",
    "   "
   ]
  },
  {
   "cell_type": "code",
   "execution_count": 123,
   "metadata": {
    "colab": {
     "base_uri": "https://localhost:8080/",
     "height": 34
    },
    "colab_type": "code",
    "executionInfo": {
     "elapsed": 135273,
     "status": "ok",
     "timestamp": 1568522512172,
     "user": {
      "displayName": "BA22",
      "photoUrl": "",
      "userId": "02603670721502132211"
     },
     "user_tz": -120
    },
    "id": "fVnbNbEYfA29",
    "outputId": "99c3fc39-b406-462c-85e1-344359c676a0"
   },
   "outputs": [
    {
     "name": "stdout",
     "output_type": "stream",
     "text": [
      "134 seconds\n"
     ]
    }
   ],
   "source": [
    "start = time.time()\n",
    "items_sales_info = items_sales.apply(get_sale_info, axis = 1, name = 'item')\n",
    "items_sales_info = items_sales_info.drop(columns = [str(itr) for itr in np.arange(34)], axis = 0)\n",
    "print(round(time.time() - start), 'seconds')"
   ]
  },
  {
   "cell_type": "code",
   "execution_count": 0,
   "metadata": {
    "colab": {},
    "colab_type": "code",
    "id": "SKexqfANpErr"
   },
   "outputs": [],
   "source": [
    "grid = grid.merge(items_sales_info, on = 'item_id', how = 'left')"
   ]
  },
  {
   "cell_type": "markdown",
   "metadata": {
    "colab_type": "text",
    "id": "P_ckCr0VpblT"
   },
   "source": [
    "## shop selling duration/First sale/last sale"
   ]
  },
  {
   "cell_type": "code",
   "execution_count": 125,
   "metadata": {
    "colab": {
     "base_uri": "https://localhost:8080/",
     "height": 34
    },
    "colab_type": "code",
    "executionInfo": {
     "elapsed": 1347,
     "status": "ok",
     "timestamp": 1568522521875,
     "user": {
      "displayName": "BA22",
      "photoUrl": "",
      "userId": "02603670721502132211"
     },
     "user_tz": -120
    },
    "id": "ZQ8KPlOApgr6",
    "outputId": "6b24237d-8273-4cfa-caf1-9ca56d8a9251"
   },
   "outputs": [
    {
     "name": "stdout",
     "output_type": "stream",
     "text": [
      "0 seconds\n"
     ]
    }
   ],
   "source": [
    "start = time.time()\n",
    "shops_sales_info = shops_sales.apply(get_sale_info, axis = 1, name = 'shop')\n",
    "shops_sales_info = shops_sales_info.drop(columns = [str(itr) for itr in np.arange(34)], axis = 0)\n",
    "print(round(time.time() - start), 'seconds')"
   ]
  },
  {
   "cell_type": "code",
   "execution_count": 0,
   "metadata": {
    "colab": {},
    "colab_type": "code",
    "id": "dqgWDlXhpsI_"
   },
   "outputs": [],
   "source": [
    "grid = grid.merge(shops_sales_info, on = 'shop_id', how = 'left')"
   ]
  },
  {
   "cell_type": "markdown",
   "metadata": {
    "colab_type": "text",
    "id": "bh3CS6CIqTEn"
   },
   "source": [
    "## category selling duration/First sale/last sale"
   ]
  },
  {
   "cell_type": "code",
   "execution_count": 127,
   "metadata": {
    "colab": {
     "base_uri": "https://localhost:8080/",
     "height": 34
    },
    "colab_type": "code",
    "executionInfo": {
     "elapsed": 1564,
     "status": "ok",
     "timestamp": 1568522538312,
     "user": {
      "displayName": "BA22",
      "photoUrl": "",
      "userId": "02603670721502132211"
     },
     "user_tz": -120
    },
    "id": "R1C5dqqvqXWd",
    "outputId": "28e5f426-da87-4e8c-f71d-1457a57ead7a"
   },
   "outputs": [
    {
     "name": "stdout",
     "output_type": "stream",
     "text": [
      "1 seconds\n"
     ]
    }
   ],
   "source": [
    "start = time.time()\n",
    "categories_sales_info = categories_sales.apply(get_sale_info, axis = 1, name = 'category')\n",
    "categories_sales_info = categories_sales_info.drop(columns = [str(itr) for itr in np.arange(34)], axis = 0)\n",
    "print(round(time.time() - start), 'seconds')"
   ]
  },
  {
   "cell_type": "code",
   "execution_count": 0,
   "metadata": {
    "colab": {},
    "colab_type": "code",
    "id": "UvONUXQjqieu"
   },
   "outputs": [],
   "source": [
    "grid = grid.merge(categories_sales_info, on = 'item_category_id', how = 'left')"
   ]
  },
  {
   "cell_type": "code",
   "execution_count": 131,
   "metadata": {
    "colab": {
     "base_uri": "https://localhost:8080/",
     "height": 1000
    },
    "colab_type": "code",
    "executionInfo": {
     "elapsed": 11578,
     "status": "ok",
     "timestamp": 1568522966311,
     "user": {
      "displayName": "BA22",
      "photoUrl": "",
      "userId": "02603670721502132211"
     },
     "user_tz": -120
    },
    "id": "VkPFMdbGOsJF",
    "outputId": "9f7282d0-b5fe-4c85-97f7-1198010b1cc1"
   },
   "outputs": [
    {
     "data": {
      "text/plain": [
       "shop_id                            0\n",
       "item_id                            0\n",
       "date_block_num                     0\n",
       "target                             0\n",
       "item_category_id                   0\n",
       "target_lag_1                       0\n",
       "target_lag_2                       0\n",
       "target_lag_3                       0\n",
       "target_lag_4                       0\n",
       "target_lag_9                       0\n",
       "target_lag_10                      0\n",
       "target_lag_11                      0\n",
       "target_lag_12                      0\n",
       "item_id_lag_1                      0\n",
       "item_id_lag_2                      0\n",
       "item_id_lag_3                      0\n",
       "item_id_lag_4                      0\n",
       "item_id_lag_5                      0\n",
       "item_id_lag_6                      0\n",
       "item_id_lag_11                     0\n",
       "item_id_lag_12                     0\n",
       "shop_id_lag_1                      0\n",
       "shop_id_lag_2                      0\n",
       "shop_id_lag_3                      0\n",
       "shop_id_lag_4                      0\n",
       "shop_id_lag_5                      0\n",
       "shop_id_lag_6                      0\n",
       "shop_id_lag_9                      0\n",
       "shop_id_lag_12                     0\n",
       "item_category_id_lag_1             0\n",
       "                              ...   \n",
       "shop_sum                           0\n",
       "shop_max                           0\n",
       "shop_std                           0\n",
       "shop_median                        0\n",
       "category_sum                       0\n",
       "category_max                       0\n",
       "category_std                       0\n",
       "category_median                    0\n",
       "item_trans                     15246\n",
       "shop_trans                         0\n",
       "category_trans                     0\n",
       "shop_item_trans              2561079\n",
       "month                              0\n",
       "year                               0\n",
       "days_of_month                      0\n",
       "item_sale_start                15246\n",
       "item_first_sale                15246\n",
       "item_sale_end                  15246\n",
       "item_last_sale                 15246\n",
       "item_selling_duration          15246\n",
       "shop_sale_start                    0\n",
       "shop_first_sale                    0\n",
       "shop_sale_end                      0\n",
       "shop_last_sale                     0\n",
       "shop_selling_duration              0\n",
       "category_sale_start                0\n",
       "category_first_sale                0\n",
       "category_sale_end                  0\n",
       "category_last_sale                 0\n",
       "category_selling_duration          0\n",
       "Length: 76, dtype: int64"
      ]
     },
     "execution_count": 131,
     "metadata": {
      "tags": []
     },
     "output_type": "execute_result"
    }
   ],
   "source": [
    "grid.isnull().sum()"
   ]
  },
  {
   "cell_type": "code",
   "execution_count": 0,
   "metadata": {
    "colab": {},
    "colab_type": "code",
    "id": "qKx22yXbPQkD"
   },
   "outputs": [],
   "source": [
    "grid.shop_item_trans = grid.shop_item_trans.fillna(0)\n",
    "grid.item_trans = grid.item_trans.fillna(0)\n",
    "\n",
    "grid.item_sale_start = grid.item_sale_start.fillna(33)\n",
    "grid.item_first_sale = grid.item_sale_start.fillna(0)\n",
    "\n",
    "grid.item_sale_end = grid.item_sale_end.fillna(33)\n",
    "grid.item_last_sale = grid.item_last_sale.fillna(0)\n",
    "\n",
    "grid.item_selling_duration = grid.item_selling_duration.fillna(0)"
   ]
  },
  {
   "cell_type": "markdown",
   "metadata": {
    "colab_type": "text",
    "id": "JWHmGrcbrDL5"
   },
   "source": [
    "## Feature Interaction"
   ]
  },
  {
   "cell_type": "markdown",
   "metadata": {
    "colab_type": "text",
    "id": "SJ_qKMxLrE_r"
   },
   "source": [
    "### Item/category"
   ]
  },
  {
   "cell_type": "code",
   "execution_count": 0,
   "metadata": {
    "colab": {},
    "colab_type": "code",
    "id": "ebkxJ1KwrLR-"
   },
   "outputs": [],
   "source": [
    "grid['item_category_inter'] = grid['item_id'].astype(str) + '_' + grid['item_category_id'].astype(str)"
   ]
  },
  {
   "cell_type": "code",
   "execution_count": 0,
   "metadata": {
    "colab": {},
    "colab_type": "code",
    "id": "zZeTQ0SmrVPi"
   },
   "outputs": [],
   "source": [
    "grid.loc[:, 'item_category_inter'] = LabelEncoder().fit_transform(grid.loc[:, 'item_category_inter'].values)"
   ]
  },
  {
   "cell_type": "markdown",
   "metadata": {
    "colab_type": "text",
    "id": "WEaGRHnvrtdw"
   },
   "source": [
    "### item/shop"
   ]
  },
  {
   "cell_type": "code",
   "execution_count": 0,
   "metadata": {
    "colab": {},
    "colab_type": "code",
    "id": "KEML_dCrr2UG"
   },
   "outputs": [],
   "source": [
    "grid['item_shop_inter'] = grid['item_id'].astype(str) + '_' + grid['shop_id'].astype(str)\n",
    "grid.loc[:, 'item_shop_inter'] = LabelEncoder().fit_transform(grid.loc[:, 'item_shop_inter'].values)"
   ]
  },
  {
   "cell_type": "markdown",
   "metadata": {
    "colab_type": "text",
    "id": "jjnZbMw-sG_Q"
   },
   "source": [
    "### shop/category"
   ]
  },
  {
   "cell_type": "code",
   "execution_count": 0,
   "metadata": {
    "colab": {},
    "colab_type": "code",
    "id": "E9RcaTwQsKY1"
   },
   "outputs": [],
   "source": [
    "grid['category_shop_inter'] = grid['item_category_id'].astype(str) + '_' + grid['shop_id'].astype(str)\n",
    "grid.loc[:, 'category_shop_inter'] = LabelEncoder().fit_transform(grid.loc[:, 'category_shop_inter'].values)"
   ]
  },
  {
   "cell_type": "markdown",
   "metadata": {
    "colab_type": "text",
    "id": "8kATU6m0vMq8"
   },
   "source": [
    "## Add categorical features"
   ]
  },
  {
   "cell_type": "markdown",
   "metadata": {
    "colab_type": "text",
    "id": "ZwRyFR5ARsd6"
   },
   "source": [
    "### Item categorical features"
   ]
  },
  {
   "cell_type": "code",
   "execution_count": 0,
   "metadata": {
    "colab": {},
    "colab_type": "code",
    "id": "ZR--33OcKYNb"
   },
   "outputs": [],
   "source": [
    "for col in items.columns:\n",
    "    if items[col].dtypes == np.object:\n",
    "        items.loc[:, col] = LabelEncoder().fit_transform(items[col].values)"
   ]
  },
  {
   "cell_type": "code",
   "execution_count": 0,
   "metadata": {
    "colab": {},
    "colab_type": "code",
    "id": "HDR0wRKsKFMo"
   },
   "outputs": [],
   "source": [
    "grid = grid.merge(items, on = ['item_id', 'item_category_id'], how = 'left')"
   ]
  },
  {
   "cell_type": "markdown",
   "metadata": {
    "colab_type": "text",
    "id": "NVjsWlZ2Rz4p"
   },
   "source": [
    "### Categories categorical features"
   ]
  },
  {
   "cell_type": "code",
   "execution_count": 0,
   "metadata": {
    "colab": {},
    "colab_type": "code",
    "id": "BUJLDmXGLjrK"
   },
   "outputs": [],
   "source": [
    "for col in categories.columns:\n",
    "    if categories[col].dtypes == np.object:\n",
    "        categories.loc[:, col] = LabelEncoder().fit_transform(categories[col].values)"
   ]
  },
  {
   "cell_type": "code",
   "execution_count": 0,
   "metadata": {
    "colab": {},
    "colab_type": "code",
    "id": "Pw5BcfLwLuZZ"
   },
   "outputs": [],
   "source": [
    "grid = grid.merge(categories, on = 'item_category_id', how = 'left')"
   ]
  },
  {
   "cell_type": "markdown",
   "metadata": {
    "colab_type": "text",
    "id": "ofN-PgxVR4QD"
   },
   "source": [
    "### shop categorical features"
   ]
  },
  {
   "cell_type": "code",
   "execution_count": 0,
   "metadata": {
    "colab": {},
    "colab_type": "code",
    "id": "Nv_sEYwWL6Oh"
   },
   "outputs": [],
   "source": [
    "for col in shops.columns:\n",
    "    if shops[col].dtypes == np.object:\n",
    "        shops.loc[:, col] = LabelEncoder().fit_transform(shops[col].values)"
   ]
  },
  {
   "cell_type": "code",
   "execution_count": 0,
   "metadata": {
    "colab": {},
    "colab_type": "code",
    "id": "h7NC_ieRNuyu"
   },
   "outputs": [],
   "source": [
    "grid = grid.merge(shops, on = 'shop_id', how = 'left')"
   ]
  },
  {
   "cell_type": "markdown",
   "metadata": {
    "colab_type": "text",
    "id": "dkKvuOYOHYMB"
   },
   "source": [
    "# Save grid"
   ]
  },
  {
   "cell_type": "code",
   "execution_count": 149,
   "metadata": {
    "colab": {
     "base_uri": "https://localhost:8080/",
     "height": 34
    },
    "colab_type": "code",
    "executionInfo": {
     "elapsed": 1327,
     "status": "ok",
     "timestamp": 1568523640427,
     "user": {
      "displayName": "BA22",
      "photoUrl": "",
      "userId": "02603670721502132211"
     },
     "user_tz": -120
    },
    "id": "KnCDh35Vs3RU",
    "outputId": "eb00de0f-aa22-441e-e558-58302296d879"
   },
   "outputs": [
    {
     "name": "stdout",
     "output_type": "stream",
     "text": [
      "(6567567, 93)\n"
     ]
    }
   ],
   "source": [
    "print(grid.shape)"
   ]
  },
  {
   "cell_type": "code",
   "execution_count": 0,
   "metadata": {
    "colab": {
     "base_uri": "https://localhost:8080/",
     "height": 51
    },
    "colab_type": "code",
    "executionInfo": {
     "elapsed": 15748,
     "status": "ok",
     "timestamp": 1568446697305,
     "user": {
      "displayName": "BA22",
      "photoUrl": "",
      "userId": "02603670721502132211"
     },
     "user_tz": -120
    },
    "id": "S9FuHN0Os_Px",
    "outputId": "d7cfe6ef-7ba7-4c4d-e7ee-aa2df1126d38"
   },
   "outputs": [
    {
     "name": "stdout",
     "output_type": "stream",
     "text": [
      "Memory usage: 3251.97 MB\n",
      "New Memory usage: 1977.20 MB\n"
     ]
    }
   ],
   "source": [
    "grid = downcast_dtypes(grid)"
   ]
  },
  {
   "cell_type": "code",
   "execution_count": 147,
   "metadata": {
    "colab": {
     "base_uri": "https://localhost:8080/",
     "height": 34
    },
    "colab_type": "code",
    "executionInfo": {
     "elapsed": 1348,
     "status": "ok",
     "timestamp": 1568523477617,
     "user": {
      "displayName": "BA22",
      "photoUrl": "",
      "userId": "02603670721502132211"
     },
     "user_tz": -120
    },
    "id": "nO1SjzoGSDki",
    "outputId": "7907f62d-fe41-4848-ec47-cbe49653e437"
   },
   "outputs": [
    {
     "data": {
      "text/plain": [
       "'grid_No_missing_06_57_56__15_Sep_2019'"
      ]
     },
     "execution_count": 147,
     "metadata": {
      "tags": []
     },
     "output_type": "execute_result"
    }
   ],
   "source": [
    "save_name = generate_name('grid_No_missing')\n",
    "save_name"
   ]
  },
  {
   "cell_type": "code",
   "execution_count": 148,
   "metadata": {
    "colab": {
     "base_uri": "https://localhost:8080/",
     "height": 34
    },
    "colab_type": "code",
    "executionInfo": {
     "elapsed": 129901,
     "status": "ok",
     "timestamp": 1568523631040,
     "user": {
      "displayName": "BA22",
      "photoUrl": "",
      "userId": "02603670721502132211"
     },
     "user_tz": -120
    },
    "id": "OPUsAyQzs0di",
    "outputId": "70cf5c81-34fa-47f6-fe9a-13daa63caa68"
   },
   "outputs": [
    {
     "name": "stdout",
     "output_type": "stream",
     "text": [
      "129 seconds\n"
     ]
    }
   ],
   "source": [
    "start = time.time()\n",
    "grid.to_pickle(data_path + save_name + '.pkl')\n",
    "print(round(time.time() - start), 'seconds')"
   ]
  },
  {
   "cell_type": "code",
   "execution_count": 0,
   "metadata": {
    "colab": {},
    "colab_type": "code",
    "id": "3IzdiZ_7uuzW"
   },
   "outputs": [],
   "source": []
  }
 ],
 "metadata": {
  "colab": {
   "collapsed_sections": [
    "QimFCsvHcMqz",
    "Wtrbmid8khfA",
    "eNND7iV0jRqx",
    "-JvnlD9XmZve",
    "qwLAspPygJuD",
    "yB2wn7wuyU4y",
    "iu9ouud6Iqab",
    "bdeNQvY9Jpzm",
    "M5jeHQksMb9I",
    "Ypyqb1wpoW-y",
    "ULMi2BsQpHF-",
    "ZeRATDNmCEb2",
    "tWRuwCEtcGY2",
    "1SYT49o9e9PO",
    "P_ckCr0VpblT",
    "bh3CS6CIqTEn",
    "JWHmGrcbrDL5",
    "8kATU6m0vMq8",
    "dkKvuOYOHYMB"
   ],
   "machine_shape": "hm",
   "name": "feature_engineering.ipynb",
   "provenance": [],
   "version": "0.3.2"
  },
  "kernelspec": {
   "display_name": "Python 3",
   "language": "python",
   "name": "python3"
  },
  "language_info": {
   "codemirror_mode": {
    "name": "ipython",
    "version": 3
   },
   "file_extension": ".py",
   "mimetype": "text/x-python",
   "name": "python",
   "nbconvert_exporter": "python",
   "pygments_lexer": "ipython3",
   "version": "3.7.6"
  },
  "toc": {
   "base_numbering": 1,
   "nav_menu": {},
   "number_sections": true,
   "sideBar": true,
   "skip_h1_title": false,
   "title_cell": "Table of Contents",
   "title_sidebar": "Contents",
   "toc_cell": false,
   "toc_position": {},
   "toc_section_display": true,
   "toc_window_display": false
  }
 },
 "nbformat": 4,
 "nbformat_minor": 1
}
