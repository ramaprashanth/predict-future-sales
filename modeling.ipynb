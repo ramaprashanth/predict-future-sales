{
 "cells": [
  {
   "cell_type": "markdown",
   "metadata": {
    "colab_type": "text",
    "id": "VFtLc7646eq-"
   },
   "source": [
    "# Google Drive"
   ]
  },
  {
   "cell_type": "code",
   "execution_count": 1,
   "metadata": {
    "colab": {
     "base_uri": "https://localhost:8080/",
     "height": 122
    },
    "colab_type": "code",
    "executionInfo": {
     "elapsed": 26847,
     "status": "ok",
     "timestamp": 1568965954136,
     "user": {
      "displayName": "BA22",
      "photoUrl": "",
      "userId": "02603670721502132211"
     },
     "user_tz": -120
    },
    "id": "MI1dryiJwQAL",
    "outputId": "5749d394-2b42-4a3e-8ab1-8d3060830df7"
   },
   "outputs": [
    {
     "name": "stdout",
     "output_type": "stream",
     "text": [
      "Go to this URL in a browser: https://accounts.google.com/o/oauth2/auth?client_id=947318989803-6bn6qk8qdgf4n4g3pfee6491hc0brc4i.apps.googleusercontent.com&redirect_uri=urn%3Aietf%3Awg%3Aoauth%3A2.0%3Aoob&scope=email%20https%3A%2F%2Fwww.googleapis.com%2Fauth%2Fdocs.test%20https%3A%2F%2Fwww.googleapis.com%2Fauth%2Fdrive%20https%3A%2F%2Fwww.googleapis.com%2Fauth%2Fdrive.photos.readonly%20https%3A%2F%2Fwww.googleapis.com%2Fauth%2Fpeopleapi.readonly&response_type=code\n",
      "\n",
      "Enter your authorization code:\n",
      "··········\n",
      "Mounted at /content/drive/\n"
     ]
    }
   ],
   "source": [
    "from google.colab import drive\n",
    "drive.mount('/content/drive/')\n",
    "data_path = '/content/drive/My Drive/Colab Notebooks/predict_future_sales/data/prep/'\n",
    "sub_path = '/content/drive/My Drive/Colab Notebooks/predict_future_sales/submissions/'\n",
    "model_path = '/content/drive/My Drive/Colab Notebooks/predict_future_sales/models/'"
   ]
  },
  {
   "cell_type": "markdown",
   "metadata": {
    "colab_type": "text",
    "id": "WR6J9cgrmyCm"
   },
   "source": [
    "## Install libs"
   ]
  },
  {
   "cell_type": "code",
   "execution_count": 3,
   "metadata": {
    "colab": {
     "base_uri": "https://localhost:8080/",
     "height": 360
    },
    "colab_type": "code",
    "executionInfo": {
     "elapsed": 12558,
     "status": "ok",
     "timestamp": 1568965967329,
     "user": {
      "displayName": "BA22",
      "photoUrl": "",
      "userId": "02603670721502132211"
     },
     "user_tz": -120
    },
    "id": "4v5pfmwym0wa",
    "outputId": "24fc1183-7768-4e6b-d07b-9d50d54fb8eb"
   },
   "outputs": [
    {
     "name": "stdout",
     "output_type": "stream",
     "text": [
      "Collecting catboost\n",
      "\u001b[?25l  Downloading https://files.pythonhosted.org/packages/20/ef/c2ce46539e7b946ae2165fb753b11e200cb8bb9319a21821222644ddc281/catboost-0.17.2-cp36-none-manylinux1_x86_64.whl (62.5MB)\n",
      "\u001b[K     |████████████████████████████████| 62.5MB 764kB/s \n",
      "\u001b[?25hRequirement already satisfied: scipy in /usr/local/lib/python3.6/dist-packages (from catboost) (1.3.1)\n",
      "Requirement already satisfied: pandas>=0.24.0 in /usr/local/lib/python3.6/dist-packages (from catboost) (0.24.2)\n",
      "Requirement already satisfied: graphviz in /usr/local/lib/python3.6/dist-packages (from catboost) (0.10.1)\n",
      "Requirement already satisfied: six in /usr/local/lib/python3.6/dist-packages (from catboost) (1.12.0)\n",
      "Requirement already satisfied: matplotlib in /usr/local/lib/python3.6/dist-packages (from catboost) (3.0.3)\n",
      "Requirement already satisfied: plotly in /usr/local/lib/python3.6/dist-packages (from catboost) (4.1.1)\n",
      "Requirement already satisfied: numpy>=1.16.0 in /usr/local/lib/python3.6/dist-packages (from catboost) (1.16.5)\n",
      "Requirement already satisfied: python-dateutil>=2.5.0 in /usr/local/lib/python3.6/dist-packages (from pandas>=0.24.0->catboost) (2.5.3)\n",
      "Requirement already satisfied: pytz>=2011k in /usr/local/lib/python3.6/dist-packages (from pandas>=0.24.0->catboost) (2018.9)\n",
      "Requirement already satisfied: cycler>=0.10 in /usr/local/lib/python3.6/dist-packages (from matplotlib->catboost) (0.10.0)\n",
      "Requirement already satisfied: kiwisolver>=1.0.1 in /usr/local/lib/python3.6/dist-packages (from matplotlib->catboost) (1.1.0)\n",
      "Requirement already satisfied: pyparsing!=2.0.4,!=2.1.2,!=2.1.6,>=2.0.1 in /usr/local/lib/python3.6/dist-packages (from matplotlib->catboost) (2.4.2)\n",
      "Requirement already satisfied: retrying>=1.3.3 in /usr/local/lib/python3.6/dist-packages (from plotly->catboost) (1.3.3)\n",
      "Requirement already satisfied: setuptools in /usr/local/lib/python3.6/dist-packages (from kiwisolver>=1.0.1->matplotlib->catboost) (41.2.0)\n",
      "Installing collected packages: catboost\n",
      "Successfully installed catboost-0.17.2\n"
     ]
    }
   ],
   "source": [
    "!pip install catboost"
   ]
  },
  {
   "cell_type": "markdown",
   "metadata": {
    "colab_type": "text",
    "id": "zth9ed_263sM"
   },
   "source": [
    "# Import libs"
   ]
  },
  {
   "cell_type": "code",
   "execution_count": 4,
   "metadata": {
    "colab": {
     "base_uri": "https://localhost:8080/",
     "height": 34
    },
    "colab_type": "code",
    "executionInfo": {
     "elapsed": 11591,
     "status": "ok",
     "timestamp": 1568965969542,
     "user": {
      "displayName": "BA22",
      "photoUrl": "",
      "userId": "02603670721502132211"
     },
     "user_tz": -120
    },
    "id": "R_kc9Dbo7NOf",
    "outputId": "e16c429f-da47-40ba-bdc0-5228076224c8"
   },
   "outputs": [
    {
     "name": "stdout",
     "output_type": "stream",
     "text": [
      "1.14.0\n"
     ]
    }
   ],
   "source": [
    "import pandas as pd\n",
    "import numpy as np\n",
    "import gc\n",
    "import matplotlib as mpl\n",
    "import matplotlib.pyplot as plt\n",
    "%matplotlib inline\n",
    "import seaborn as sns\n",
    "import lightgbm as lgb\n",
    "from sklearn.metrics import mean_squared_error\n",
    "import datetime\n",
    "from pytz import timezone\n",
    "import time\n",
    "from sklearn.linear_model import LinearRegression\n",
    "from xgboost import XGBRegressor\n",
    "from sklearn.preprocessing import StandardScaler\n",
    "from catboost import CatBoostRegressor\n",
    "from catboost import *\n",
    "from sklearn import linear_model\n",
    "import joblib\n",
    "import tensorflow as tf\n",
    "from tensorflow import keras\n",
    "from tensorflow.keras import layers\n",
    "\n",
    "print(tf.__version__)\n",
    "\n",
    "mpl.rcParams['axes.grid'] = True\n",
    "mpl.rcParams['figure.figsize'] = [8.0, 6.0]\n",
    "pd.set_option('display.max_rows', 500)\n",
    "pd.set_option('display.max_columns', 500)\n",
    "pd.set_option('display.width', 1000)\n",
    "\n",
    "index_cols = ['shop_id', 'item_id', 'date_block_num'] \n",
    "cols_to_drop = ['target', 'date_block_num']"
   ]
  },
  {
   "cell_type": "markdown",
   "metadata": {
    "colab_type": "text",
    "id": "Obdp9bZB60-p"
   },
   "source": [
    "# Load Data"
   ]
  },
  {
   "cell_type": "code",
   "execution_count": 0,
   "metadata": {
    "colab": {},
    "colab_type": "code",
    "id": "v7BR0vFX7D3w"
   },
   "outputs": [],
   "source": [
    "grid = pd.read_pickle(data_path + 'grid_No_missing_06_57_56__15_Sep_2019.pkl')"
   ]
  },
  {
   "cell_type": "markdown",
   "metadata": {
    "colab_type": "text",
    "id": "DH1GMD2W68Ow"
   },
   "source": [
    "# Utile Functions"
   ]
  },
  {
   "cell_type": "code",
   "execution_count": 3,
   "metadata": {
    "colab": {},
    "colab_type": "code",
    "id": "KdHMoa_97qea"
   },
   "outputs": [],
   "source": [
    "def train_val_test_split(df):\n",
    "    dates = df['date_block_num']\n",
    "    last_block = dates.max()\n",
    "    print('Test `date_block_num` is %d' % last_block)\n",
    "    print('Validation `date_block_num` is %d' % (last_block - 1))\n",
    "    print('Train `date_block_num` is < %d' % (last_block - 1))\n",
    "    print('------------------------------')\n",
    "\n",
    "    X_train = df.loc[dates < last_block - 1].drop(cols_to_drop, axis = 1)\n",
    "    X_val = df.loc[dates == last_block - 1].drop(cols_to_drop, axis = 1)\n",
    "    X_test =  df.loc[dates == last_block].drop(cols_to_drop, axis = 1)\n",
    "\n",
    "    y_train = df.loc[dates < last_block - 1, 'target'].values\n",
    "    y_val =  df.loc[dates == last_block - 1, 'target'].values\n",
    "    y_test = df.loc[dates == last_block, 'target'].values\n",
    "    \n",
    "    print('X_train shape: ', X_train.shape)\n",
    "    print('y_train shape: ', y_train.shape)\n",
    "    print('------------------------------')\n",
    "    print('X_val shape: ', X_val.shape)\n",
    "    print('y_val shape: ', y_val.shape)\n",
    "    print('------------------------------')\n",
    "    print('X_test shape: ', X_test.shape)\n",
    "    print('y_test shape: ', y_test.shape)\n",
    "    print('------------------------------')\n",
    "    return (X_train, y_train, X_val, y_val, X_test, y_test)\n",
    "\n",
    "def rmse(y, y_hat):\n",
    "    return np.sqrt(mean_squared_error(y, y_hat))\n",
    "\n",
    "def create_submission(model, X, model_name = 'lgb'):\n",
    "    y_hat = model.predict(X).clip(0, 20)\n",
    "    submission = pd.DataFrame(columns = ['ID', 'item_cnt_month'])\n",
    "    test = pd.read_pickle(data_path + 'test.pkl')\n",
    "    submission.ID = test.index.values\n",
    "    submission.item_cnt_month = y_hat\n",
    "    now = datetime.datetime.now(timezone('Europe/Berlin'))\n",
    "    file_id = now.strftime(\"%H_%M_%S__%d_%h_%Y\")\n",
    "    file_save_path = sub_path + model_name + '_' + file_id + '.csv'\n",
    "    submission.to_csv(file_save_path, index = False)\n",
    "    print('saved: ', file_save_path)\n",
    "    submission_name = model_name + '_' + file_id \n",
    "    return (submission, submission_name)\n",
    "  \n",
    "def create_model(X_train, y_train, X_val, y_val, params, categorical_features):\n",
    "    n_estimators = 8000\n",
    "    d_train = lgb.Dataset(X_train, y_train)\n",
    "    d_valid = lgb.Dataset(X_val, y_val)\n",
    "    watchlist = [d_train, d_valid]\n",
    "    evals_result = {}\n",
    "    model = lgb.train(params, \n",
    "                      d_train, \n",
    "                      n_estimators,\n",
    "                      valid_sets = watchlist, \n",
    "                      evals_result = evals_result, \n",
    "                      early_stopping_rounds = 50,\n",
    "                      verbose_eval = 0,\n",
    "                      categorical_feature = categorical_features,\n",
    "                    )\n",
    "    lgb.plot_metric(evals_result)\n",
    "    return model\n",
    "\n",
    "def submit_solution(submission, submission_name, hack_submission = True):\n",
    "    if hack_submission == True:\n",
    "        outdated_items = pd.read_pickle(data_path + 'outdated_items.pkl')\n",
    "        outdated_shops = pd.read_pickle(data_path + 'outdated_shops.pkl')\n",
    "        outdated_categories = pd.read_pickle(data_path + 'outdated_categories.pkl')\n",
    "        test = pd.read_pickle(data_path + 'test.pkl')\n",
    "        test = test.reset_index()\n",
    "\n",
    "    test_outdated_items_ids = test.loc[test.item_id.isin(outdated_items.item_id.unique())].ID.values\n",
    "    test_outdated_shops_ids = test.loc[test.shop_id.isin(outdated_shops.shop_id.unique())].ID.values\n",
    "    submission.loc[submission.ID.isin(test_outdated_items_ids), 'item_cnt_month'] = 0\n",
    "    submission.loc[submission.ID.isin(test_outdated_shops_ids), 'item_cnt_month'] = 0\n",
    "\n",
    "    import json\n",
    "    access_token = {\"username\":\"basselkassem\",\"key\":\"d40e51c9ae7e205ee362a3f2e9ae25b1\"}\n",
    "    with open('/content/kaggle.json', 'w') as file:\n",
    "        json.dump(access_token, file)\n",
    "    !pip install -q kaggle\n",
    "    !mkdir -p ~/.kaggle \n",
    "    !cp kaggle.json ~/.kaggle/\n",
    "    !chmod 600 /root/.kaggle/kaggle.json\n",
    "    submission.to_csv(submission_name + '.csv', index = 0)\n",
    "    !kaggle competitions submit -c competitive-data-science-predict-future-sales -f {submission_name}.csv -m \"Message\"\n",
    "\n",
    "def evaluate_model(model, X_train, y_train, X_val, y_val): \n",
    "    y_hat = model.predict(X_train)\n",
    "    print('Training error;', rmse(y_train, y_hat))\n",
    "    y_val_hat = model.predict(X_val)\n",
    "    print('Validation error:', rmse(y_val, y_val_hat))\n",
    "    \n",
    "def plot_feature_importance(model, X):\n",
    "    feat_importance = pd.DataFrame(sorted(zip(model.feature_importance(importance_type = 'gain'), X.columns)), columns=['Score','Feature'])\n",
    "    feat_importance = feat_importance.sort_values(by = \"Score\", ascending = False)\n",
    "    plt.figure(figsize = (10, 15))\n",
    "    sns.barplot(x = \"Score\", y = \"Feature\", data = feat_importance)\n",
    "    plt.title('LightGBM Features')\n",
    "    plt.tight_layout()\n",
    "    plt.show()\n",
    "    return feat_importance.reset_index(drop = True)\n",
    "\n",
    "def plot_catboost_feature_importance(model, X, y):\n",
    "    feature_score = pd.DataFrame(list(zip(X.dtypes.index, model.get_feature_importance(\n",
    "        Pool(X, label = y, cat_features = categorical_features_index)))), columns=['Feature','Score']\n",
    "        )\n",
    "\n",
    "    feature_score = feature_score.sort_values(by='Score', ascending=False, inplace=False, kind='quicksort', na_position='last')\n",
    "    plt.rcParams[\"figure.figsize\"] = (15, 7)\n",
    "    ax = feature_score.plot('Feature', 'Score', kind='bar', color='c')\n",
    "    ax.set_title(\"Catboost Feature Importance Ranking\", fontsize = 14)\n",
    "    ax.set_xlabel('')\n",
    "\n",
    "    rects = ax.patches\n",
    "\n",
    "    labels = feature_score['Score'].round(2)\n",
    "\n",
    "    for rect, label in zip(rects, labels):\n",
    "        height = rect.get_height()\n",
    "        ax.text(rect.get_x() + rect.get_width()/2, height + 0.35, label, ha='center', va='bottom')\n",
    "\n",
    "    plt.show()\n",
    "    return feature_score\n",
    "\n",
    "def plot_correlation(corr):\n",
    "    f, ax = plt.subplots(figsize = (18, 8))\n",
    "    ax = sns.heatmap(corr, cmap = plt.cm.Reds)\n",
    "    ax.set_xticklabels(\n",
    "      ax.get_xticklabels(),\n",
    "      rotation = 45,\n",
    "      horizontalalignment = 'right'\n",
    "    )\n",
    "    plt.show()\n",
    "\n",
    "def generate_name(my_name):\n",
    "    now = datetime.datetime.now(timezone('Europe/Berlin'))\n",
    "    name_id = now.strftime(\"%H_%M_%S__%d_%h_%Y\")\n",
    "    return my_name + '_' + name_id\n",
    "  \n",
    "def nn_rmse(y_true, y_pred):\n",
    "    return keras.backend.sqrt(keras.backend.mean(keras.backend.square(y_pred - y_true)))\n",
    "def build_nn_model(input_shape):\n",
    "    model = keras.Sequential([\n",
    "      layers.Dense(128, kernel_initializer='uniform', activation = tf.nn.relu, input_shape = input_shape),\n",
    "      layers.Dense(1, kernel_initializer='uniform')\n",
    "    ])\n",
    "    optimizer = tf.keras.optimizers.RMSprop(0.001)\n",
    "    model.compile(loss = 'mse',\n",
    "                optimizer = optimizer,\n",
    "                metrics = [nn_rmse])\n",
    "    return model"
   ]
  },
  {
   "cell_type": "markdown",
   "metadata": {
    "colab_type": "text",
    "id": "XndOKqVa6_Xz"
   },
   "source": [
    "# Feature Selection"
   ]
  },
  {
   "cell_type": "markdown",
   "metadata": {
    "colab_type": "text",
    "id": "rH9mjp1gELNV"
   },
   "source": [
    "We have 87 features. We want to choose 30~32 relavent features.\n",
    "\n",
    "Due to computing power limitation, we will choose relevant features manually. \n",
    "I will choose the features using correlation matrix and  xgbtree features importance."
   ]
  },
  {
   "cell_type": "markdown",
   "metadata": {
    "colab_type": "text",
    "id": "GBtpWYT1E6W2"
   },
   "source": [
    "## Correlation matrix"
   ]
  },
  {
   "cell_type": "code",
   "execution_count": 0,
   "metadata": {
    "colab": {},
    "colab_type": "code",
    "id": "H3iZPCbm4gy9"
   },
   "outputs": [],
   "source": [
    "X = grid[grid.date_block_num < 34]\n",
    "corr = X.corr()\n",
    "corr.to_pickle(data_path + 'corr.pkl')"
   ]
  },
  {
   "cell_type": "code",
   "execution_count": 0,
   "metadata": {
    "colab": {
     "base_uri": "https://localhost:8080/",
     "height": 567
    },
    "colab_type": "code",
    "executionInfo": {
     "elapsed": 119800,
     "status": "ok",
     "timestamp": 1568524749965,
     "user": {
      "displayName": "BA22",
      "photoUrl": "",
      "userId": "02603670721502132211"
     },
     "user_tz": -120
    },
    "id": "8_rV3YgF_1NG",
    "outputId": "35150592-47e7-4b99-84a7-96e0032189df"
   },
   "outputs": [
    {
     "data": {
      "image/png": "[encoded data removed]",
      "text/plain": [
       "<Figure size 1296x576 with 2 Axes>"
      ]
     },
     "metadata": {
      "tags": []
     },
     "output_type": "display_data"
    }
   ],
   "source": [
    "plot_correlation(corr)"
   ]
  },
  {
   "cell_type": "markdown",
   "metadata": {
    "colab_type": "text",
    "id": "02GEdV6uFgMR"
   },
   "source": [
    "## Feature importance"
   ]
  },
  {
   "cell_type": "code",
   "execution_count": 0,
   "metadata": {
    "colab": {
     "base_uri": "https://localhost:8080/",
     "height": 238
    },
    "colab_type": "code",
    "executionInfo": {
     "elapsed": 6461,
     "status": "ok",
     "timestamp": 1568529996658,
     "user": {
      "displayName": "BA22",
      "photoUrl": "",
      "userId": "02603670721502132211"
     },
     "user_tz": -120
    },
    "id": "vUG4cKe6CTvG",
    "outputId": "ecd90d02-1e11-4f43-8cc4-523a861150fa"
   },
   "outputs": [
    {
     "name": "stdout",
     "output_type": "stream",
     "text": [
      "Test `date_block_num` is 34\n",
      "Validation `date_block_num` is 33\n",
      "Train `date_block_num` is < 33\n",
      "------------------------------\n",
      "X_train shape:  (6115195, 91)\n",
      "y_train shape:  (6115195,)\n",
      "------------------------------\n",
      "X_val shape:  (238172, 91)\n",
      "y_val shape:  (238172,)\n",
      "------------------------------\n",
      "X_test shape:  (214200, 91)\n",
      "y_test shape:  (214200,)\n",
      "------------------------------\n"
     ]
    }
   ],
   "source": [
    "X_train, y_train, X_val, y_val, X_test, y_test = train_val_test_split(grid)"
   ]
  },
  {
   "cell_type": "code",
   "execution_count": 0,
   "metadata": {
    "colab": {
     "base_uri": "https://localhost:8080/",
     "height": 421
    },
    "colab_type": "code",
    "executionInfo": {
     "elapsed": 316506,
     "status": "ok",
     "timestamp": 1568530314523,
     "user": {
      "displayName": "BA22",
      "photoUrl": "",
      "userId": "02603670721502132211"
     },
     "user_tz": -120
    },
    "id": "-NfMaa3yGME4",
    "outputId": "0d99fcdc-7e22-44c6-e18b-455c14546984"
   },
   "outputs": [
    {
     "name": "stdout",
     "output_type": "stream",
     "text": [
      "316 seconds\n"
     ]
    },
    {
     "data": {
      "image/png": "[encoded data removed]",
      "text/plain": [
       "<Figure size 576x432 with 1 Axes>"
      ]
     },
     "metadata": {
      "tags": []
     },
     "output_type": "display_data"
    }
   ],
   "source": [
    "start = time.time()\n",
    "params = {\n",
    "    'metric': 'rmse',\n",
    "    'objective': 'mse', \n",
    "    'verbose': 0,\n",
    "}\n",
    "model = create_model(X_train, y_train, X_val, y_val, params)\n",
    "print(round(time.time() - start), 'seconds')"
   ]
  },
  {
   "cell_type": "code",
   "execution_count": 0,
   "metadata": {
    "colab": {
     "base_uri": "https://localhost:8080/",
     "height": 1000
    },
    "colab_type": "code",
    "executionInfo": {
     "elapsed": 3497,
     "status": "ok",
     "timestamp": 1568530318043,
     "user": {
      "displayName": "BA22",
      "photoUrl": "",
      "userId": "02603670721502132211"
     },
     "user_tz": -120
    },
    "id": "AWUtEKhjHrL6",
    "outputId": "a8f06810-81d8-4c4c-aa88-f77342bbf2ea"
   },
   "outputs": [
    {
     "data": {
      "image/png": "[encoded data removed]",
      "text/plain": [
       "<Figure size 720x1080 with 1 Axes>"
      ]
     },
     "metadata": {
      "tags": []
     },
     "output_type": "display_data"
    }
   ],
   "source": [
    "feature_importance = plot_feature_importance(model, X_train)"
   ]
  },
  {
   "cell_type": "code",
   "execution_count": 0,
   "metadata": {
    "colab": {},
    "colab_type": "code",
    "id": "kpCfqx6qrOMr"
   },
   "outputs": [],
   "source": [
    "feature_importance.to_pickle(data_path + 'feature_importance.pkl')"
   ]
  },
  {
   "cell_type": "markdown",
   "metadata": {
    "colab_type": "text",
    "id": "yN2l1te_rl-N"
   },
   "source": [
    "## Choose features"
   ]
  },
  {
   "cell_type": "code",
   "execution_count": 0,
   "metadata": {
    "colab": {},
    "colab_type": "code",
    "id": "cPxj0LGbw5QV"
   },
   "outputs": [],
   "source": [
    "features_num = 32"
   ]
  },
  {
   "cell_type": "code",
   "execution_count": 0,
   "metadata": {
    "colab": {},
    "colab_type": "code",
    "id": "64xH9Ar-rWl3"
   },
   "outputs": [],
   "source": [
    "feature_importance = pd.read_pickle(data_path + 'feature_importance.pkl')\n",
    "corr = pd.read_pickle(data_path + 'corr.pkl')"
   ]
  },
  {
   "cell_type": "code",
   "execution_count": 0,
   "metadata": {
    "colab": {
     "base_uri": "https://localhost:8080/",
     "height": 34
    },
    "colab_type": "code",
    "executionInfo": {
     "elapsed": 476,
     "status": "ok",
     "timestamp": 1568566138860,
     "user": {
      "displayName": "BA22",
      "photoUrl": "",
      "userId": "02603670721502132211"
     },
     "user_tz": -120
    },
    "id": "xfdzxCm8xEdM",
    "outputId": "fdd9bb33-ac4c-401d-9d36-ffeb3ee7714a"
   },
   "outputs": [
    {
     "name": "stdout",
     "output_type": "stream",
     "text": [
      "32\n"
     ]
    }
   ],
   "source": [
    "cor_target = abs(corr[\"target\"])\n",
    "corr_relevant_features = cor_target.sort_values(ascending = False).head(features_num + 1)\n",
    "print(len(corr_relevant_features[1:]))\n",
    "corr_relevant_features = corr_relevant_features[1:]"
   ]
  },
  {
   "cell_type": "code",
   "execution_count": 0,
   "metadata": {
    "colab": {},
    "colab_type": "code",
    "id": "CnAFd8wgKKCh"
   },
   "outputs": [],
   "source": [
    "feature_importance_lgm = feature_importance.head(features_num)"
   ]
  },
  {
   "cell_type": "code",
   "execution_count": 0,
   "metadata": {
    "colab": {},
    "colab_type": "code",
    "id": "vv64fMySLQ38"
   },
   "outputs": [],
   "source": [
    "corr_relevant_features_set = set(corr_relevant_features.index.values)\n",
    "feature_importance_set = set(feature_importance_lgm.Feature.values)"
   ]
  },
  {
   "cell_type": "code",
   "execution_count": 0,
   "metadata": {
    "colab": {
     "base_uri": "https://localhost:8080/",
     "height": 34
    },
    "colab_type": "code",
    "executionInfo": {
     "elapsed": 538,
     "status": "ok",
     "timestamp": 1568566147837,
     "user": {
      "displayName": "BA22",
      "photoUrl": "",
      "userId": "02603670721502132211"
     },
     "user_tz": -120
    },
    "id": "k_dLksZzQYaG",
    "outputId": "5b839640-d333-4dce-e240-3062e8b8fd94"
   },
   "outputs": [
    {
     "data": {
      "text/plain": [
       "19"
      ]
     },
     "execution_count": 13,
     "metadata": {
      "tags": []
     },
     "output_type": "execute_result"
    }
   ],
   "source": [
    "relevent_features = list(feature_importance_set.intersection(corr_relevant_features_set))\n",
    "len(relevent_features)"
   ]
  },
  {
   "cell_type": "code",
   "execution_count": 0,
   "metadata": {
    "colab": {
     "base_uri": "https://localhost:8080/",
     "height": 238
    },
    "colab_type": "code",
    "executionInfo": {
     "elapsed": 535,
     "status": "ok",
     "timestamp": 1568566149093,
     "user": {
      "displayName": "BA22",
      "photoUrl": "",
      "userId": "02603670721502132211"
     },
     "user_tz": -120
    },
    "id": "_lP9KxCYNYoZ",
    "outputId": "ea36275f-0a34-43c3-a9eb-89ab6aa84df4"
   },
   "outputs": [
    {
     "data": {
      "text/plain": [
       "{'category_first_sale',\n",
       " 'category_shop_inter',\n",
       " 'item_category_id_lag_2',\n",
       " 'item_category_id_lag_3',\n",
       " 'item_category_id_lag_4',\n",
       " 'item_category_id_lag_6',\n",
       " 'item_price_avg',\n",
       " 'item_sale_start',\n",
       " 'item_selling_duration',\n",
       " 'items_per_category',\n",
       " 'month',\n",
       " 'shop_id_lag_6',\n",
       " 'shop_sold_items'}"
      ]
     },
     "execution_count": 14,
     "metadata": {
      "tags": []
     },
     "output_type": "execute_result"
    }
   ],
   "source": [
    "fi_not_cf = feature_importance_set - feature_importance_set.intersection(corr_relevant_features_set)\n",
    "fi_not_cf"
   ]
  },
  {
   "cell_type": "code",
   "execution_count": 0,
   "metadata": {
    "colab": {
     "base_uri": "https://localhost:8080/",
     "height": 34
    },
    "colab_type": "code",
    "executionInfo": {
     "elapsed": 418,
     "status": "ok",
     "timestamp": 1568566160059,
     "user": {
      "displayName": "BA22",
      "photoUrl": "",
      "userId": "02603670721502132211"
     },
     "user_tz": -120
    },
    "id": "EI9iqojoQyEP",
    "outputId": "6475e4bd-3399-412e-9fa4-637b02e8825c"
   },
   "outputs": [
    {
     "data": {
      "text/plain": [
       "30"
      ]
     },
     "execution_count": 15,
     "metadata": {
      "tags": []
     },
     "output_type": "execute_result"
    }
   ],
   "source": [
    "relevent_features = relevent_features + list(fi_not_cf)[:11]\n",
    "len(relevent_features)"
   ]
  },
  {
   "cell_type": "code",
   "execution_count": 0,
   "metadata": {
    "colab": {
     "base_uri": "https://localhost:8080/",
     "height": 238
    },
    "colab_type": "code",
    "executionInfo": {
     "elapsed": 495,
     "status": "ok",
     "timestamp": 1568566174005,
     "user": {
      "displayName": "BA22",
      "photoUrl": "",
      "userId": "02603670721502132211"
     },
     "user_tz": -120
    },
    "id": "RzgVPxRdNqPt",
    "outputId": "c047b0da-5529-4b1d-e07c-ed1ed7eeba24"
   },
   "outputs": [
    {
     "data": {
      "text/plain": [
       "{'item_sold_in_shops',\n",
       " 'item_sum',\n",
       " 'item_trans',\n",
       " 'shop_first_sale',\n",
       " 'shop_max',\n",
       " 'shop_median',\n",
       " 'shop_sum',\n",
       " 'shop_trans',\n",
       " 'target_lag_10',\n",
       " 'target_lag_11',\n",
       " 'target_lag_12',\n",
       " 'target_lag_4',\n",
       " 'target_lag_9'}"
      ]
     },
     "execution_count": 17,
     "metadata": {
      "tags": []
     },
     "output_type": "execute_result"
    }
   ],
   "source": [
    "cf_not_fi = corr_relevant_features_set - corr_relevant_features_set.intersection(feature_importance_set)\n",
    "cf_not_fi"
   ]
  },
  {
   "cell_type": "code",
   "execution_count": 0,
   "metadata": {
    "colab": {
     "base_uri": "https://localhost:8080/",
     "height": 34
    },
    "colab_type": "code",
    "executionInfo": {
     "elapsed": 481,
     "status": "ok",
     "timestamp": 1568566175826,
     "user": {
      "displayName": "BA22",
      "photoUrl": "",
      "userId": "02603670721502132211"
     },
     "user_tz": -120
    },
    "id": "-PwzihWyOWXj",
    "outputId": "4463474a-71d1-4354-e163-dda2262e2f23"
   },
   "outputs": [
    {
     "data": {
      "text/plain": [
       "32"
      ]
     },
     "execution_count": 18,
     "metadata": {
      "tags": []
     },
     "output_type": "execute_result"
    }
   ],
   "source": [
    "relevent_features = relevent_features + list(cf_not_fi)[:2]\n",
    "len(relevent_features)"
   ]
  },
  {
   "cell_type": "markdown",
   "metadata": {
    "colab_type": "text",
    "id": "aPNKAfn_ygFh"
   },
   "source": [
    "## Test  Feature selection"
   ]
  },
  {
   "cell_type": "code",
   "execution_count": 0,
   "metadata": {
    "colab": {},
    "colab_type": "code",
    "id": "t8bdfUX4ygFk"
   },
   "outputs": [],
   "source": [
    "data = grid[relevent_features + cols_to_drop]"
   ]
  },
  {
   "cell_type": "code",
   "execution_count": 0,
   "metadata": {
    "colab": {
     "base_uri": "https://localhost:8080/",
     "height": 238
    },
    "colab_type": "code",
    "executionInfo": {
     "elapsed": 1893,
     "status": "ok",
     "timestamp": 1568566244143,
     "user": {
      "displayName": "BA22",
      "photoUrl": "",
      "userId": "02603670721502132211"
     },
     "user_tz": -120
    },
    "id": "ropcjE7IygFn",
    "outputId": "efab7337-ee46-4fe0-c31e-a10ccbfdad06"
   },
   "outputs": [
    {
     "name": "stdout",
     "output_type": "stream",
     "text": [
      "Test `date_block_num` is 34\n",
      "Validation `date_block_num` is 33\n",
      "Train `date_block_num` is < 33\n",
      "------------------------------\n",
      "X_train shape:  (6115195, 32)\n",
      "y_train shape:  (6115195,)\n",
      "------------------------------\n",
      "X_val shape:  (238172, 32)\n",
      "y_val shape:  (238172,)\n",
      "------------------------------\n",
      "X_test shape:  (214200, 32)\n",
      "y_test shape:  (214200,)\n",
      "------------------------------\n"
     ]
    }
   ],
   "source": [
    "X_train, y_train, X_val, y_val, X_test, y_test  = train_val_test_split(data)"
   ]
  },
  {
   "cell_type": "code",
   "execution_count": 0,
   "metadata": {
    "colab": {},
    "colab_type": "code",
    "id": "MMLzHg03ygFs"
   },
   "outputs": [],
   "source": [
    "X_test = X_test.fillna(0)"
   ]
  },
  {
   "cell_type": "code",
   "execution_count": 0,
   "metadata": {
    "colab": {
     "base_uri": "https://localhost:8080/",
     "height": 421
    },
    "colab_type": "code",
    "executionInfo": {
     "elapsed": 166224,
     "status": "ok",
     "timestamp": 1568566445656,
     "user": {
      "displayName": "BA22",
      "photoUrl": "",
      "userId": "02603670721502132211"
     },
     "user_tz": -120
    },
    "id": "fNSM_pgCygF7",
    "outputId": "3bb389c0-7e95-42de-d4b6-def9807f3f16"
   },
   "outputs": [
    {
     "name": "stdout",
     "output_type": "stream",
     "text": [
      "165 seconds\n"
     ]
    },
    {
     "data": {
      "image/png": "[encoded data removed]",
      "text/plain": [
       "<Figure size 576x432 with 1 Axes>"
      ]
     },
     "metadata": {
      "tags": []
     },
     "output_type": "display_data"
    }
   ],
   "source": [
    "start = time.time()\n",
    "params = {\n",
    "    'metric': 'rmse',\n",
    "    'objective': 'mse', \n",
    "    'verbose': 0,\n",
    "}\n",
    "model_lgm = create_model(X_train, y_train, X_val, y_val, params)\n",
    "print(round(time.time() - start), 'seconds')"
   ]
  },
  {
   "cell_type": "code",
   "execution_count": 0,
   "metadata": {
    "colab": {
     "base_uri": "https://localhost:8080/",
     "height": 51
    },
    "colab_type": "code",
    "executionInfo": {
     "elapsed": 50393,
     "status": "ok",
     "timestamp": 1568566500422,
     "user": {
      "displayName": "BA22",
      "photoUrl": "",
      "userId": "02603670721502132211"
     },
     "user_tz": -120
    },
    "id": "_HvTRZBOygF8",
    "outputId": "f1b0b480-d420-45a8-ddf0-bf4255064936"
   },
   "outputs": [
    {
     "name": "stdout",
     "output_type": "stream",
     "text": [
      "Training error; 0.5661690149280277\n",
      "Validation error: 0.5802194244892465\n"
     ]
    }
   ],
   "source": [
    "evaluate_model(model_lgm, X_train, y_train, X_val, y_val)"
   ]
  },
  {
   "cell_type": "code",
   "execution_count": 0,
   "metadata": {
    "colab": {
     "base_uri": "https://localhost:8080/",
     "height": 34
    },
    "colab_type": "code",
    "executionInfo": {
     "elapsed": 42328,
     "status": "ok",
     "timestamp": 1568566502897,
     "user": {
      "displayName": "BA22",
      "photoUrl": "",
      "userId": "02603670721502132211"
     },
     "user_tz": -120
    },
    "id": "gaZZ2o6sygF-",
    "outputId": "b3c9f558-109b-46f0-a20f-f238d4592ec2"
   },
   "outputs": [
    {
     "name": "stdout",
     "output_type": "stream",
     "text": [
      "saved:  /content/drive/My Drive/Colab Notebooks/predict_future_sales/submissions/lgb_18_55_02__15_Sep_2019.csv\n"
     ]
    }
   ],
   "source": [
    "submission, submission_name = create_submission(model_lgm, X_test)"
   ]
  },
  {
   "cell_type": "markdown",
   "metadata": {
    "colab_type": "text",
    "id": "K2XZEj77eveU"
   },
   "source": [
    "# Selected Features"
   ]
  },
  {
   "cell_type": "markdown",
   "metadata": {
    "colab_type": "text",
    "id": "SUIzPrSh2CTG"
   },
   "source": [
    "Although the features That have been chosen gave greate result on the training set and validation set but they overfit badly on the test set. \n",
    "\n",
    "Those features fail to provide good score because they are more specific to the pair shop/item. In the test set we have lot of pairs with no history, and new items with no history as well.\n",
    "\n",
    "After running some experments, I found that the best feature setup is the features that describe:\n",
    "- pair sales history\n",
    "- item sales history\n",
    "- shop sales history\n",
    "- item cateory sales history"
   ]
  },
  {
   "cell_type": "code",
   "execution_count": 0,
   "metadata": {
    "colab": {},
    "colab_type": "code",
    "id": "nLq1R4Hz4RCl"
   },
   "outputs": [],
   "source": [
    "base_features = ['shop_id', 'item_id', 'date_block_num', 'target', 'item_category_id',\n",
    "                 \n",
    "                 'target_lag_1', 'target_lag_2', 'target_lag_3', \n",
    "                 'target_lag_4', 'target_lag_9', 'target_lag_10', \n",
    "                 'target_lag_11', 'target_lag_12',\n",
    "                 \n",
    "                 'item_id_lag_1', 'item_id_lag_2', 'item_id_lag_3', \n",
    "                 'item_id_lag_4', 'item_id_lag_5', 'item_id_lag_11', \n",
    "                 'item_id_lag_12', \n",
    "                 \n",
    "                 'shop_id_lag_1', 'shop_id_lag_2', 'shop_id_lag_3', \n",
    "                 'shop_id_lag_4', 'shop_id_lag_5', 'shop_id_lag_12',\n",
    "\n",
    "                 'item_category_id_lag_1', 'item_category_id_lag_2', 'item_category_id_lag_3', \n",
    "                 'item_category_id_lag_4', 'item_category_id_lag_5', 'item_category_id_lag_12',\n",
    "\n",
    "                 'month', 'category_shop_inter',\n",
    "                ]\n",
    "                \n",
    "categorical_features = ['shop_id', 'item_category_id', 'month', 'category_shop_inter']"
   ]
  },
  {
   "cell_type": "markdown",
   "metadata": {
    "colab_type": "text",
    "id": "YLYHVKfs8sqt"
   },
   "source": [
    " I will not allow catboost and lightGBM to consider **item_id** as a categorical feature because of the high cardinality of this feature (21000 items). This makes the models overfit when they try to deal with this feature. \n",
    "\n",
    "I will consider it as continuous feature. "
   ]
  },
  {
   "cell_type": "markdown",
   "metadata": {
    "colab_type": "text",
    "id": "2_B5KYI57a1d"
   },
   "source": [
    "# Normalize data"
   ]
  },
  {
   "cell_type": "code",
   "execution_count": 0,
   "metadata": {
    "colab": {},
    "colab_type": "code",
    "id": "YV-XIgVf6uD-"
   },
   "outputs": [],
   "source": [
    "def norm(df, all_cols = False):\n",
    "    sc = StandardScaler()\n",
    "    train_set = df[df['date_block_num']!= df['date_block_num'].max()].reset_index(drop = True)\n",
    "    test_set = df[df['date_block_num']== df['date_block_num'].max()].reset_index(drop = True)\n",
    "\n",
    "\n",
    "    numeric_features = list(set(base_features).difference(cols_to_drop))\n",
    "    if all_cols == False: \n",
    "        numeric_features = list(set(numeric_features).difference(categorical_features))\n",
    "\n",
    "    train_set[numeric_features] = sc.fit_transform(train_set[numeric_features])\n",
    "    test_set[numeric_features] = sc.transform(test_set[numeric_features])\n",
    "    df = pd.concat([train_set, test_set], axis = 0, ignore_index = True, sort = False, keys = index_cols)\n",
    "\n",
    "    del train_set\n",
    "    del test_set\n",
    "    gc.collect()\n",
    "    return df"
   ]
  },
  {
   "cell_type": "markdown",
   "metadata": {
    "colab_type": "text",
    "id": "f6ZQZyTht5Ns"
   },
   "source": [
    "# Modeling"
   ]
  },
  {
   "cell_type": "markdown",
   "metadata": {
    "colab_type": "text",
    "id": "vFxLud9V4WQa"
   },
   "source": [
    "Deep learning in general is better than boosting trees for regression tasks. But neural networks have huge hunger for data. \n",
    "\n",
    "In our case, we don't have that much sales data for each item in each shop. So the neural network will fail to find patterns in the given data.\n",
    "\n",
    "I will use stacking technique to get the most out of the data.\n",
    "I will build 6 base model, train them on the whole training set and generate meta test features. Then I will use them with Kfold schema to generate meta training features.\n",
    "At the end I will train meta models on the generated meta features and generate final predications."
   ]
  },
  {
   "cell_type": "markdown",
   "metadata": {
    "colab_type": "text",
    "id": "kLNx4xCHAalH"
   },
   "source": [
    "**KFold scheme in time series** (coursera)\n",
    "\n",
    "In time-series task we usually have a fixed period of time we are asked to predict. Like day, week, month or arbitrary period with duration of T.\n",
    "\n",
    "- Split the train data into chunks of duration T. Select first M chunks.\n",
    "- Fit N diverse models on those M chunks and predict for the chunk M+1. Then fit those models on first M+1 chunks and predict for chunk M+2 and so on, until you hit the end. After that use all train data to fit models and get predictions for test. Now we will have meta-features for the chunks starting from number M+1 as well as meta-features for the test.\n",
    "- Now we can use meta-features from first K chunks [M+1,M+2,..,M+K] to fit level 2 models and validate them on chunk M+K+1. Essentially we are back to step 1. with the lesser amount of chunks and meta-features instead of features."
   ]
  },
  {
   "cell_type": "markdown",
   "metadata": {
    "colab_type": "text",
    "id": "MLMUh-6YO3hp"
   },
   "source": [
    "## Linear Regression"
   ]
  },
  {
   "cell_type": "code",
   "execution_count": 0,
   "metadata": {
    "colab": {},
    "colab_type": "code",
    "id": "s4gF4GqUTyDS"
   },
   "outputs": [],
   "source": [
    "data = grid[base_features].reset_index(drop = True)"
   ]
  },
  {
   "cell_type": "code",
   "execution_count": 0,
   "metadata": {
    "colab": {},
    "colab_type": "code",
    "id": "KbEODjt8S6gm"
   },
   "outputs": [],
   "source": [
    "data = norm(data, all_cols = True)"
   ]
  },
  {
   "cell_type": "code",
   "execution_count": 0,
   "metadata": {
    "colab": {
     "base_uri": "https://localhost:8080/",
     "height": 238
    },
    "colab_type": "code",
    "executionInfo": {
     "elapsed": 48157,
     "status": "ok",
     "timestamp": 1568888043312,
     "user": {
      "displayName": "BA22",
      "photoUrl": "",
      "userId": "02603670721502132211"
     },
     "user_tz": -120
    },
    "id": "TV4LC_YKS9_T",
    "outputId": "5cca1dc3-e8ec-42ac-f599-ba44155da848"
   },
   "outputs": [
    {
     "name": "stdout",
     "output_type": "stream",
     "text": [
      "Test `date_block_num` is 34\n",
      "Validation `date_block_num` is 33\n",
      "Train `date_block_num` is < 33\n",
      "------------------------------\n",
      "X_train shape:  (6115195, 32)\n",
      "y_train shape:  (6115195,)\n",
      "------------------------------\n",
      "X_val shape:  (238172, 32)\n",
      "y_val shape:  (238172,)\n",
      "------------------------------\n",
      "X_test shape:  (214200, 32)\n",
      "y_test shape:  (214200,)\n",
      "------------------------------\n"
     ]
    }
   ],
   "source": [
    "X_train, y_train, X_val, y_val, X_test, y_test = train_val_test_split(data)"
   ]
  },
  {
   "cell_type": "markdown",
   "metadata": {
    "colab_type": "text",
    "id": "9VrOHgncW_EU"
   },
   "source": [
    "### Training"
   ]
  },
  {
   "cell_type": "code",
   "execution_count": 0,
   "metadata": {
    "colab": {
     "base_uri": "https://localhost:8080/",
     "height": 34
    },
    "colab_type": "code",
    "executionInfo": {
     "elapsed": 10440,
     "status": "ok",
     "timestamp": 1568740999098,
     "user": {
      "displayName": "BA22",
      "photoUrl": "",
      "userId": "02603670721502132211"
     },
     "user_tz": -120
    },
    "id": "YfGnHO_HO61n",
    "outputId": "7a169896-1bd4-425b-9d2b-233df1b8da01"
   },
   "outputs": [
    {
     "data": {
      "text/plain": [
       "LinearRegression(copy_X=True, fit_intercept=True, n_jobs=None, normalize=True)"
      ]
     },
     "execution_count": 95,
     "metadata": {
      "tags": []
     },
     "output_type": "execute_result"
    }
   ],
   "source": [
    "lr_model = LinearRegression(normalize = True)\n",
    "lr_model.fit(X_train, y_train)"
   ]
  },
  {
   "cell_type": "markdown",
   "metadata": {
    "colab_type": "text",
    "id": "gr9agtspXC42"
   },
   "source": [
    "### Evaluate"
   ]
  },
  {
   "cell_type": "code",
   "execution_count": 0,
   "metadata": {
    "colab": {
     "base_uri": "https://localhost:8080/",
     "height": 51
    },
    "colab_type": "code",
    "executionInfo": {
     "elapsed": 845,
     "status": "ok",
     "timestamp": 1568741012931,
     "user": {
      "displayName": "BA22",
      "photoUrl": "",
      "userId": "02603670721502132211"
     },
     "user_tz": -120
    },
    "id": "SID5EL2JgQUD",
    "outputId": "1b059c08-2bb4-4e7e-8094-e5aa167bca2c"
   },
   "outputs": [
    {
     "name": "stdout",
     "output_type": "stream",
     "text": [
      "Training error; 0.9354433668017481\n",
      "Validation error: 0.9692939270615524\n"
     ]
    }
   ],
   "source": [
    "evaluate_model(lr_model, X_train, y_train, X_val, y_val)"
   ]
  },
  {
   "cell_type": "markdown",
   "metadata": {
    "colab_type": "text",
    "id": "425MsCU7XL1T"
   },
   "source": [
    "### Save "
   ]
  },
  {
   "cell_type": "code",
   "execution_count": 0,
   "metadata": {
    "colab": {
     "base_uri": "https://localhost:8080/",
     "height": 34
    },
    "colab_type": "code",
    "executionInfo": {
     "elapsed": 655,
     "status": "ok",
     "timestamp": 1568741033354,
     "user": {
      "displayName": "BA22",
      "photoUrl": "",
      "userId": "02603670721502132211"
     },
     "user_tz": -120
    },
    "id": "y1Sx6AwbXK3m",
    "outputId": "82268b2f-7f18-47ff-f87b-6ec117071ec1"
   },
   "outputs": [
    {
     "data": {
      "text/plain": [
       "['/content/drive/My Drive/Colab Notebooks/predict_future_sales/models/lr_model.dat']"
      ]
     },
     "execution_count": 99,
     "metadata": {
      "tags": []
     },
     "output_type": "execute_result"
    }
   ],
   "source": [
    "joblib.dump(lr_model, model_path + 'lr_model.dat') "
   ]
  },
  {
   "cell_type": "markdown",
   "metadata": {
    "colab_type": "text",
    "id": "AetzrBML_qM9"
   },
   "source": [
    "## Lasso Regression"
   ]
  },
  {
   "cell_type": "markdown",
   "metadata": {
    "colab_type": "text",
    "id": "yy4R1HXw_qNB"
   },
   "source": [
    "### Training"
   ]
  },
  {
   "cell_type": "code",
   "execution_count": 0,
   "metadata": {
    "colab": {
     "base_uri": "https://localhost:8080/",
     "height": 68
    },
    "colab_type": "code",
    "executionInfo": {
     "elapsed": 6827,
     "status": "ok",
     "timestamp": 1568741055403,
     "user": {
      "displayName": "BA22",
      "photoUrl": "",
      "userId": "02603670721502132211"
     },
     "user_tz": -120
    },
    "id": "8OTgG0KH_qNE",
    "outputId": "e919013d-cc9d-4a1c-f1fd-3153e2409a1f"
   },
   "outputs": [
    {
     "data": {
      "text/plain": [
       "Lasso(alpha=0.01, copy_X=True, fit_intercept=True, max_iter=1000,\n",
       "      normalize=False, positive=False, precompute=False, random_state=None,\n",
       "      selection='cyclic', tol=0.0001, warm_start=False)"
      ]
     },
     "execution_count": 101,
     "metadata": {
      "tags": []
     },
     "output_type": "execute_result"
    }
   ],
   "source": [
    "lasso_model = linear_model.Lasso(alpha = 0.01)\n",
    "lasso_model.fit(X_train, y_train)"
   ]
  },
  {
   "cell_type": "markdown",
   "metadata": {
    "colab_type": "text",
    "id": "k6a5mJnN_qNH"
   },
   "source": [
    "### Evaluate"
   ]
  },
  {
   "cell_type": "code",
   "execution_count": 0,
   "metadata": {
    "colab": {
     "base_uri": "https://localhost:8080/",
     "height": 51
    },
    "colab_type": "code",
    "executionInfo": {
     "elapsed": 646,
     "status": "ok",
     "timestamp": 1568741075769,
     "user": {
      "displayName": "BA22",
      "photoUrl": "",
      "userId": "02603670721502132211"
     },
     "user_tz": -120
    },
    "id": "ZQ4LEzeO_qNH",
    "outputId": "805ded0d-51b0-4635-f18c-d92c4868a2dc"
   },
   "outputs": [
    {
     "name": "stdout",
     "output_type": "stream",
     "text": [
      "Training error; 0.9361038131826581\n",
      "Validation error: 0.9695135538112348\n"
     ]
    }
   ],
   "source": [
    "evaluate_model(lasso_model, X_train, y_train, X_val, y_val)"
   ]
  },
  {
   "cell_type": "markdown",
   "metadata": {
    "colab_type": "text",
    "id": "FhcIWD4o_qNN"
   },
   "source": [
    "### Save "
   ]
  },
  {
   "cell_type": "code",
   "execution_count": 0,
   "metadata": {
    "colab": {
     "base_uri": "https://localhost:8080/",
     "height": 34
    },
    "colab_type": "code",
    "executionInfo": {
     "elapsed": 637,
     "status": "ok",
     "timestamp": 1568741092457,
     "user": {
      "displayName": "BA22",
      "photoUrl": "",
      "userId": "02603670721502132211"
     },
     "user_tz": -120
    },
    "id": "nifuCght_qNN",
    "outputId": "f5faa3a2-5a1f-41d3-f1a0-efe61d056f8d"
   },
   "outputs": [
    {
     "data": {
      "text/plain": [
       "['/content/drive/My Drive/Colab Notebooks/predict_future_sales/models/lasso_model.dat']"
      ]
     },
     "execution_count": 104,
     "metadata": {
      "tags": []
     },
     "output_type": "execute_result"
    }
   ],
   "source": [
    "joblib.dump(lr_model, model_path + 'lasso_model.dat') "
   ]
  },
  {
   "cell_type": "markdown",
   "metadata": {
    "colab_type": "text",
    "id": "YTLaGhTq-aAt"
   },
   "source": [
    "## Neural Network"
   ]
  },
  {
   "cell_type": "markdown",
   "metadata": {
    "colab_type": "text",
    "id": "SoRI-ww5-aA3"
   },
   "source": [
    "### Training"
   ]
  },
  {
   "cell_type": "code",
   "execution_count": 0,
   "metadata": {
    "colab": {
     "base_uri": "https://localhost:8080/",
     "height": 1000
    },
    "colab_type": "code",
    "executionInfo": {
     "elapsed": 781099,
     "status": "ok",
     "timestamp": 1568888776278,
     "user": {
      "displayName": "BA22",
      "photoUrl": "",
      "userId": "02603670721502132211"
     },
     "user_tz": -120
    },
    "id": "13TzHs5k-aA7",
    "outputId": "46833068-d73e-4f1f-adbc-0dcd6bf03b8a"
   },
   "outputs": [
    {
     "name": "stdout",
     "output_type": "stream",
     "text": [
      "WARNING:tensorflow:From /usr/local/lib/python3.6/dist-packages/tensorflow/python/keras/initializers.py:119: calling RandomUniform.__init__ (from tensorflow.python.ops.init_ops) with dtype is deprecated and will be removed in a future version.\n",
      "Instructions for updating:\n",
      "Call initializer instance with the dtype argument instead of passing it to the constructor\n",
      "Train on 6115195 samples, validate on 238172 samples\n",
      "Epoch 1/1024\n",
      "6115195/6115195 [==============================] - 18s 3us/sample - loss: 0.8353 - nn_rmse: 0.9055 - val_loss: 0.9078 - val_nn_rmse: 0.9411\n",
      "Epoch 2/1024\n",
      "6115195/6115195 [==============================] - 18s 3us/sample - loss: 0.8071 - nn_rmse: 0.8902 - val_loss: 0.8896 - val_nn_rmse: 0.9343\n",
      "Epoch 3/1024\n",
      "6115195/6115195 [==============================] - 17s 3us/sample - loss: 0.7948 - nn_rmse: 0.8836 - val_loss: 0.8945 - val_nn_rmse: 0.9395\n",
      "Epoch 4/1024\n",
      "6115195/6115195 [==============================] - 17s 3us/sample - loss: 0.7863 - nn_rmse: 0.8790 - val_loss: 0.8880 - val_nn_rmse: 0.9283\n",
      "Epoch 5/1024\n",
      "6115195/6115195 [==============================] - 17s 3us/sample - loss: 0.7807 - nn_rmse: 0.8759 - val_loss: 0.8826 - val_nn_rmse: 0.9278\n",
      "Epoch 6/1024\n",
      "6115195/6115195 [==============================] - 17s 3us/sample - loss: 0.7755 - nn_rmse: 0.8724 - val_loss: 0.8957 - val_nn_rmse: 0.9381\n",
      "Epoch 7/1024\n",
      "6115195/6115195 [==============================] - 16s 3us/sample - loss: 0.7712 - nn_rmse: 0.8706 - val_loss: 0.9016 - val_nn_rmse: 0.9397\n",
      "Epoch 8/1024\n",
      "6115195/6115195 [==============================] - 16s 3us/sample - loss: 0.7683 - nn_rmse: 0.8689 - val_loss: 0.9034 - val_nn_rmse: 0.9433\n",
      "Epoch 9/1024\n",
      "6115195/6115195 [==============================] - 16s 3us/sample - loss: 0.7651 - nn_rmse: 0.8672 - val_loss: 0.8807 - val_nn_rmse: 0.9280\n",
      "Epoch 10/1024\n",
      "6115195/6115195 [==============================] - 15s 3us/sample - loss: 0.7629 - nn_rmse: 0.8654 - val_loss: 0.8769 - val_nn_rmse: 0.9257\n",
      "Epoch 11/1024\n",
      "6115195/6115195 [==============================] - 16s 3us/sample - loss: 0.7608 - nn_rmse: 0.8646 - val_loss: 0.8915 - val_nn_rmse: 0.9356\n",
      "Epoch 12/1024\n",
      "6115195/6115195 [==============================] - 15s 2us/sample - loss: 0.7590 - nn_rmse: 0.8635 - val_loss: 0.8780 - val_nn_rmse: 0.9310\n",
      "Epoch 13/1024\n",
      "6115195/6115195 [==============================] - 15s 2us/sample - loss: 0.7574 - nn_rmse: 0.8627 - val_loss: 0.8911 - val_nn_rmse: 0.9333\n",
      "Epoch 14/1024\n",
      "6115195/6115195 [==============================] - 15s 2us/sample - loss: 0.7559 - nn_rmse: 0.8622 - val_loss: 0.8783 - val_nn_rmse: 0.9251\n",
      "Epoch 15/1024\n",
      "6115195/6115195 [==============================] - 15s 2us/sample - loss: 0.7547 - nn_rmse: 0.8615 - val_loss: 0.8808 - val_nn_rmse: 0.9295\n",
      "Epoch 16/1024\n",
      "6115195/6115195 [==============================] - 15s 2us/sample - loss: 0.7533 - nn_rmse: 0.8606 - val_loss: 0.8820 - val_nn_rmse: 0.9312\n",
      "Epoch 17/1024\n",
      "6115195/6115195 [==============================] - 15s 2us/sample - loss: 0.7521 - nn_rmse: 0.8601 - val_loss: 0.8802 - val_nn_rmse: 0.9285\n",
      "Epoch 18/1024\n",
      "6115195/6115195 [==============================] - 15s 2us/sample - loss: 0.7511 - nn_rmse: 0.8592 - val_loss: 0.8923 - val_nn_rmse: 0.9367\n",
      "Epoch 19/1024\n",
      "6115195/6115195 [==============================] - 15s 2us/sample - loss: 0.7501 - nn_rmse: 0.8585 - val_loss: 0.8720 - val_nn_rmse: 0.9284\n",
      "Epoch 20/1024\n",
      "6115195/6115195 [==============================] - 15s 2us/sample - loss: 0.7490 - nn_rmse: 0.8582 - val_loss: 0.8702 - val_nn_rmse: 0.9281\n",
      "Epoch 21/1024\n",
      "6115195/6115195 [==============================] - 15s 2us/sample - loss: 0.7484 - nn_rmse: 0.8580 - val_loss: 0.8732 - val_nn_rmse: 0.9243\n",
      "Epoch 22/1024\n",
      "6115195/6115195 [==============================] - 16s 3us/sample - loss: 0.7471 - nn_rmse: 0.8570 - val_loss: 0.8778 - val_nn_rmse: 0.9246\n",
      "Epoch 23/1024\n",
      "6115195/6115195 [==============================] - 15s 2us/sample - loss: 0.7466 - nn_rmse: 0.8566 - val_loss: 0.8752 - val_nn_rmse: 0.9274\n",
      "Epoch 24/1024\n",
      "6115195/6115195 [==============================] - 15s 2us/sample - loss: 0.7456 - nn_rmse: 0.8560 - val_loss: 0.8776 - val_nn_rmse: 0.9288\n",
      "Epoch 25/1024\n",
      "6115195/6115195 [==============================] - 15s 2us/sample - loss: 0.7444 - nn_rmse: 0.8554 - val_loss: 0.8713 - val_nn_rmse: 0.9261\n",
      "Epoch 26/1024\n",
      "6115195/6115195 [==============================] - 15s 2us/sample - loss: 0.7434 - nn_rmse: 0.8549 - val_loss: 0.8698 - val_nn_rmse: 0.9264\n",
      "Epoch 27/1024\n",
      "6115195/6115195 [==============================] - 15s 2us/sample - loss: 0.7425 - nn_rmse: 0.8543 - val_loss: 0.8806 - val_nn_rmse: 0.9268\n",
      "Epoch 28/1024\n",
      "6115195/6115195 [==============================] - 15s 3us/sample - loss: 0.7413 - nn_rmse: 0.8541 - val_loss: 0.8705 - val_nn_rmse: 0.9242\n",
      "Epoch 29/1024\n",
      "6115195/6115195 [==============================] - 16s 3us/sample - loss: 0.7402 - nn_rmse: 0.8533 - val_loss: 0.8737 - val_nn_rmse: 0.9227\n",
      "Epoch 30/1024\n",
      "6115195/6115195 [==============================] - 15s 2us/sample - loss: 0.7397 - nn_rmse: 0.8527 - val_loss: 0.8671 - val_nn_rmse: 0.9224\n",
      "Epoch 31/1024\n",
      "6115195/6115195 [==============================] - 15s 3us/sample - loss: 0.7391 - nn_rmse: 0.8526 - val_loss: 0.8689 - val_nn_rmse: 0.9220\n",
      "Epoch 32/1024\n",
      "6115195/6115195 [==============================] - 15s 3us/sample - loss: 0.7387 - nn_rmse: 0.8522 - val_loss: 0.8733 - val_nn_rmse: 0.9250\n",
      "Epoch 33/1024\n",
      "6115195/6115195 [==============================] - 15s 2us/sample - loss: 0.7378 - nn_rmse: 0.8521 - val_loss: 0.8695 - val_nn_rmse: 0.9202\n",
      "Epoch 34/1024\n",
      "6115195/6115195 [==============================] - 16s 3us/sample - loss: 0.7371 - nn_rmse: 0.8511 - val_loss: 0.8782 - val_nn_rmse: 0.9271\n",
      "Epoch 35/1024\n",
      "6115195/6115195 [==============================] - 17s 3us/sample - loss: 0.7366 - nn_rmse: 0.8512 - val_loss: 0.8743 - val_nn_rmse: 0.9229\n",
      "Epoch 36/1024\n",
      "6115195/6115195 [==============================] - 17s 3us/sample - loss: 0.7359 - nn_rmse: 0.8510 - val_loss: 0.8649 - val_nn_rmse: 0.9206\n",
      "Epoch 37/1024\n",
      "6115195/6115195 [==============================] - 17s 3us/sample - loss: 0.7352 - nn_rmse: 0.8506 - val_loss: 0.8811 - val_nn_rmse: 0.9319\n",
      "Epoch 38/1024\n",
      "6115195/6115195 [==============================] - 16s 3us/sample - loss: 0.7350 - nn_rmse: 0.8500 - val_loss: 0.8821 - val_nn_rmse: 0.9333\n",
      "Epoch 39/1024\n",
      "6115195/6115195 [==============================] - 17s 3us/sample - loss: 0.7341 - nn_rmse: 0.8496 - val_loss: 0.8873 - val_nn_rmse: 0.9327\n",
      "Epoch 40/1024\n",
      "6115195/6115195 [==============================] - 16s 3us/sample - loss: 0.7335 - nn_rmse: 0.8492 - val_loss: 0.8763 - val_nn_rmse: 0.9284\n",
      "Epoch 41/1024\n",
      "6115195/6115195 [==============================] - 17s 3us/sample - loss: 0.7334 - nn_rmse: 0.8495 - val_loss: 0.8688 - val_nn_rmse: 0.9222\n",
      "Epoch 42/1024\n",
      "6115195/6115195 [==============================] - 16s 3us/sample - loss: 0.7329 - nn_rmse: 0.8492 - val_loss: 0.8931 - val_nn_rmse: 0.9367\n",
      "Epoch 43/1024\n",
      "6115195/6115195 [==============================] - 16s 3us/sample - loss: 0.7321 - nn_rmse: 0.8486 - val_loss: 0.8772 - val_nn_rmse: 0.9253\n",
      "Epoch 44/1024\n",
      "6115195/6115195 [==============================] - 16s 3us/sample - loss: 0.7320 - nn_rmse: 0.8486 - val_loss: 0.8695 - val_nn_rmse: 0.9223\n",
      "Epoch 45/1024\n",
      "6115195/6115195 [==============================] - 16s 3us/sample - loss: 0.7313 - nn_rmse: 0.8484 - val_loss: 0.8872 - val_nn_rmse: 0.9341\n",
      "Epoch 46/1024\n",
      "6115195/6115195 [==============================] - 16s 3us/sample - loss: 0.7310 - nn_rmse: 0.8481 - val_loss: 0.8793 - val_nn_rmse: 0.9279\n"
     ]
    },
    {
     "data": {
      "image/png": "[encoded data removed]",
      "text/plain": [
       "<Figure size 576x432 with 1 Axes>"
      ]
     },
     "metadata": {
      "tags": []
     },
     "output_type": "display_data"
    }
   ],
   "source": [
    "nn_model = build_nn_model(input_shape = [len(X_train.keys())])\n",
    "early_stop = keras.callbacks.EarlyStopping(monitor = 'val_loss', patience = 10)\n",
    "history = nn_model.fit(X_train, y_train, epochs = 1024, batch_size = 1024 * 2,\n",
    "                    validation_data=(X_val, y_val), callbacks = [early_stop])\n",
    "plt.plot(history.history['loss'])\n",
    "plt.plot(history.history['val_loss'])\n",
    "plt.title('model loss')\n",
    "plt.ylabel('loss')\n",
    "plt.xlabel('epoch')\n",
    "plt.legend(['train', 'validation'], loc='upper left')\n",
    "plt.show()\n"
   ]
  },
  {
   "cell_type": "markdown",
   "metadata": {
    "colab_type": "text",
    "id": "xYphVjL9-aA-"
   },
   "source": [
    "### Evaluate"
   ]
  },
  {
   "cell_type": "code",
   "execution_count": 0,
   "metadata": {
    "colab": {
     "base_uri": "https://localhost:8080/",
     "height": 51
    },
    "colab_type": "code",
    "executionInfo": {
     "elapsed": 842347,
     "status": "ok",
     "timestamp": 1568888837546,
     "user": {
      "displayName": "BA22",
      "photoUrl": "",
      "userId": "02603670721502132211"
     },
     "user_tz": -120
    },
    "id": "sy6wDT7J-aA_",
    "outputId": "39f1a22f-5b07-4a35-a159-100b59135677"
   },
   "outputs": [
    {
     "name": "stdout",
     "output_type": "stream",
     "text": [
      "Training error; 0.85461646\n",
      "Validation error: 0.9377255\n"
     ]
    }
   ],
   "source": [
    "evaluate_model(nn_model, X_train, y_train, X_val, y_val)"
   ]
  },
  {
   "cell_type": "markdown",
   "metadata": {
    "colab_type": "text",
    "id": "mOJ8dFCs-aBD"
   },
   "source": [
    "### Save "
   ]
  },
  {
   "cell_type": "code",
   "execution_count": 0,
   "metadata": {
    "colab": {
     "base_uri": "https://localhost:8080/",
     "height": 221
    },
    "colab_type": "code",
    "executionInfo": {
     "elapsed": 706,
     "status": "ok",
     "timestamp": 1568889984595,
     "user": {
      "displayName": "BA22",
      "photoUrl": "",
      "userId": "02603670721502132211"
     },
     "user_tz": -120
    },
    "id": "1AZrY5JpRAql",
    "outputId": "a569c7a9-f701-4f1b-9d50-ce25a0e1838d"
   },
   "outputs": [
    {
     "name": "stdout",
     "output_type": "stream",
     "text": [
      "Model: \"sequential\"\n",
      "_________________________________________________________________\n",
      "Layer (type)                 Output Shape              Param #   \n",
      "=================================================================\n",
      "dense (Dense)                (None, 128)               4224      \n",
      "_________________________________________________________________\n",
      "dense_1 (Dense)              (None, 1)                 129       \n",
      "=================================================================\n",
      "Total params: 4,353\n",
      "Trainable params: 4,353\n",
      "Non-trainable params: 0\n",
      "_________________________________________________________________\n"
     ]
    }
   ],
   "source": [
    "nn_model.summary()"
   ]
  },
  {
   "cell_type": "code",
   "execution_count": 0,
   "metadata": {
    "colab": {},
    "colab_type": "code",
    "id": "nJCv86S8-aBE"
   },
   "outputs": [],
   "source": [
    "model_json = nn_model.to_json()\n",
    "with open(model_path + \"nn_model.json\", \"w\") as json_file:\n",
    "    json_file.write(model_json)\n",
    "nn_model.save_weights(\"nn_model.h5\")\n",
    "print(\"Saved model to cloud\")"
   ]
  },
  {
   "cell_type": "markdown",
   "metadata": {
    "colab_type": "text",
    "id": "vD1WVuOyD_wN"
   },
   "source": [
    "## Light GBM"
   ]
  },
  {
   "cell_type": "code",
   "execution_count": 0,
   "metadata": {
    "colab": {},
    "colab_type": "code",
    "id": "_pHXvLjeQgp0"
   },
   "outputs": [],
   "source": [
    "data = grid[base_features].reset_index(drop = True)"
   ]
  },
  {
   "cell_type": "code",
   "execution_count": 0,
   "metadata": {
    "colab": {},
    "colab_type": "code",
    "id": "GDXwCOPcQtNm"
   },
   "outputs": [],
   "source": [
    "data = norm(data, all_cols = False)"
   ]
  },
  {
   "cell_type": "code",
   "execution_count": 0,
   "metadata": {
    "colab": {},
    "colab_type": "code",
    "id": "EbrbMAM1Q_9A"
   },
   "outputs": [],
   "source": [
    "for col in categorical_features:\n",
    "     data.loc[:, col] = data[col].astype('category')"
   ]
  },
  {
   "cell_type": "code",
   "execution_count": 0,
   "metadata": {
    "colab": {},
    "colab_type": "code",
    "id": "G0jmWFF0Zmx1"
   },
   "outputs": [],
   "source": [
    "data.to_pickle(data_path + 'grid_custom.pkl')"
   ]
  },
  {
   "cell_type": "code",
   "execution_count": 0,
   "metadata": {
    "colab": {
     "base_uri": "https://localhost:8080/",
     "height": 238
    },
    "colab_type": "code",
    "executionInfo": {
     "elapsed": 1756,
     "status": "ok",
     "timestamp": 1568817531181,
     "user": {
      "displayName": "BA22",
      "photoUrl": "",
      "userId": "02603670721502132211"
     },
     "user_tz": -120
    },
    "id": "81S5Cri4Q5MT",
    "outputId": "9eee7c2e-61b4-4d63-b66c-ac2da4745175"
   },
   "outputs": [
    {
     "name": "stdout",
     "output_type": "stream",
     "text": [
      "Test `date_block_num` is 34\n",
      "Validation `date_block_num` is 33\n",
      "Train `date_block_num` is < 33\n",
      "------------------------------\n",
      "X_train shape:  (6115195, 32)\n",
      "y_train shape:  (6115195,)\n",
      "------------------------------\n",
      "X_val shape:  (238172, 32)\n",
      "y_val shape:  (238172,)\n",
      "------------------------------\n",
      "X_test shape:  (214200, 32)\n",
      "y_test shape:  (214200,)\n",
      "------------------------------\n"
     ]
    }
   ],
   "source": [
    "X_train, y_train, X_val, y_val, X_test, y_test = train_val_test_split(data)"
   ]
  },
  {
   "cell_type": "markdown",
   "metadata": {
    "colab_type": "text",
    "id": "qXWh4vC2NJmL"
   },
   "source": [
    "### Training"
   ]
  },
  {
   "cell_type": "code",
   "execution_count": 0,
   "metadata": {
    "colab": {
     "base_uri": "https://localhost:8080/",
     "height": 506
    },
    "colab_type": "code",
    "executionInfo": {
     "elapsed": 84722,
     "status": "ok",
     "timestamp": 1568817614157,
     "user": {
      "displayName": "BA22",
      "photoUrl": "",
      "userId": "02603670721502132211"
     },
     "user_tz": -120
    },
    "id": "l_3_qXA3F05q",
    "outputId": "93a18f28-bcfb-44d2-b3e4-454a23f9868b"
   },
   "outputs": [
    {
     "name": "stderr",
     "output_type": "stream",
     "text": [
      "/usr/local/lib/python3.6/dist-packages/lightgbm/basic.py:1209: UserWarning: categorical_feature in Dataset is overridden.\n",
      "New categorical_feature is ['category_shop_inter', 'item_category_id', 'month', 'shop_id']\n",
      "  'New categorical_feature is {}'.format(sorted(list(categorical_feature))))\n",
      "/usr/local/lib/python3.6/dist-packages/lightgbm/basic.py:762: UserWarning: categorical_feature in param dict is overridden.\n",
      "  warnings.warn('categorical_feature in param dict is overridden.')\n"
     ]
    },
    {
     "name": "stdout",
     "output_type": "stream",
     "text": [
      "it took:  83 seconds\n"
     ]
    },
    {
     "data": {
      "image/png": "[encoded data removed]",
      "text/plain": [
       "<Figure size 576x432 with 1 Axes>"
      ]
     },
     "metadata": {
      "tags": []
     },
     "output_type": "display_data"
    }
   ],
   "source": [
    "start = time.time()\n",
    "params = {\n",
    "  'metric': 'rmse',\n",
    "  'objective': 'mse',\n",
    "  'verbose': 0, \n",
    "  'learning_rate': 0.1,\n",
    "  'num_leaves': 31,\n",
    "  'min_data_in_leaf': 20 ,\n",
    "  'max_depth': -1,\n",
    "  'save_binary': True,\n",
    "  'bagging_fraction': 0.8,\n",
    "  'bagging_freq': 1,\n",
    "  'bagging_seed': 2**7, \n",
    "  'feature_fraction': 0.8,\n",
    "}\n",
    "lgbm_model = create_model(X_train, y_train, X_val, y_val, params, categorical_features)\n",
    "print('it took: ', round(time.time() - start), 'seconds')"
   ]
  },
  {
   "cell_type": "markdown",
   "metadata": {
    "colab_type": "text",
    "id": "cwiMX3Z2NWfm"
   },
   "source": [
    "### Evaluate"
   ]
  },
  {
   "cell_type": "code",
   "execution_count": 0,
   "metadata": {
    "colab": {
     "base_uri": "https://localhost:8080/",
     "height": 51
    },
    "colab_type": "code",
    "executionInfo": {
     "elapsed": 38216,
     "status": "ok",
     "timestamp": 1568817652386,
     "user": {
      "displayName": "BA22",
      "photoUrl": "",
      "userId": "02603670721502132211"
     },
     "user_tz": -120
    },
    "id": "2UtCBBBFhl0n",
    "outputId": "213ab85e-bc6c-423f-ab37-4e721e5c30ad"
   },
   "outputs": [
    {
     "name": "stdout",
     "output_type": "stream",
     "text": [
      "Training error; 0.7737018925125985\n",
      "Validation error: 0.8799753554607531\n"
     ]
    }
   ],
   "source": [
    "evaluate_model(lgbm_model, X_train, y_train, X_val, y_val)"
   ]
  },
  {
   "cell_type": "markdown",
   "metadata": {
    "colab_type": "text",
    "id": "wYxbOfBwNzU1"
   },
   "source": [
    "### Feature importance"
   ]
  },
  {
   "cell_type": "code",
   "execution_count": 0,
   "metadata": {
    "colab": {
     "base_uri": "https://localhost:8080/",
     "height": 1000
    },
    "colab_type": "code",
    "executionInfo": {
     "elapsed": 39093,
     "status": "ok",
     "timestamp": 1568817653272,
     "user": {
      "displayName": "BA22",
      "photoUrl": "",
      "userId": "02603670721502132211"
     },
     "user_tz": -120
    },
    "id": "fSrad-o7N8ND",
    "outputId": "d51d502e-3214-4fb4-d9a9-d3b8e5b428c1"
   },
   "outputs": [
    {
     "data": {
      "image/png": "[encoded data removed]",
      "text/plain": [
       "<Figure size 720x1080 with 1 Axes>"
      ]
     },
     "metadata": {
      "tags": []
     },
     "output_type": "display_data"
    },
    {
     "data": {
      "text/html": [
       "<div>\n",
       "<style scoped>\n",
       "    .dataframe tbody tr th:only-of-type {\n",
       "        vertical-align: middle;\n",
       "    }\n",
       "\n",
       "    .dataframe tbody tr th {\n",
       "        vertical-align: top;\n",
       "    }\n",
       "\n",
       "    .dataframe thead th {\n",
       "        text-align: right;\n",
       "    }\n",
       "</style>\n",
       "<table border=\"1\" class=\"dataframe\">\n",
       "  <thead>\n",
       "    <tr style=\"text-align: right;\">\n",
       "      <th></th>\n",
       "      <th>Score</th>\n",
       "      <th>Feature</th>\n",
       "    </tr>\n",
       "  </thead>\n",
       "  <tbody>\n",
       "    <tr>\n",
       "      <th>0</th>\n",
       "      <td>1.136368e+07</td>\n",
       "      <td>target_lag_1</td>\n",
       "    </tr>\n",
       "    <tr>\n",
       "      <th>1</th>\n",
       "      <td>1.816277e+06</td>\n",
       "      <td>item_id_lag_1</td>\n",
       "    </tr>\n",
       "    <tr>\n",
       "      <th>2</th>\n",
       "      <td>1.787349e+06</td>\n",
       "      <td>category_shop_inter</td>\n",
       "    </tr>\n",
       "    <tr>\n",
       "      <th>3</th>\n",
       "      <td>1.310092e+06</td>\n",
       "      <td>item_category_id</td>\n",
       "    </tr>\n",
       "    <tr>\n",
       "      <th>4</th>\n",
       "      <td>6.868096e+05</td>\n",
       "      <td>target_lag_2</td>\n",
       "    </tr>\n",
       "    <tr>\n",
       "      <th>5</th>\n",
       "      <td>5.812680e+05</td>\n",
       "      <td>month</td>\n",
       "    </tr>\n",
       "    <tr>\n",
       "      <th>6</th>\n",
       "      <td>4.690578e+05</td>\n",
       "      <td>item_id_lag_2</td>\n",
       "    </tr>\n",
       "    <tr>\n",
       "      <th>7</th>\n",
       "      <td>4.677951e+05</td>\n",
       "      <td>target_lag_3</td>\n",
       "    </tr>\n",
       "    <tr>\n",
       "      <th>8</th>\n",
       "      <td>4.174710e+05</td>\n",
       "      <td>shop_id</td>\n",
       "    </tr>\n",
       "    <tr>\n",
       "      <th>9</th>\n",
       "      <td>3.979536e+05</td>\n",
       "      <td>shop_id_lag_12</td>\n",
       "    </tr>\n",
       "    <tr>\n",
       "      <th>10</th>\n",
       "      <td>3.949412e+05</td>\n",
       "      <td>item_id</td>\n",
       "    </tr>\n",
       "    <tr>\n",
       "      <th>11</th>\n",
       "      <td>2.530065e+05</td>\n",
       "      <td>item_id_lag_3</td>\n",
       "    </tr>\n",
       "    <tr>\n",
       "      <th>12</th>\n",
       "      <td>2.368751e+05</td>\n",
       "      <td>item_id_lag_12</td>\n",
       "    </tr>\n",
       "    <tr>\n",
       "      <th>13</th>\n",
       "      <td>2.047902e+05</td>\n",
       "      <td>item_id_lag_5</td>\n",
       "    </tr>\n",
       "    <tr>\n",
       "      <th>14</th>\n",
       "      <td>1.700251e+05</td>\n",
       "      <td>target_lag_4</td>\n",
       "    </tr>\n",
       "    <tr>\n",
       "      <th>15</th>\n",
       "      <td>1.439077e+05</td>\n",
       "      <td>item_id_lag_11</td>\n",
       "    </tr>\n",
       "    <tr>\n",
       "      <th>16</th>\n",
       "      <td>1.400465e+05</td>\n",
       "      <td>item_category_id_lag_1</td>\n",
       "    </tr>\n",
       "    <tr>\n",
       "      <th>17</th>\n",
       "      <td>1.342753e+05</td>\n",
       "      <td>item_id_lag_4</td>\n",
       "    </tr>\n",
       "    <tr>\n",
       "      <th>18</th>\n",
       "      <td>9.859933e+04</td>\n",
       "      <td>item_category_id_lag_4</td>\n",
       "    </tr>\n",
       "    <tr>\n",
       "      <th>19</th>\n",
       "      <td>9.675519e+04</td>\n",
       "      <td>item_category_id_lag_5</td>\n",
       "    </tr>\n",
       "    <tr>\n",
       "      <th>20</th>\n",
       "      <td>9.471457e+04</td>\n",
       "      <td>item_category_id_lag_2</td>\n",
       "    </tr>\n",
       "    <tr>\n",
       "      <th>21</th>\n",
       "      <td>8.756332e+04</td>\n",
       "      <td>item_category_id_lag_12</td>\n",
       "    </tr>\n",
       "    <tr>\n",
       "      <th>22</th>\n",
       "      <td>8.023020e+04</td>\n",
       "      <td>item_category_id_lag_3</td>\n",
       "    </tr>\n",
       "    <tr>\n",
       "      <th>23</th>\n",
       "      <td>6.547768e+04</td>\n",
       "      <td>target_lag_9</td>\n",
       "    </tr>\n",
       "    <tr>\n",
       "      <th>24</th>\n",
       "      <td>3.379951e+04</td>\n",
       "      <td>shop_id_lag_5</td>\n",
       "    </tr>\n",
       "    <tr>\n",
       "      <th>25</th>\n",
       "      <td>3.249065e+04</td>\n",
       "      <td>target_lag_10</td>\n",
       "    </tr>\n",
       "    <tr>\n",
       "      <th>26</th>\n",
       "      <td>2.891190e+04</td>\n",
       "      <td>target_lag_12</td>\n",
       "    </tr>\n",
       "    <tr>\n",
       "      <th>27</th>\n",
       "      <td>2.759172e+04</td>\n",
       "      <td>shop_id_lag_2</td>\n",
       "    </tr>\n",
       "    <tr>\n",
       "      <th>28</th>\n",
       "      <td>2.084541e+04</td>\n",
       "      <td>shop_id_lag_1</td>\n",
       "    </tr>\n",
       "    <tr>\n",
       "      <th>29</th>\n",
       "      <td>1.838837e+04</td>\n",
       "      <td>shop_id_lag_3</td>\n",
       "    </tr>\n",
       "    <tr>\n",
       "      <th>30</th>\n",
       "      <td>1.528929e+04</td>\n",
       "      <td>shop_id_lag_4</td>\n",
       "    </tr>\n",
       "    <tr>\n",
       "      <th>31</th>\n",
       "      <td>7.814835e+03</td>\n",
       "      <td>target_lag_11</td>\n",
       "    </tr>\n",
       "  </tbody>\n",
       "</table>\n",
       "</div>"
      ],
      "text/plain": [
       "           Score                  Feature\n",
       "0   1.136368e+07             target_lag_1\n",
       "1   1.816277e+06            item_id_lag_1\n",
       "2   1.787349e+06      category_shop_inter\n",
       "3   1.310092e+06         item_category_id\n",
       "4   6.868096e+05             target_lag_2\n",
       "5   5.812680e+05                    month\n",
       "6   4.690578e+05            item_id_lag_2\n",
       "7   4.677951e+05             target_lag_3\n",
       "8   4.174710e+05                  shop_id\n",
       "9   3.979536e+05           shop_id_lag_12\n",
       "10  3.949412e+05                  item_id\n",
       "11  2.530065e+05            item_id_lag_3\n",
       "12  2.368751e+05           item_id_lag_12\n",
       "13  2.047902e+05            item_id_lag_5\n",
       "14  1.700251e+05             target_lag_4\n",
       "15  1.439077e+05           item_id_lag_11\n",
       "16  1.400465e+05   item_category_id_lag_1\n",
       "17  1.342753e+05            item_id_lag_4\n",
       "18  9.859933e+04   item_category_id_lag_4\n",
       "19  9.675519e+04   item_category_id_lag_5\n",
       "20  9.471457e+04   item_category_id_lag_2\n",
       "21  8.756332e+04  item_category_id_lag_12\n",
       "22  8.023020e+04   item_category_id_lag_3\n",
       "23  6.547768e+04             target_lag_9\n",
       "24  3.379951e+04            shop_id_lag_5\n",
       "25  3.249065e+04            target_lag_10\n",
       "26  2.891190e+04            target_lag_12\n",
       "27  2.759172e+04            shop_id_lag_2\n",
       "28  2.084541e+04            shop_id_lag_1\n",
       "29  1.838837e+04            shop_id_lag_3\n",
       "30  1.528929e+04            shop_id_lag_4\n",
       "31  7.814835e+03            target_lag_11"
      ]
     },
     "execution_count": 17,
     "metadata": {
      "tags": []
     },
     "output_type": "execute_result"
    }
   ],
   "source": [
    "plot_feature_importance(lgbm_model, X_train)"
   ]
  },
  {
   "cell_type": "markdown",
   "metadata": {
    "colab_type": "text",
    "id": "MuYnIhrs8reB"
   },
   "source": [
    "### Save model"
   ]
  },
  {
   "cell_type": "code",
   "execution_count": 0,
   "metadata": {
    "colab": {
     "base_uri": "https://localhost:8080/",
     "height": 34
    },
    "colab_type": "code",
    "executionInfo": {
     "elapsed": 39085,
     "status": "ok",
     "timestamp": 1568817653273,
     "user": {
      "displayName": "BA22",
      "photoUrl": "",
      "userId": "02603670721502132211"
     },
     "user_tz": -120
    },
    "id": "E8ZMGdF78vYJ",
    "outputId": "c8dacf25-0686-457d-f425-ffce2e0130bf"
   },
   "outputs": [
    {
     "data": {
      "text/plain": [
       "<lightgbm.basic.Booster at 0x7fcc72668160>"
      ]
     },
     "execution_count": 18,
     "metadata": {
      "tags": []
     },
     "output_type": "execute_result"
    }
   ],
   "source": [
    "lgbm_model.save_model(model_path + 'lgbm_model.txt', num_iteration = lgbm_model.best_iteration)"
   ]
  },
  {
   "cell_type": "markdown",
   "metadata": {
    "colab_type": "text",
    "id": "VLzPgVjEDvVv"
   },
   "source": [
    "## Catboost"
   ]
  },
  {
   "cell_type": "code",
   "execution_count": 0,
   "metadata": {
    "colab": {},
    "colab_type": "code",
    "id": "dsxoO2fuRe8Y"
   },
   "outputs": [],
   "source": [
    "data = grid[base_features].reset_index(drop = True)\n",
    "data = norm(data, all_cols = False)"
   ]
  },
  {
   "cell_type": "code",
   "execution_count": 0,
   "metadata": {
    "colab": {},
    "colab_type": "code",
    "id": "l78dcydCRzxZ"
   },
   "outputs": [],
   "source": [
    "for col in categorical_features:\n",
    "     data.loc[:, col] = data[col].astype('category')"
   ]
  },
  {
   "cell_type": "code",
   "execution_count": 0,
   "metadata": {
    "colab": {
     "base_uri": "https://localhost:8080/",
     "height": 238
    },
    "colab_type": "code",
    "executionInfo": {
     "elapsed": 48144,
     "status": "ok",
     "timestamp": 1568893441581,
     "user": {
      "displayName": "BA22",
      "photoUrl": "",
      "userId": "02603670721502132211"
     },
     "user_tz": -120
    },
    "id": "CaIGdWybR2Lp",
    "outputId": "56da3b96-66f3-4d7d-fffb-1c4155e52f26"
   },
   "outputs": [
    {
     "name": "stdout",
     "output_type": "stream",
     "text": [
      "Test `date_block_num` is 34\n",
      "Validation `date_block_num` is 33\n",
      "Train `date_block_num` is < 33\n",
      "------------------------------\n",
      "X_train shape:  (6115195, 32)\n",
      "y_train shape:  (6115195,)\n",
      "------------------------------\n",
      "X_val shape:  (238172, 32)\n",
      "y_val shape:  (238172,)\n",
      "------------------------------\n",
      "X_test shape:  (214200, 32)\n",
      "y_test shape:  (214200,)\n",
      "------------------------------\n"
     ]
    }
   ],
   "source": [
    "X_train, y_train, X_val, y_val, X_test, y_test = train_val_test_split(data)"
   ]
  },
  {
   "cell_type": "code",
   "execution_count": 0,
   "metadata": {
    "colab": {},
    "colab_type": "code",
    "id": "F3gac3tuRXeY"
   },
   "outputs": [],
   "source": [
    "categorical_features_index = []\n",
    "\n",
    "for i, col in enumerate(X_train.columns):\n",
    "    if X_train.loc[:, col].dtype.name == 'category':\n",
    "        categorical_features_index.append(i)"
   ]
  },
  {
   "cell_type": "markdown",
   "metadata": {
    "colab_type": "text",
    "id": "zjV7OGUbns97"
   },
   "source": [
    "### Training"
   ]
  },
  {
   "cell_type": "code",
   "execution_count": 0,
   "metadata": {
    "colab": {
     "base_uri": "https://localhost:8080/"
    },
    "colab_type": "code",
    "executionInfo": {
     "elapsed": 932938,
     "status": "ok",
     "timestamp": 1568894327530,
     "user": {
      "displayName": "BA22",
      "photoUrl": "",
      "userId": "02603670721502132211"
     },
     "user_tz": -120
    },
    "id": "hg-OHeAYnzwh",
    "outputId": "0403cdba-6b07-4d47-d9a2-ecaa9c621999"
   },
   "outputs": [
    {
     "name": "stdout",
     "output_type": "stream",
     "text": [
      "0:\tlearn: 1.1491383\ttest: 1.1045597\tbest: 1.1045597 (0)\ttotal: 8.39s\tremaining: 9h 19m 33s\n",
      "1:\tlearn: 1.1100443\ttest: 1.0773494\tbest: 1.0773494 (1)\ttotal: 16.8s\tremaining: 9h 20m 17s\n",
      "2:\tlearn: 1.0768462\ttest: 1.0542626\tbest: 1.0542626 (2)\ttotal: 25.3s\tremaining: 9h 21m 10s\n",
      "3:\tlearn: 1.0489659\ttest: 1.0368493\tbest: 1.0368493 (3)\ttotal: 33.1s\tremaining: 9h 11m 11s\n",
      "4:\tlearn: 1.0250040\ttest: 1.0213165\tbest: 1.0213165 (4)\ttotal: 40.6s\tremaining: 9h 1m 1s\n",
      "5:\tlearn: 1.0041880\ttest: 1.0081057\tbest: 1.0081057 (5)\ttotal: 48.4s\tremaining: 8h 57m 11s\n",
      "6:\tlearn: 0.9862839\ttest: 0.9956783\tbest: 0.9956783 (6)\ttotal: 56.1s\tremaining: 8h 53m 3s\n",
      "7:\tlearn: 0.9714146\ttest: 0.9845038\tbest: 0.9845038 (7)\ttotal: 1m 3s\tremaining: 8h 49m 25s\n",
      "8:\tlearn: 0.9584446\ttest: 0.9760210\tbest: 0.9760210 (8)\ttotal: 1m 11s\tremaining: 8h 48m 38s\n",
      "9:\tlearn: 0.9475422\ttest: 0.9673411\tbest: 0.9673411 (9)\ttotal: 1m 19s\tremaining: 8h 48m 48s\n",
      "10:\tlearn: 0.9385929\ttest: 0.9622132\tbest: 0.9622132 (10)\ttotal: 1m 27s\tremaining: 8h 47m 36s\n",
      "11:\tlearn: 0.9308345\ttest: 0.9573915\tbest: 0.9573915 (11)\ttotal: 1m 35s\tremaining: 8h 47m 53s\n",
      "12:\tlearn: 0.9228272\ttest: 0.9511993\tbest: 0.9511993 (12)\ttotal: 1m 43s\tremaining: 8h 48m 30s\n",
      "13:\tlearn: 0.9141947\ttest: 0.9438399\tbest: 0.9438399 (13)\ttotal: 1m 52s\tremaining: 8h 52m 40s\n",
      "14:\tlearn: 0.9072864\ttest: 0.9386069\tbest: 0.9386069 (14)\ttotal: 2m 1s\tremaining: 8h 56m 8s\n",
      "15:\tlearn: 0.9007028\ttest: 0.9336438\tbest: 0.9336438 (15)\ttotal: 2m 9s\tremaining: 8h 56m 51s\n",
      "16:\tlearn: 0.8955299\ttest: 0.9304383\tbest: 0.9304383 (16)\ttotal: 2m 18s\tremaining: 8h 58m 56s\n",
      "17:\tlearn: 0.8909830\ttest: 0.9279108\tbest: 0.9279108 (17)\ttotal: 2m 26s\tremaining: 9h 52s\n",
      "18:\tlearn: 0.8872324\ttest: 0.9231506\tbest: 0.9231506 (18)\ttotal: 2m 34s\tremaining: 9h 8s\n",
      "19:\tlearn: 0.8830071\ttest: 0.9213043\tbest: 0.9213043 (19)\ttotal: 2m 43s\tremaining: 9h 1m 3s\n",
      "20:\tlearn: 0.8794884\ttest: 0.9190871\tbest: 0.9190871 (20)\ttotal: 2m 51s\tremaining: 9h 40s\n",
      "21:\tlearn: 0.8760320\ttest: 0.9175830\tbest: 0.9175830 (21)\ttotal: 3m\tremaining: 9h 3m 18s\n",
      "22:\tlearn: 0.8735336\ttest: 0.9155643\tbest: 0.9155643 (22)\ttotal: 3m 8s\tremaining: 9h 2m 33s\n",
      "23:\tlearn: 0.8710757\ttest: 0.9144637\tbest: 0.9144637 (23)\ttotal: 3m 16s\tremaining: 9h 2m 57s\n",
      "24:\tlearn: 0.8690512\ttest: 0.9142337\tbest: 0.9142337 (24)\ttotal: 3m 26s\tremaining: 9h 6m 20s\n",
      "25:\tlearn: 0.8669744\ttest: 0.9137527\tbest: 0.9137527 (25)\ttotal: 3m 34s\tremaining: 9h 5m 53s\n",
      "26:\tlearn: 0.8652894\ttest: 0.9126369\tbest: 0.9126369 (26)\ttotal: 3m 43s\tremaining: 9h 8m 13s\n",
      "27:\tlearn: 0.8638347\ttest: 0.9124705\tbest: 0.9124705 (27)\ttotal: 3m 52s\tremaining: 9h 9m 38s\n",
      "28:\tlearn: 0.8625880\ttest: 0.9122162\tbest: 0.9122162 (28)\ttotal: 4m 1s\tremaining: 9h 11m 5s\n",
      "29:\tlearn: 0.8601483\ttest: 0.9106852\tbest: 0.9106852 (29)\ttotal: 4m 11s\tremaining: 9h 14m 31s\n",
      "30:\tlearn: 0.8586881\ttest: 0.9111477\tbest: 0.9106852 (29)\ttotal: 4m 20s\tremaining: 9h 16m 19s\n",
      "31:\tlearn: 0.8573883\ttest: 0.9110403\tbest: 0.9106852 (29)\ttotal: 4m 30s\tremaining: 9h 18m 50s\n",
      "32:\tlearn: 0.8562269\ttest: 0.9085672\tbest: 0.9085672 (32)\ttotal: 4m 39s\tremaining: 9h 20m 38s\n",
      "33:\tlearn: 0.8552924\ttest: 0.9079145\tbest: 0.9079145 (33)\ttotal: 4m 48s\tremaining: 9h 19m 56s\n",
      "34:\tlearn: 0.8541508\ttest: 0.9074202\tbest: 0.9074202 (34)\ttotal: 4m 57s\tremaining: 9h 21m 12s\n",
      "35:\tlearn: 0.8534527\ttest: 0.9067527\tbest: 0.9067527 (35)\ttotal: 5m 5s\tremaining: 9h 19m 48s\n",
      "36:\tlearn: 0.8520237\ttest: 0.9056075\tbest: 0.9056075 (36)\ttotal: 5m 14s\tremaining: 9h 21m 22s\n",
      "37:\tlearn: 0.8511845\ttest: 0.9052238\tbest: 0.9052238 (37)\ttotal: 5m 23s\tremaining: 9h 21m 28s\n",
      "38:\tlearn: 0.8501585\ttest: 0.9059828\tbest: 0.9052238 (37)\ttotal: 5m 31s\tremaining: 9h 21m 46s\n",
      "39:\tlearn: 0.8492361\ttest: 0.9053331\tbest: 0.9052238 (37)\ttotal: 5m 39s\tremaining: 9h 19m 45s\n",
      "40:\tlearn: 0.8485767\ttest: 0.9053764\tbest: 0.9052238 (37)\ttotal: 5m 46s\tremaining: 9h 18m 21s\n",
      "41:\tlearn: 0.8479057\ttest: 0.9051200\tbest: 0.9051200 (41)\ttotal: 5m 55s\tremaining: 9h 18m 4s\n",
      "42:\tlearn: 0.8470894\ttest: 0.9047201\tbest: 0.9047201 (42)\ttotal: 6m 4s\tremaining: 9h 19m 3s\n",
      "43:\tlearn: 0.8461732\ttest: 0.9043942\tbest: 0.9043942 (43)\ttotal: 6m 12s\tremaining: 9h 18m 21s\n",
      "44:\tlearn: 0.8457708\ttest: 0.9042233\tbest: 0.9042233 (44)\ttotal: 6m 20s\tremaining: 9h 17m 31s\n",
      "45:\tlearn: 0.8442299\ttest: 0.9029383\tbest: 0.9029383 (45)\ttotal: 6m 30s\tremaining: 9h 18m 49s\n",
      "46:\tlearn: 0.8438681\ttest: 0.9029272\tbest: 0.9029272 (46)\ttotal: 6m 37s\tremaining: 9h 17m 6s\n",
      "47:\tlearn: 0.8425094\ttest: 0.9025098\tbest: 0.9025098 (47)\ttotal: 6m 46s\tremaining: 9h 17m 45s\n",
      "48:\tlearn: 0.8416724\ttest: 0.9015392\tbest: 0.9015392 (48)\ttotal: 6m 55s\tremaining: 9h 18m 2s\n",
      "49:\tlearn: 0.8408499\ttest: 0.9013072\tbest: 0.9013072 (49)\ttotal: 7m 9s\tremaining: 9h 25m 30s\n",
      "50:\tlearn: 0.8400078\ttest: 0.9016416\tbest: 0.9013072 (49)\ttotal: 7m 17s\tremaining: 9h 24m 16s\n",
      "51:\tlearn: 0.8393130\ttest: 0.9013387\tbest: 0.9013072 (49)\ttotal: 7m 25s\tremaining: 9h 24m 9s\n",
      "52:\tlearn: 0.8384163\ttest: 0.8999829\tbest: 0.8999829 (52)\ttotal: 7m 33s\tremaining: 9h 22m 52s\n",
      "53:\tlearn: 0.8377946\ttest: 0.9000064\tbest: 0.8999829 (52)\ttotal: 7m 41s\tremaining: 9h 22m 10s\n",
      "54:\tlearn: 0.8367737\ttest: 0.8996027\tbest: 0.8996027 (54)\ttotal: 7m 51s\tremaining: 9h 23m 27s\n",
      "55:\tlearn: 0.8359701\ttest: 0.8996768\tbest: 0.8996027 (54)\ttotal: 7m 59s\tremaining: 9h 23m 6s\n",
      "56:\tlearn: 0.8350680\ttest: 0.8992188\tbest: 0.8992188 (56)\ttotal: 8m 7s\tremaining: 9h 22m 20s\n",
      "57:\tlearn: 0.8347125\ttest: 0.8989999\tbest: 0.8989999 (57)\ttotal: 8m 15s\tremaining: 9h 20m 58s\n",
      "58:\tlearn: 0.8342049\ttest: 0.8986986\tbest: 0.8986986 (58)\ttotal: 8m 23s\tremaining: 9h 20m 52s\n",
      "59:\tlearn: 0.8335474\ttest: 0.8983734\tbest: 0.8983734 (59)\ttotal: 8m 32s\tremaining: 9h 21m 22s\n",
      "60:\tlearn: 0.8330758\ttest: 0.8982326\tbest: 0.8982326 (60)\ttotal: 8m 40s\tremaining: 9h 20m 31s\n",
      "61:\tlearn: 0.8326990\ttest: 0.8985374\tbest: 0.8982326 (60)\ttotal: 8m 49s\tremaining: 9h 20m 4s\n",
      "62:\tlearn: 0.8315242\ttest: 0.8997914\tbest: 0.8982326 (60)\ttotal: 8m 58s\tremaining: 9h 21m 12s\n",
      "63:\tlearn: 0.8308604\ttest: 0.8996327\tbest: 0.8982326 (60)\ttotal: 9m 8s\tremaining: 9h 22m 4s\n",
      "64:\tlearn: 0.8303654\ttest: 0.8997287\tbest: 0.8982326 (60)\ttotal: 9m 16s\tremaining: 9h 21m 42s\n",
      "65:\tlearn: 0.8299602\ttest: 0.8995422\tbest: 0.8982326 (60)\ttotal: 9m 24s\tremaining: 9h 21m 11s\n",
      "66:\tlearn: 0.8286270\ttest: 0.8998401\tbest: 0.8982326 (60)\ttotal: 9m 33s\tremaining: 9h 21m 5s\n",
      "67:\tlearn: 0.8280378\ttest: 0.8996033\tbest: 0.8982326 (60)\ttotal: 9m 44s\tremaining: 9h 23m 13s\n",
      "68:\tlearn: 0.8272680\ttest: 0.8997191\tbest: 0.8982326 (60)\ttotal: 9m 55s\tremaining: 9h 25m 40s\n",
      "69:\tlearn: 0.8267446\ttest: 0.8998316\tbest: 0.8982326 (60)\ttotal: 10m 7s\tremaining: 9h 28m 9s\n",
      "70:\tlearn: 0.8265163\ttest: 0.8997497\tbest: 0.8982326 (60)\ttotal: 10m 16s\tremaining: 9h 28m 52s\n",
      "71:\tlearn: 0.8261748\ttest: 0.8995484\tbest: 0.8982326 (60)\ttotal: 10m 24s\tremaining: 9h 28m 16s\n",
      "72:\tlearn: 0.8257394\ttest: 0.8994699\tbest: 0.8982326 (60)\ttotal: 10m 32s\tremaining: 9h 27m 12s\n",
      "73:\tlearn: 0.8253201\ttest: 0.8993938\tbest: 0.8982326 (60)\ttotal: 10m 42s\tremaining: 9h 28m 19s\n",
      "74:\tlearn: 0.8248910\ttest: 0.8988738\tbest: 0.8982326 (60)\ttotal: 10m 50s\tremaining: 9h 26m 57s\n",
      "75:\tlearn: 0.8244244\ttest: 0.8990637\tbest: 0.8982326 (60)\ttotal: 10m 58s\tremaining: 9h 26m 34s\n",
      "76:\tlearn: 0.8241418\ttest: 0.8989957\tbest: 0.8982326 (60)\ttotal: 11m 5s\tremaining: 9h 25m 15s\n",
      "77:\tlearn: 0.8230554\ttest: 0.8986364\tbest: 0.8982326 (60)\ttotal: 11m 15s\tremaining: 9h 25m 45s\n",
      "78:\tlearn: 0.8218872\ttest: 0.8978499\tbest: 0.8978499 (78)\ttotal: 11m 24s\tremaining: 9h 26m 27s\n",
      "79:\tlearn: 0.8215841\ttest: 0.8981479\tbest: 0.8978499 (78)\ttotal: 11m 32s\tremaining: 9h 25m 45s\n",
      "80:\tlearn: 0.8206548\ttest: 0.8997061\tbest: 0.8978499 (78)\ttotal: 11m 41s\tremaining: 9h 25m 57s\n",
      "81:\tlearn: 0.8203525\ttest: 0.9002026\tbest: 0.8978499 (78)\ttotal: 11m 49s\tremaining: 9h 25m 18s\n",
      "82:\tlearn: 0.8198230\ttest: 0.9004953\tbest: 0.8978499 (78)\ttotal: 11m 58s\tremaining: 9h 25m 29s\n",
      "83:\tlearn: 0.8194020\ttest: 0.9006550\tbest: 0.8978499 (78)\ttotal: 12m 6s\tremaining: 9h 24m 51s\n",
      "84:\tlearn: 0.8190068\ttest: 0.9006735\tbest: 0.8978499 (78)\ttotal: 12m 14s\tremaining: 9h 24m 5s\n",
      "85:\tlearn: 0.8186626\ttest: 0.9005439\tbest: 0.8978499 (78)\ttotal: 12m 23s\tremaining: 9h 23m 45s\n",
      "86:\tlearn: 0.8182333\ttest: 0.9002830\tbest: 0.8978499 (78)\ttotal: 12m 31s\tremaining: 9h 23m 35s\n",
      "87:\tlearn: 0.8174687\ttest: 0.9003823\tbest: 0.8978499 (78)\ttotal: 12m 40s\tremaining: 9h 23m 49s\n",
      "88:\tlearn: 0.8171870\ttest: 0.9003524\tbest: 0.8978499 (78)\ttotal: 12m 48s\tremaining: 9h 22m 58s\n",
      "89:\tlearn: 0.8168469\ttest: 0.8999960\tbest: 0.8978499 (78)\ttotal: 12m 57s\tremaining: 9h 22m 59s\n",
      "90:\tlearn: 0.8164130\ttest: 0.8998778\tbest: 0.8978499 (78)\ttotal: 13m 6s\tremaining: 9h 23m 17s\n",
      "91:\tlearn: 0.8157642\ttest: 0.9002009\tbest: 0.8978499 (78)\ttotal: 13m 16s\tremaining: 9h 23m 42s\n",
      "92:\tlearn: 0.8153572\ttest: 0.8998346\tbest: 0.8978499 (78)\ttotal: 13m 24s\tremaining: 9h 23m 26s\n",
      "93:\tlearn: 0.8150429\ttest: 0.8997857\tbest: 0.8978499 (78)\ttotal: 13m 32s\tremaining: 9h 22m 42s\n",
      "94:\tlearn: 0.8148162\ttest: 0.8994390\tbest: 0.8978499 (78)\ttotal: 13m 40s\tremaining: 9h 22m 4s\n",
      "95:\tlearn: 0.8143569\ttest: 0.8996121\tbest: 0.8978499 (78)\ttotal: 13m 49s\tremaining: 9h 22m 2s\n",
      "96:\tlearn: 0.8139397\ttest: 0.8997101\tbest: 0.8978499 (78)\ttotal: 13m 57s\tremaining: 9h 21m 48s\n",
      "97:\tlearn: 0.8136899\ttest: 0.8996456\tbest: 0.8978499 (78)\ttotal: 14m 6s\tremaining: 9h 22m 2s\n",
      "98:\tlearn: 0.8134683\ttest: 0.8998551\tbest: 0.8978499 (78)\ttotal: 14m 15s\tremaining: 9h 21m 47s\n",
      "Stopped by overfitting detector  (20 iterations wait)\n",
      "\n",
      "bestTest = 0.8978499344\n",
      "bestIteration = 78\n",
      "\n",
      "Shrink model to first 79 iterations.\n",
      "Model is fitted: True\n",
      "Model params:\n",
      "{'max_depth': 10, 'od_type': 'Iter', 'od_wait': 20, 'loss_function': 'RMSE', 'learning_rate': 0.1, 'iterations': 4000}\n",
      "it took:  886 seconds\n"
     ]
    }
   ],
   "source": [
    "start = time.time()\n",
    "catboost_model = CatBoostRegressor(\n",
    "    iterations = 4000,\n",
    "    learning_rate = 0.1,\n",
    "    max_depth = 10,\n",
    "    od_type = 'Iter',\n",
    "    od_wait = 20,\n",
    ")\n",
    "catboost_model.fit(\n",
    "    X_train, y_train,\n",
    "    eval_set = (X_val, y_val),\n",
    "    cat_features = categorical_features_index\n",
    ")\n",
    "print('Model is fitted: ' + str(catboost_model.is_fitted()))\n",
    "print('Model params:')\n",
    "print(catboost_model.get_params())\n",
    "print('it took: ', round(time.time() - start), 'seconds')"
   ]
  },
  {
   "cell_type": "markdown",
   "metadata": {
    "colab_type": "text",
    "id": "DIN8sM6unvsZ"
   },
   "source": [
    "### Evaluate"
   ]
  },
  {
   "cell_type": "code",
   "execution_count": 0,
   "metadata": {
    "colab": {
     "base_uri": "https://localhost:8080/",
     "height": 51
    },
    "colab_type": "code",
    "executionInfo": {
     "elapsed": 940006,
     "status": "ok",
     "timestamp": 1568894335822,
     "user": {
      "displayName": "BA22",
      "photoUrl": "",
      "userId": "02603670721502132211"
     },
     "user_tz": -120
    },
    "id": "6iim6F1Mnrys",
    "outputId": "cbe66151-ebd4-4813-9f00-a31570798815"
   },
   "outputs": [
    {
     "name": "stdout",
     "output_type": "stream",
     "text": [
      "Training error; 0.8203105844373765\n",
      "Validation error: 0.8978499343909944\n"
     ]
    }
   ],
   "source": [
    "evaluate_model(catboost_model, X_train, y_train, X_val, y_val)"
   ]
  },
  {
   "cell_type": "markdown",
   "metadata": {
    "colab_type": "text",
    "id": "8p8Jqj-hsGHY"
   },
   "source": [
    "### Feature importance"
   ]
  },
  {
   "cell_type": "code",
   "execution_count": 0,
   "metadata": {
    "colab": {
     "base_uri": "https://localhost:8080/",
     "height": 1000
    },
    "colab_type": "code",
    "executionInfo": {
     "elapsed": 947095,
     "status": "ok",
     "timestamp": 1568894344822,
     "user": {
      "displayName": "BA22",
      "photoUrl": "",
      "userId": "02603670721502132211"
     },
     "user_tz": -120
    },
    "id": "GJF53ULxsFE_",
    "outputId": "637b1e1d-8769-4c5b-9664-ef22fc2a6598"
   },
   "outputs": [
    {
     "data": {
      "image/png": "[encoded data removed]",
      "text/plain": [
       "<Figure size 1080x504 with 1 Axes>"
      ]
     },
     "metadata": {
      "tags": []
     },
     "output_type": "display_data"
    },
    {
     "data": {
      "text/html": [
       "<div>\n",
       "<style scoped>\n",
       "    .dataframe tbody tr th:only-of-type {\n",
       "        vertical-align: middle;\n",
       "    }\n",
       "\n",
       "    .dataframe tbody tr th {\n",
       "        vertical-align: top;\n",
       "    }\n",
       "\n",
       "    .dataframe thead th {\n",
       "        text-align: right;\n",
       "    }\n",
       "</style>\n",
       "<table border=\"1\" class=\"dataframe\">\n",
       "  <thead>\n",
       "    <tr style=\"text-align: right;\">\n",
       "      <th></th>\n",
       "      <th>Feature</th>\n",
       "      <th>Score</th>\n",
       "    </tr>\n",
       "  </thead>\n",
       "  <tbody>\n",
       "    <tr>\n",
       "      <th>3</th>\n",
       "      <td>target_lag_1</td>\n",
       "      <td>18.259728</td>\n",
       "    </tr>\n",
       "    <tr>\n",
       "      <th>11</th>\n",
       "      <td>item_id_lag_1</td>\n",
       "      <td>15.733147</td>\n",
       "    </tr>\n",
       "    <tr>\n",
       "      <th>2</th>\n",
       "      <td>item_category_id</td>\n",
       "      <td>9.560714</td>\n",
       "    </tr>\n",
       "    <tr>\n",
       "      <th>31</th>\n",
       "      <td>category_shop_inter</td>\n",
       "      <td>7.297687</td>\n",
       "    </tr>\n",
       "    <tr>\n",
       "      <th>12</th>\n",
       "      <td>item_id_lag_2</td>\n",
       "      <td>7.265187</td>\n",
       "    </tr>\n",
       "    <tr>\n",
       "      <th>23</th>\n",
       "      <td>shop_id_lag_12</td>\n",
       "      <td>6.059813</td>\n",
       "    </tr>\n",
       "    <tr>\n",
       "      <th>4</th>\n",
       "      <td>target_lag_2</td>\n",
       "      <td>4.537710</td>\n",
       "    </tr>\n",
       "    <tr>\n",
       "      <th>30</th>\n",
       "      <td>month</td>\n",
       "      <td>4.394870</td>\n",
       "    </tr>\n",
       "    <tr>\n",
       "      <th>5</th>\n",
       "      <td>target_lag_3</td>\n",
       "      <td>3.495596</td>\n",
       "    </tr>\n",
       "    <tr>\n",
       "      <th>1</th>\n",
       "      <td>item_id</td>\n",
       "      <td>3.115046</td>\n",
       "    </tr>\n",
       "    <tr>\n",
       "      <th>13</th>\n",
       "      <td>item_id_lag_3</td>\n",
       "      <td>2.484789</td>\n",
       "    </tr>\n",
       "    <tr>\n",
       "      <th>15</th>\n",
       "      <td>item_id_lag_5</td>\n",
       "      <td>2.078338</td>\n",
       "    </tr>\n",
       "    <tr>\n",
       "      <th>26</th>\n",
       "      <td>item_category_id_lag_3</td>\n",
       "      <td>1.937239</td>\n",
       "    </tr>\n",
       "    <tr>\n",
       "      <th>24</th>\n",
       "      <td>item_category_id_lag_1</td>\n",
       "      <td>1.755410</td>\n",
       "    </tr>\n",
       "    <tr>\n",
       "      <th>29</th>\n",
       "      <td>item_category_id_lag_12</td>\n",
       "      <td>1.573909</td>\n",
       "    </tr>\n",
       "    <tr>\n",
       "      <th>6</th>\n",
       "      <td>target_lag_4</td>\n",
       "      <td>1.402297</td>\n",
       "    </tr>\n",
       "    <tr>\n",
       "      <th>16</th>\n",
       "      <td>item_id_lag_11</td>\n",
       "      <td>1.389328</td>\n",
       "    </tr>\n",
       "    <tr>\n",
       "      <th>17</th>\n",
       "      <td>item_id_lag_12</td>\n",
       "      <td>1.372440</td>\n",
       "    </tr>\n",
       "    <tr>\n",
       "      <th>14</th>\n",
       "      <td>item_id_lag_4</td>\n",
       "      <td>1.284201</td>\n",
       "    </tr>\n",
       "    <tr>\n",
       "      <th>25</th>\n",
       "      <td>item_category_id_lag_2</td>\n",
       "      <td>1.109859</td>\n",
       "    </tr>\n",
       "    <tr>\n",
       "      <th>0</th>\n",
       "      <td>shop_id</td>\n",
       "      <td>1.076425</td>\n",
       "    </tr>\n",
       "    <tr>\n",
       "      <th>27</th>\n",
       "      <td>item_category_id_lag_4</td>\n",
       "      <td>0.930437</td>\n",
       "    </tr>\n",
       "    <tr>\n",
       "      <th>28</th>\n",
       "      <td>item_category_id_lag_5</td>\n",
       "      <td>0.490889</td>\n",
       "    </tr>\n",
       "    <tr>\n",
       "      <th>7</th>\n",
       "      <td>target_lag_9</td>\n",
       "      <td>0.490572</td>\n",
       "    </tr>\n",
       "    <tr>\n",
       "      <th>10</th>\n",
       "      <td>target_lag_12</td>\n",
       "      <td>0.289960</td>\n",
       "    </tr>\n",
       "    <tr>\n",
       "      <th>18</th>\n",
       "      <td>shop_id_lag_1</td>\n",
       "      <td>0.169636</td>\n",
       "    </tr>\n",
       "    <tr>\n",
       "      <th>8</th>\n",
       "      <td>target_lag_10</td>\n",
       "      <td>0.169223</td>\n",
       "    </tr>\n",
       "    <tr>\n",
       "      <th>9</th>\n",
       "      <td>target_lag_11</td>\n",
       "      <td>0.130288</td>\n",
       "    </tr>\n",
       "    <tr>\n",
       "      <th>22</th>\n",
       "      <td>shop_id_lag_5</td>\n",
       "      <td>0.103404</td>\n",
       "    </tr>\n",
       "    <tr>\n",
       "      <th>21</th>\n",
       "      <td>shop_id_lag_4</td>\n",
       "      <td>0.022218</td>\n",
       "    </tr>\n",
       "    <tr>\n",
       "      <th>20</th>\n",
       "      <td>shop_id_lag_3</td>\n",
       "      <td>0.019642</td>\n",
       "    </tr>\n",
       "    <tr>\n",
       "      <th>19</th>\n",
       "      <td>shop_id_lag_2</td>\n",
       "      <td>0.000000</td>\n",
       "    </tr>\n",
       "  </tbody>\n",
       "</table>\n",
       "</div>"
      ],
      "text/plain": [
       "                    Feature      Score\n",
       "3              target_lag_1  18.259728\n",
       "11            item_id_lag_1  15.733147\n",
       "2          item_category_id   9.560714\n",
       "31      category_shop_inter   7.297687\n",
       "12            item_id_lag_2   7.265187\n",
       "23           shop_id_lag_12   6.059813\n",
       "4              target_lag_2   4.537710\n",
       "30                    month   4.394870\n",
       "5              target_lag_3   3.495596\n",
       "1                   item_id   3.115046\n",
       "13            item_id_lag_3   2.484789\n",
       "15            item_id_lag_5   2.078338\n",
       "26   item_category_id_lag_3   1.937239\n",
       "24   item_category_id_lag_1   1.755410\n",
       "29  item_category_id_lag_12   1.573909\n",
       "6              target_lag_4   1.402297\n",
       "16           item_id_lag_11   1.389328\n",
       "17           item_id_lag_12   1.372440\n",
       "14            item_id_lag_4   1.284201\n",
       "25   item_category_id_lag_2   1.109859\n",
       "0                   shop_id   1.076425\n",
       "27   item_category_id_lag_4   0.930437\n",
       "28   item_category_id_lag_5   0.490889\n",
       "7              target_lag_9   0.490572\n",
       "10            target_lag_12   0.289960\n",
       "18            shop_id_lag_1   0.169636\n",
       "8             target_lag_10   0.169223\n",
       "9             target_lag_11   0.130288\n",
       "22            shop_id_lag_5   0.103404\n",
       "21            shop_id_lag_4   0.022218\n",
       "20            shop_id_lag_3   0.019642\n",
       "19            shop_id_lag_2   0.000000"
      ]
     },
     "execution_count": 42,
     "metadata": {
      "tags": []
     },
     "output_type": "execute_result"
    }
   ],
   "source": [
    "plot_catboost_feature_importance(catboost_model, X_train, y_train)"
   ]
  },
  {
   "cell_type": "markdown",
   "metadata": {
    "colab_type": "text",
    "id": "Qr_lIH0k8KqX"
   },
   "source": [
    "### Save model"
   ]
  },
  {
   "cell_type": "code",
   "execution_count": 0,
   "metadata": {
    "colab": {},
    "colab_type": "code",
    "id": "n5MWoHLT8Nax"
   },
   "outputs": [],
   "source": [
    "catboost_model.save_model(model_path + 'catboost_model.json', format = 'json')"
   ]
  },
  {
   "cell_type": "markdown",
   "metadata": {
    "colab_type": "text",
    "id": "2CpV6X9YDxzX"
   },
   "source": [
    "## Xgboost"
   ]
  },
  {
   "cell_type": "code",
   "execution_count": 0,
   "metadata": {
    "colab": {},
    "colab_type": "code",
    "id": "cy5w-KGXSIvb"
   },
   "outputs": [],
   "source": [
    "data = grid[base_features].reset_index(drop = True)\n",
    "data = norm(data, all_cols = True)"
   ]
  },
  {
   "cell_type": "code",
   "execution_count": 0,
   "metadata": {
    "colab": {
     "base_uri": "https://localhost:8080/",
     "height": 238
    },
    "colab_type": "code",
    "executionInfo": {
     "elapsed": 39474,
     "status": "ok",
     "timestamp": 1568890042920,
     "user": {
      "displayName": "BA22",
      "photoUrl": "",
      "userId": "02603670721502132211"
     },
     "user_tz": -120
    },
    "id": "WzMBIsN-Sufw",
    "outputId": "810b7168-6af6-4112-fb49-9329acb80477"
   },
   "outputs": [
    {
     "name": "stdout",
     "output_type": "stream",
     "text": [
      "Test `date_block_num` is 34\n",
      "Validation `date_block_num` is 33\n",
      "Train `date_block_num` is < 33\n",
      "------------------------------\n",
      "X_train shape:  (6115195, 32)\n",
      "y_train shape:  (6115195,)\n",
      "------------------------------\n",
      "X_val shape:  (238172, 32)\n",
      "y_val shape:  (238172,)\n",
      "------------------------------\n",
      "X_test shape:  (214200, 32)\n",
      "y_test shape:  (214200,)\n",
      "------------------------------\n"
     ]
    }
   ],
   "source": [
    "X_train, y_train, X_val, y_val, X_test, y_test = train_val_test_split(data)"
   ]
  },
  {
   "cell_type": "markdown",
   "metadata": {
    "colab_type": "text",
    "id": "CjgxWz8CRcfo"
   },
   "source": [
    "### Training"
   ]
  },
  {
   "cell_type": "code",
   "execution_count": 0,
   "metadata": {
    "colab": {
     "base_uri": "https://localhost:8080/",
     "height": 989
    },
    "colab_type": "code",
    "executionInfo": {
     "elapsed": 2980610,
     "status": "ok",
     "timestamp": 1568892986137,
     "user": {
      "displayName": "BA22",
      "photoUrl": "",
      "userId": "02603670721502132211"
     },
     "user_tz": -120
    },
    "id": "tPFWQtOOSD72",
    "outputId": "d2ceaaea-97fd-420a-c055-665f601069ed"
   },
   "outputs": [
    {
     "name": "stdout",
     "output_type": "stream",
     "text": [
      "[10:47:26] WARNING: /workspace/src/objective/regression_obj.cu:152: reg:linear is now deprecated in favor of reg:squarederror.\n",
      "[10:47:26] WARNING: /workspace/src/learner.cc:686: Tree method is automatically selected to be 'approx' for faster speed. To use old behavior (exact greedy algorithm on single machine), set tree_method to 'exact'.\n",
      "[0]\tvalidation_0-rmse:1.1322\tvalidation_1-rmse:1.12295\n",
      "Multiple eval metrics have been passed: 'validation_1-rmse' will be used for early stopping.\n",
      "\n",
      "Will train until validation_1-rmse hasn't improved in 10 rounds.\n",
      "[1]\tvalidation_0-rmse:1.09285\tvalidation_1-rmse:1.08913\n",
      "[2]\tvalidation_0-rmse:1.06466\tvalidation_1-rmse:1.06564\n",
      "[3]\tvalidation_0-rmse:1.02396\tvalidation_1-rmse:1.04273\n",
      "[4]\tvalidation_0-rmse:0.998133\tvalidation_1-rmse:1.02466\n",
      "[5]\tvalidation_0-rmse:0.978824\tvalidation_1-rmse:1.01014\n",
      "[6]\tvalidation_0-rmse:0.960831\tvalidation_1-rmse:0.995959\n",
      "[7]\tvalidation_0-rmse:0.943559\tvalidation_1-rmse:0.986499\n",
      "[8]\tvalidation_0-rmse:0.928078\tvalidation_1-rmse:0.975838\n",
      "[9]\tvalidation_0-rmse:0.916539\tvalidation_1-rmse:0.966917\n",
      "[10]\tvalidation_0-rmse:0.905408\tvalidation_1-rmse:0.959198\n",
      "[11]\tvalidation_0-rmse:0.895942\tvalidation_1-rmse:0.953565\n",
      "[12]\tvalidation_0-rmse:0.888134\tvalidation_1-rmse:0.948576\n",
      "[13]\tvalidation_0-rmse:0.881685\tvalidation_1-rmse:0.944313\n",
      "[14]\tvalidation_0-rmse:0.876449\tvalidation_1-rmse:0.94161\n",
      "[15]\tvalidation_0-rmse:0.871657\tvalidation_1-rmse:0.938498\n",
      "[16]\tvalidation_0-rmse:0.867746\tvalidation_1-rmse:0.936423\n",
      "[17]\tvalidation_0-rmse:0.86446\tvalidation_1-rmse:0.934861\n",
      "[18]\tvalidation_0-rmse:0.861532\tvalidation_1-rmse:0.932703\n",
      "[19]\tvalidation_0-rmse:0.858923\tvalidation_1-rmse:0.930774\n",
      "[20]\tvalidation_0-rmse:0.855316\tvalidation_1-rmse:0.927134\n",
      "[21]\tvalidation_0-rmse:0.853051\tvalidation_1-rmse:0.926174\n",
      "[22]\tvalidation_0-rmse:0.850963\tvalidation_1-rmse:0.925262\n",
      "[23]\tvalidation_0-rmse:0.848757\tvalidation_1-rmse:0.92487\n",
      "[24]\tvalidation_0-rmse:0.846981\tvalidation_1-rmse:0.924503\n",
      "[25]\tvalidation_0-rmse:0.84506\tvalidation_1-rmse:0.923656\n",
      "[26]\tvalidation_0-rmse:0.843487\tvalidation_1-rmse:0.923085\n",
      "[27]\tvalidation_0-rmse:0.841375\tvalidation_1-rmse:0.921511\n",
      "[28]\tvalidation_0-rmse:0.839987\tvalidation_1-rmse:0.921094\n",
      "[29]\tvalidation_0-rmse:0.837506\tvalidation_1-rmse:0.918495\n",
      "[30]\tvalidation_0-rmse:0.836368\tvalidation_1-rmse:0.918693\n",
      "[31]\tvalidation_0-rmse:0.83458\tvalidation_1-rmse:0.917153\n",
      "[32]\tvalidation_0-rmse:0.833121\tvalidation_1-rmse:0.91605\n",
      "[33]\tvalidation_0-rmse:0.831978\tvalidation_1-rmse:0.915883\n",
      "[34]\tvalidation_0-rmse:0.830727\tvalidation_1-rmse:0.916154\n",
      "[35]\tvalidation_0-rmse:0.829191\tvalidation_1-rmse:0.915337\n",
      "[36]\tvalidation_0-rmse:0.828356\tvalidation_1-rmse:0.914793\n",
      "[37]\tvalidation_0-rmse:0.827383\tvalidation_1-rmse:0.914624\n",
      "[38]\tvalidation_0-rmse:0.826463\tvalidation_1-rmse:0.914622\n",
      "[39]\tvalidation_0-rmse:0.825691\tvalidation_1-rmse:0.914303\n",
      "[40]\tvalidation_0-rmse:0.824649\tvalidation_1-rmse:0.913929\n",
      "[41]\tvalidation_0-rmse:0.823795\tvalidation_1-rmse:0.913934\n",
      "[42]\tvalidation_0-rmse:0.822541\tvalidation_1-rmse:0.912631\n",
      "[43]\tvalidation_0-rmse:0.822075\tvalidation_1-rmse:0.912432\n",
      "[44]\tvalidation_0-rmse:0.821386\tvalidation_1-rmse:0.911863\n",
      "[45]\tvalidation_0-rmse:0.820238\tvalidation_1-rmse:0.910891\n",
      "[46]\tvalidation_0-rmse:0.819548\tvalidation_1-rmse:0.910634\n",
      "[47]\tvalidation_0-rmse:0.818654\tvalidation_1-rmse:0.910625\n",
      "[48]\tvalidation_0-rmse:0.817806\tvalidation_1-rmse:0.910328\n",
      "[49]\tvalidation_0-rmse:0.817294\tvalidation_1-rmse:0.910209\n",
      "it took:  2942 seconds\n"
     ]
    }
   ],
   "source": [
    "start = time.time()\n",
    "xgb_model = XGBRegressor(\n",
    "    max_depth = 8,\n",
    "    n_estimators = 50,\n",
    "    min_child_weight = 0.5, \n",
    "    colsample_bytree = 0.9, \n",
    "    subsample = 0.8, \n",
    "    eta = 0.1,    \n",
    "    seed = 1)\n",
    "\n",
    "xgb_model.fit(\n",
    "    X_train, \n",
    "    y_train, \n",
    "    eval_metric = \"rmse\", \n",
    "    eval_set = [(X_train, y_train), (X_val, y_val)], \n",
    "    verbose=True, \n",
    "    early_stopping_rounds = 10)\n",
    "\n",
    "print('it took: ', round(time.time() - start), 'seconds')"
   ]
  },
  {
   "cell_type": "markdown",
   "metadata": {
    "colab_type": "text",
    "id": "in9C95oFRgAT"
   },
   "source": [
    "### Evaluation"
   ]
  },
  {
   "cell_type": "code",
   "execution_count": 0,
   "metadata": {
    "colab": {
     "base_uri": "https://localhost:8080/",
     "height": 51
    },
    "colab_type": "code",
    "executionInfo": {
     "elapsed": 3008682,
     "status": "ok",
     "timestamp": 1568893015551,
     "user": {
      "displayName": "BA22",
      "photoUrl": "",
      "userId": "02603670721502132211"
     },
     "user_tz": -120
    },
    "id": "SX0EDKtJTI34",
    "outputId": "9af21136-7e9c-45d4-c578-98f96cca6c40"
   },
   "outputs": [
    {
     "name": "stdout",
     "output_type": "stream",
     "text": [
      "Training error; 0.82113296\n",
      "Validation error: 0.9104165\n"
     ]
    }
   ],
   "source": [
    "evaluate_model(xgb_model, X_train, y_train, X_val, y_val)"
   ]
  },
  {
   "cell_type": "markdown",
   "metadata": {
    "colab_type": "text",
    "id": "AXJLvxQ9Ripr"
   },
   "source": [
    "### Feature importance"
   ]
  },
  {
   "cell_type": "code",
   "execution_count": 0,
   "metadata": {
    "colab": {
     "base_uri": "https://localhost:8080/",
     "height": 856
    },
    "colab_type": "code",
    "executionInfo": {
     "elapsed": 3009243,
     "status": "ok",
     "timestamp": 1568893018267,
     "user": {
      "displayName": "BA22",
      "photoUrl": "",
      "userId": "02603670721502132211"
     },
     "user_tz": -120
    },
    "id": "HMQJnncjTcQl",
    "outputId": "2cdb7713-6890-4cf4-ec5a-7a8f5c8c1dfc"
   },
   "outputs": [
    {
     "data": {
      "text/plain": [
       "<matplotlib.axes._subplots.AxesSubplot at 0x7f66de880278>"
      ]
     },
     "execution_count": 28,
     "metadata": {
      "tags": []
     },
     "output_type": "execute_result"
    },
    {
     "data": {
      "image/png": "[encoded data removed]",
      "text/plain": [
       "<Figure size 720x1008 with 1 Axes>"
      ]
     },
     "metadata": {
      "tags": []
     },
     "output_type": "display_data"
    }
   ],
   "source": [
    "from xgboost import plot_importance\n",
    "def plot_features(booster, figsize):\n",
    "    fig, ax = plt.subplots(1, 1, figsize = figsize)\n",
    "    return plot_importance(booster = booster, ax = ax)\n",
    "plot_features(xgb_model, (10, 14))"
   ]
  },
  {
   "cell_type": "markdown",
   "metadata": {
    "colab_type": "text",
    "id": "pMbZJbr7Rmy5"
   },
   "source": [
    "### save model"
   ]
  },
  {
   "cell_type": "code",
   "execution_count": 0,
   "metadata": {
    "colab": {
     "base_uri": "https://localhost:8080/",
     "height": 34
    },
    "colab_type": "code",
    "executionInfo": {
     "elapsed": 3008757,
     "status": "ok",
     "timestamp": 1568893019529,
     "user": {
      "displayName": "BA22",
      "photoUrl": "",
      "userId": "02603670721502132211"
     },
     "user_tz": -120
    },
    "id": "cXTUgnATUQL8",
    "outputId": "77398a1f-b982-4ef2-bc39-f61526bd9f59"
   },
   "outputs": [
    {
     "data": {
      "text/plain": [
       "['/content/drive/My Drive/Colab Notebooks/predict_future_sales/models/xgb_model.dat']"
      ]
     },
     "execution_count": 29,
     "metadata": {
      "tags": []
     },
     "output_type": "execute_result"
    }
   ],
   "source": [
    "joblib.dump(xgb_model, model_path + 'xgb_model.dat') "
   ]
  },
  {
   "cell_type": "markdown",
   "metadata": {
    "colab_type": "text",
    "id": "bZofJ-ueA1et"
   },
   "source": [
    "## Test meta-features"
   ]
  },
  {
   "cell_type": "markdown",
   "metadata": {
    "colab_type": "text",
    "id": "NtZC0pMtOlzC"
   },
   "source": [
    "### Load base models if needed"
   ]
  },
  {
   "cell_type": "code",
   "execution_count": null,
   "metadata": {},
   "outputs": [],
   "source": [
    "from keras.models import load_model\n",
    "from keras.models import model_from_json\n",
    "\n",
    "json_file = open(model_path + 'nn_model.json', 'r')\n",
    "loaded_model_json = json_file.read()\n",
    "json_file.close()\n",
    "loaded_model = model_from_json(loaded_model_json)\n",
    "# load weights into new model\n",
    "loaded_model.load_weights(model_path + \"nn_model.h5\")\n",
    "print(\"Loaded model from cloud\")"
   ]
  },
  {
   "cell_type": "code",
   "execution_count": null,
   "metadata": {
    "colab": {
     "base_uri": "https://localhost:8080/",
     "height": 853
    },
    "colab_type": "code",
    "executionInfo": {
     "elapsed": 2106,
     "status": "error",
     "timestamp": 1568905466572,
     "user": {
      "displayName": "BA22",
      "photoUrl": "",
      "userId": "02603670721502132211"
     },
     "user_tz": -120
    },
    "id": "xIYXD2hLOk3x",
    "outputId": "1f2f91a8-aaf7-4a3a-ecca-32db9c70f3e4"
   },
   "outputs": [],
   "source": [
    "from keras.models import load_model\n",
    "\n",
    "\n",
    "lr_model = joblib.load(model_path + 'lr_model.dat')\n",
    "\n",
    "lasso_model = joblib.load(model_path + 'lasso_model.dat')\n",
    "\n",
    "catboost_model = CatBoostRegressor()\n",
    "catboost_model.load_model(model_path + 'catboost_model.json', format = 'json')\n",
    "\n",
    "lgbm_model = lgb.Booster(model_file = model_path + 'lgbm_model.txt')\n",
    "\n",
    "xgb_model1 = joblib.load(model_path + 'xgb_model.dat')\n"
   ]
  },
  {
   "cell_type": "markdown",
   "metadata": {
    "colab_type": "text",
    "id": "bGgpmBp8OrFq"
   },
   "source": [
    "### Generate test meta features"
   ]
  },
  {
   "cell_type": "code",
   "execution_count": 0,
   "metadata": {
    "colab": {},
    "colab_type": "code",
    "id": "9AFRXKxSCYbt"
   },
   "outputs": [],
   "source": [
    "data = grid[base_features].reset_index(drop = True)\n",
    "data = norm(data, all_cols = False)"
   ]
  },
  {
   "cell_type": "code",
   "execution_count": 0,
   "metadata": {
    "colab": {},
    "colab_type": "code",
    "id": "oIB8yzfoZaom"
   },
   "outputs": [],
   "source": [
    "for col in categorical_features:\n",
    "    data.loc[:, col] = data[col].astype('category')"
   ]
  },
  {
   "cell_type": "code",
   "execution_count": 0,
   "metadata": {
    "colab": {
     "base_uri": "https://localhost:8080/",
     "height": 238
    },
    "colab_type": "code",
    "executionInfo": {
     "elapsed": 2314,
     "status": "ok",
     "timestamp": 1568894516972,
     "user": {
      "displayName": "BA22",
      "photoUrl": "",
      "userId": "02603670721502132211"
     },
     "user_tz": -120
    },
    "id": "Ra8OIs3rZeOp",
    "outputId": "eb9d4f77-fa8f-415f-acab-e8e8de327bca"
   },
   "outputs": [
    {
     "name": "stdout",
     "output_type": "stream",
     "text": [
      "Test `date_block_num` is 34\n",
      "Validation `date_block_num` is 33\n",
      "Train `date_block_num` is < 33\n",
      "------------------------------\n",
      "X_train shape:  (6115195, 32)\n",
      "y_train shape:  (6115195,)\n",
      "------------------------------\n",
      "X_val shape:  (238172, 32)\n",
      "y_val shape:  (238172,)\n",
      "------------------------------\n",
      "X_test shape:  (214200, 32)\n",
      "y_test shape:  (214200,)\n",
      "------------------------------\n"
     ]
    }
   ],
   "source": [
    "X_train, y_train, X_val, y_val, X_test, y_test = train_val_test_split(data)"
   ]
  },
  {
   "cell_type": "code",
   "execution_count": 0,
   "metadata": {
    "colab": {},
    "colab_type": "code",
    "id": "kmXvHz-BZid4"
   },
   "outputs": [],
   "source": [
    "categorical_features_index = []\n",
    "\n",
    "for i, col in enumerate(X_train.columns):\n",
    "    if X_train.loc[:, col].dtype.name == 'category':\n",
    "        categorical_features_index.append(i)"
   ]
  },
  {
   "cell_type": "code",
   "execution_count": 0,
   "metadata": {
    "colab": {},
    "colab_type": "code",
    "id": "Zp0F-Bvn5j6f"
   },
   "outputs": [],
   "source": [
    "y_test_lgbm_hat = lgbm_model.predict(X_test)#.clip(0, 20)\n",
    "y_test_catboost_hat = catboost_model.predict(X_test)#.clip(0, 20)"
   ]
  },
  {
   "cell_type": "code",
   "execution_count": 0,
   "metadata": {
    "colab": {
     "base_uri": "https://localhost:8080/",
     "height": 238
    },
    "colab_type": "code",
    "executionInfo": {
     "elapsed": 44949,
     "status": "ok",
     "timestamp": 1568894563938,
     "user": {
      "displayName": "BA22",
      "photoUrl": "",
      "userId": "02603670721502132211"
     },
     "user_tz": -120
    },
    "id": "cT1Y1zLaClMc",
    "outputId": "7b93d99f-a38e-413b-e774-dc2c457c000d"
   },
   "outputs": [
    {
     "name": "stdout",
     "output_type": "stream",
     "text": [
      "Test `date_block_num` is 34\n",
      "Validation `date_block_num` is 33\n",
      "Train `date_block_num` is < 33\n",
      "------------------------------\n",
      "X_train shape:  (6115195, 32)\n",
      "y_train shape:  (6115195,)\n",
      "------------------------------\n",
      "X_val shape:  (238172, 32)\n",
      "y_val shape:  (238172,)\n",
      "------------------------------\n",
      "X_test shape:  (214200, 32)\n",
      "y_test shape:  (214200,)\n",
      "------------------------------\n"
     ]
    }
   ],
   "source": [
    "data = grid[base_features].reset_index(drop = True)\n",
    "data = norm(data, all_cols = True)\n",
    "X_train, y_train, X_val, y_val, X_test, y_test = train_val_test_split(data)"
   ]
  },
  {
   "cell_type": "code",
   "execution_count": 0,
   "metadata": {
    "colab": {},
    "colab_type": "code",
    "id": "Drd_GUvMCS9Q"
   },
   "outputs": [],
   "source": [
    "y_test_lr_hat = lr_model.predict(X_test)#.clip(0, 20)\n",
    "y_test_lasso_hat = lasso_model.predict(X_test)#.clip(0, 20)\n",
    "y_test_nn_hat = nn_model.predict(X_test)#.clip(0, 20)\n",
    "y_test_xgb_hat = xgb_model.predict(X_test)#.clip(0, 20)"
   ]
  },
  {
   "cell_type": "code",
   "execution_count": 0,
   "metadata": {
    "colab": {},
    "colab_type": "code",
    "id": "exrk2PuWKZvX"
   },
   "outputs": [],
   "source": [
    "X_test_level2 = np.c_[y_test_lgbm_hat, y_test_catboost_hat, \n",
    "                      y_test_lr_hat, y_test_lasso_hat, y_test_nn_hat, y_test_xgb_hat ] "
   ]
  },
  {
   "cell_type": "code",
   "execution_count": 0,
   "metadata": {
    "colab": {},
    "colab_type": "code",
    "id": "dsynx2PXtzPW"
   },
   "outputs": [],
   "source": [
    "np.savetxt(model_path + 'X_test_level2.csv', X_test_level2, delimiter = \",\")"
   ]
  },
  {
   "cell_type": "code",
   "execution_count": 0,
   "metadata": {
    "colab": {
     "base_uri": "https://localhost:8080/",
     "height": 34
    },
    "colab_type": "code",
    "executionInfo": {
     "elapsed": 660,
     "status": "ok",
     "timestamp": 1568894578989,
     "user": {
      "displayName": "BA22",
      "photoUrl": "",
      "userId": "02603670721502132211"
     },
     "user_tz": -120
    },
    "id": "1t-7afZF6Wag",
    "outputId": "0d031fbc-3d9a-4124-99e1-c40529dbb0ca"
   },
   "outputs": [
    {
     "data": {
      "text/plain": [
       "(214200, 6)"
      ]
     },
     "execution_count": 57,
     "metadata": {
      "tags": []
     },
     "output_type": "execute_result"
    }
   ],
   "source": [
    "X_test_level2.shape"
   ]
  },
  {
   "cell_type": "markdown",
   "metadata": {
    "colab_type": "text",
    "id": "76VQ9200A5jz"
   },
   "source": [
    "## Train / validation meta-features"
   ]
  },
  {
   "cell_type": "code",
   "execution_count": 0,
   "metadata": {
    "colab": {},
    "colab_type": "code",
    "id": "gEA-5krgDpvP"
   },
   "outputs": [],
   "source": [
    "data = grid[base_features].reset_index(drop = True)\n",
    "data = norm(data, all_cols = True)"
   ]
  },
  {
   "cell_type": "code",
   "execution_count": 11,
   "metadata": {
    "colab": {
     "base_uri": "https://localhost:8080/",
     "height": 34
    },
    "colab_type": "code",
    "executionInfo": {
     "elapsed": 636,
     "status": "ok",
     "timestamp": 1568966088458,
     "user": {
      "displayName": "BA22",
      "photoUrl": "",
      "userId": "02603670721502132211"
     },
     "user_tz": -120
    },
    "id": "iPzDLc33qgCS",
    "outputId": "2fb12fdf-879a-4b6c-9104-01501836db41"
   },
   "outputs": [
    {
     "data": {
      "text/plain": [
       "322"
      ]
     },
     "execution_count": 11,
     "metadata": {
      "tags": []
     },
     "output_type": "execute_result"
    }
   ],
   "source": [
    "del grid\n",
    "gc.collect()"
   ]
  },
  {
   "cell_type": "code",
   "execution_count": 180,
   "metadata": {
    "colab": {
     "base_uri": "https://localhost:8080/",
     "height": 34
    },
    "colab_type": "code",
    "executionInfo": {
     "elapsed": 1069,
     "status": "ok",
     "timestamp": 1568994130977,
     "user": {
      "displayName": "BA22",
      "photoUrl": "",
      "userId": "02603670721502132211"
     },
     "user_tz": -120
    },
    "id": "7rwRpXI96fyl",
    "outputId": "a6521adb-5565-4fe5-bc9e-cd7530184b42"
   },
   "outputs": [
    {
     "name": "stdout",
     "output_type": "stream",
     "text": [
      "(3733374, 1)\n"
     ]
    }
   ],
   "source": [
    "dates = data['date_block_num']\n",
    "\n",
    "months = [20, 21, 22, 23, 24, 25, 26, 27, 28, 29, 30, 31, 32, 33]\n",
    "y_train_level2 = data.loc[data['date_block_num'].isin(months)][['target']]\n",
    "X_train_level2 = np.zeros([y_train_level2.shape[0], 6])\n",
    "print(y_train_level2.shape)"
   ]
  },
  {
   "cell_type": "code",
   "execution_count": 0,
   "metadata": {
    "colab": {},
    "colab_type": "code",
    "id": "f9K5JAcoV_r5"
   },
   "outputs": [],
   "source": [
    "y_train_level2.to_pickle(model_path + 'y_train_level2.pkl')"
   ]
  },
  {
   "cell_type": "code",
   "execution_count": 0,
   "metadata": {
    "colab": {},
    "colab_type": "code",
    "id": "XLjhoGB--YNV"
   },
   "outputs": [],
   "source": [
    "lgbm_params = {\n",
    "  'metric': 'rmse',\n",
    "  'objective': 'mse',\n",
    "  'verbose': 0, \n",
    "  'learning_rate': 0.1,\n",
    "  'num_leaves': 31,\n",
    "  'min_data_in_leaf': 20 ,\n",
    "  'max_depth': -1,\n",
    "  'save_binary': True,\n",
    "  'bagging_fraction': 0.8,\n",
    "  'bagging_freq': 1,\n",
    "  'bagging_seed': 2**7, \n",
    "  'feature_fraction': 0.8,\n",
    "}\n",
    "\n",
    "catboost_params = {\n",
    "    'iterations': 1000,\n",
    "    'learning_rate': 0.1,\n",
    "    'max_depth': 10,\n",
    "    'od_type': 'Iter',\n",
    "    'od_wait':20,\n",
    "}\n",
    "\n",
    "xgboost_params = {\n",
    "    'max_depth': 8,\n",
    "    'n_estimators': 50,\n",
    "    'min_child_weight': 0.5, \n",
    "    'colsample_bytree': 0.9, \n",
    "    'subsample': 0.8, \n",
    "    'eta': 0.1,    \n",
    "    'seed': 1,\n",
    "}"
   ]
  },
  {
   "cell_type": "markdown",
   "metadata": {
    "colab_type": "text",
    "id": "ulhLt0LwBU7o"
   },
   "source": [
    "### Train base Models"
   ]
  },
  {
   "cell_type": "code",
   "execution_count": 19,
   "metadata": {
    "colab": {
     "base_uri": "https://localhost:8080/",
     "height": 938
    },
    "colab_type": "code",
    "executionInfo": {
     "elapsed": 24785781,
     "status": "ok",
     "timestamp": 1568991477347,
     "user": {
      "displayName": "BA22",
      "photoUrl": "",
      "userId": "02603670721502132211"
     },
     "user_tz": -120
    },
    "id": "53eBznkM-ym6",
    "outputId": "3b646d80-7666-44e2-fa47-901f3dffc55b"
   },
   "outputs": [
    {
     "name": "stdout",
     "output_type": "stream",
     "text": [
      "Start working on month: --->>  20\n",
      "WARNING:tensorflow:From /usr/local/lib/python3.6/dist-packages/tensorflow/python/keras/initializers.py:119: calling RandomUniform.__init__ (from tensorflow.python.ops.init_ops) with dtype is deprecated and will be removed in a future version.\n",
      "Instructions for updating:\n",
      "Call initializer instance with the dtype argument instead of passing it to the constructor\n",
      "[08:09:53] WARNING: /workspace/src/objective/regression_obj.cu:152: reg:linear is now deprecated in favor of reg:squarederror.\n",
      "End working on month: --->>  20\n",
      "Start working on month: --->>  21\n",
      "[08:20:49] WARNING: /workspace/src/objective/regression_obj.cu:152: reg:linear is now deprecated in favor of reg:squarederror.\n",
      "End working on month: --->>  21\n",
      "Start working on month: --->>  22\n",
      "[08:31:31] WARNING: /workspace/src/objective/regression_obj.cu:152: reg:linear is now deprecated in favor of reg:squarederror.\n",
      "End working on month: --->>  22\n",
      "Start working on month: --->>  23\n",
      "[08:45:28] WARNING: /workspace/src/objective/regression_obj.cu:152: reg:linear is now deprecated in favor of reg:squarederror.\n",
      "End working on month: --->>  23\n",
      "Start working on month: --->>  24\n",
      "[09:01:52] WARNING: /workspace/src/objective/regression_obj.cu:152: reg:linear is now deprecated in favor of reg:squarederror.\n",
      "End working on month: --->>  24\n",
      "Start working on month: --->>  25\n",
      "[09:19:21] WARNING: /workspace/src/objective/regression_obj.cu:152: reg:linear is now deprecated in favor of reg:squarederror.\n",
      "End working on month: --->>  25\n",
      "Start working on month: --->>  26\n",
      "[09:36:49] WARNING: /workspace/src/objective/regression_obj.cu:152: reg:linear is now deprecated in favor of reg:squarederror.\n",
      "End working on month: --->>  26\n",
      "Start working on month: --->>  27\n",
      "[09:54:57] WARNING: /workspace/src/objective/regression_obj.cu:152: reg:linear is now deprecated in favor of reg:squarederror.\n",
      "[09:54:57] WARNING: /workspace/src/learner.cc:686: Tree method is automatically selected to be 'approx' for faster speed. To use old behavior (exact greedy algorithm on single machine), set tree_method to 'exact'.\n",
      "End working on month: --->>  27\n",
      "Start working on month: --->>  28\n",
      "[10:21:51] WARNING: /workspace/src/objective/regression_obj.cu:152: reg:linear is now deprecated in favor of reg:squarederror.\n",
      "[10:21:51] WARNING: /workspace/src/learner.cc:686: Tree method is automatically selected to be 'approx' for faster speed. To use old behavior (exact greedy algorithm on single machine), set tree_method to 'exact'.\n",
      "End working on month: --->>  28\n",
      "Start working on month: --->>  29\n",
      "[11:00:54] WARNING: /workspace/src/objective/regression_obj.cu:152: reg:linear is now deprecated in favor of reg:squarederror.\n",
      "[11:00:54] WARNING: /workspace/src/learner.cc:686: Tree method is automatically selected to be 'approx' for faster speed. To use old behavior (exact greedy algorithm on single machine), set tree_method to 'exact'.\n",
      "End working on month: --->>  29\n",
      "Start working on month: --->>  30\n",
      "[11:42:30] WARNING: /workspace/src/objective/regression_obj.cu:152: reg:linear is now deprecated in favor of reg:squarederror.\n",
      "[11:42:30] WARNING: /workspace/src/learner.cc:686: Tree method is automatically selected to be 'approx' for faster speed. To use old behavior (exact greedy algorithm on single machine), set tree_method to 'exact'.\n",
      "End working on month: --->>  30\n",
      "Start working on month: --->>  31\n",
      "[12:32:12] WARNING: /workspace/src/objective/regression_obj.cu:152: reg:linear is now deprecated in favor of reg:squarederror.\n",
      "[12:32:12] WARNING: /workspace/src/learner.cc:686: Tree method is automatically selected to be 'approx' for faster speed. To use old behavior (exact greedy algorithm on single machine), set tree_method to 'exact'.\n",
      "End working on month: --->>  31\n",
      "Start working on month: --->>  32\n",
      "[13:23:10] WARNING: /workspace/src/objective/regression_obj.cu:152: reg:linear is now deprecated in favor of reg:squarederror.\n",
      "[13:23:10] WARNING: /workspace/src/learner.cc:686: Tree method is automatically selected to be 'approx' for faster speed. To use old behavior (exact greedy algorithm on single machine), set tree_method to 'exact'.\n",
      "End working on month: --->>  32\n",
      "Start working on month: --->>  33\n",
      "[14:17:52] WARNING: /workspace/src/objective/regression_obj.cu:152: reg:linear is now deprecated in favor of reg:squarederror.\n",
      "[14:17:52] WARNING: /workspace/src/learner.cc:686: Tree method is automatically selected to be 'approx' for faster speed. To use old behavior (exact greedy algorithm on single machine), set tree_method to 'exact'.\n",
      "End working on month: --->>  33\n",
      "it took:  24785 seconds\n"
     ]
    }
   ],
   "source": [
    "start = time.time()\n",
    "for cur_block_num in months:\n",
    "    print('Start working on month: --->> ', cur_block_num)\n",
    "\n",
    "    X_train_l1 = data.loc[dates < cur_block_num - 1].drop(cols_to_drop, axis = 1)\n",
    "    y_train_l1 = data.loc[dates < cur_block_num - 1, 'target'].values\n",
    "\n",
    "    X_val_l1 = data.loc[dates == cur_block_num - 1].drop(cols_to_drop, axis = 1)\n",
    "    y_val_l1 = data.loc[dates == cur_block_num - 1, 'target'].values\n",
    "\n",
    "    X_test_l1 = data.loc[dates ==  cur_block_num].drop(cols_to_drop, axis = 1)\n",
    "      \n",
    "    # LightGBM\n",
    "    d_train = lgb.Dataset(X_train_l1, label = y_train_l1)\n",
    "    d_valid = lgb.Dataset(X_val_l1, label = y_val_l1)\n",
    "    watchlist = [d_train, d_valid]\n",
    "    lgbm_bmodel = lgb.train(lgbm_params, \n",
    "                          d_train, \n",
    "                          2000, \n",
    "                          valid_sets = watchlist, \n",
    "                          early_stopping_rounds = 50, \n",
    "                          verbose_eval = 0,)\n",
    "    y_lgbm = lgbm_bmodel.predict(X_test_l1)#.clip(0, 20)\n",
    "    \n",
    "    # Catboost\n",
    "    catboost_bmodel = CatBoostRegressor(**catboost_params)\n",
    "    catboost_bmodel.fit(\n",
    "        X_train_l1, \n",
    "        y_train_l1, \n",
    "        eval_set = (X_val_l1, y_val_l1), \n",
    "        verbose = False, )\n",
    "    y_catboost = catboost_bmodel.predict(X_test_l1)#..clip(0, 20)\n",
    "\n",
    "    \n",
    "    # Linear Regression\n",
    "    lr_bmodel = LinearRegression(normalize = True)\n",
    "    lr_bmodel.fit(X_train_l1.values, y_train_l1)\n",
    "    y_lr = lr_bmodel.predict(X_test_l1.values)\n",
    "\n",
    "    # Lasso Regression\n",
    "    lasso_bmodel = linear_model.Lasso(alpha = 0.01)\n",
    "    lasso_bmodel.fit(X_train_l1.values, y_train_l1)\n",
    "    y_lasso = lasso_bmodel.predict(X_test_l1.values)\n",
    "\n",
    "    # Neural Network\n",
    "    nn_bmodel = build_nn_model(input_shape = [len(X_train_l1.keys())])\n",
    "    early_stop = keras.callbacks.EarlyStopping(monitor = 'val_loss', patience = 10)\n",
    "    history = nn_bmodel.fit(X_train_l1, y_train_l1, epochs = 1024, batch_size = 1024 * 2,\n",
    "                    validation_data=(X_val_l1, y_val_l1), callbacks = [early_stop], verbose = 0)\n",
    "    y_nn = nn_bmodel.predict(X_test_l1.values)\n",
    "    \n",
    "    # Xgboost\n",
    "    xgb_bmodel = XGBRegressor(**xgboost_params)\n",
    "    xgb_bmodel.fit(\n",
    "        X_train_l1, \n",
    "        y_train_l1, \n",
    "        eval_metric = \"rmse\", \n",
    "        eval_set = [(X_train_l1, y_train_l1), (X_val_l1, y_val_l1)], \n",
    "        verbose = False, \n",
    "        early_stopping_rounds = 10)\n",
    "    y_xgboost = xgb_bmodel.predict(X_test_l1)\n",
    "\n",
    "    X_train_level2[dates_train_level2 == cur_block_num] = np.c_[y_lgbm, y_catboost, \n",
    "                                                                y_lr, y_lasso, y_nn, y_xgboost ]\n",
    "    print('End working on month: --->> ', cur_block_num)\n",
    "\n",
    "print('it took: ', round(time.time() - start), 'seconds')"
   ]
  },
  {
   "cell_type": "code",
   "execution_count": 0,
   "metadata": {
    "colab": {},
    "colab_type": "code",
    "id": "SmGzK2CuBOru"
   },
   "outputs": [],
   "source": [
    "np.savetxt(model_path + 'X_train_level2.csv', X_train_level2, delimiter = \",\")"
   ]
  },
  {
   "cell_type": "markdown",
   "metadata": {
    "colab_type": "text",
    "id": "wj7-f4ITBC5_"
   },
   "source": [
    "## Stacking"
   ]
  },
  {
   "cell_type": "markdown",
   "metadata": {
    "colab_type": "text",
    "id": "YQrsIN2B2tfj"
   },
   "source": [
    "### Load data if needed"
   ]
  },
  {
   "cell_type": "code",
   "execution_count": 0,
   "metadata": {
    "colab": {},
    "colab_type": "code",
    "id": "YOWIiRqKVrf8"
   },
   "outputs": [],
   "source": [
    "cols = ['lgbm', 'catboost', 'lr', 'lasso','network', 'xgboost']"
   ]
  },
  {
   "cell_type": "code",
   "execution_count": 0,
   "metadata": {
    "colab": {},
    "colab_type": "code",
    "id": "IQ67qrlgMRMK"
   },
   "outputs": [],
   "source": [
    "X_test_level2 = pd.read_csv(model_path + 'X_test_level2.csv', header = None)\n",
    "X_test_level2.columns = cols"
   ]
  },
  {
   "cell_type": "code",
   "execution_count": 0,
   "metadata": {
    "colab": {},
    "colab_type": "code",
    "id": "NT-lA5D5WNx3"
   },
   "outputs": [],
   "source": [
    "y_train_level2 = pd.read_pickle(model_path + 'y_train_level2.pkl')\n",
    "y_train_level2 = y_train_level2.reset_index(drop = True)"
   ]
  },
  {
   "cell_type": "code",
   "execution_count": 0,
   "metadata": {
    "colab": {},
    "colab_type": "code",
    "id": "w9iZbcxt24nB"
   },
   "outputs": [],
   "source": [
    "X_train_level2 = pd.read_csv(model_path + 'X_train_level2.csv', header = None, )\n",
    "X_train_level2.columns = cols\n",
    "dates_train_level2 = pd.read_pickle(model_path + 'dates_train_level2.pkl')\n",
    "dates_train_level2 = dates_train_level2.reset_index(drop = True)"
   ]
  },
  {
   "cell_type": "code",
   "execution_count": 0,
   "metadata": {
    "colab": {},
    "colab_type": "code",
    "id": "6ac_JmAwN6os"
   },
   "outputs": [],
   "source": [
    "subcols = ['lgbm',\t'catboost', 'xgboost']"
   ]
  },
  {
   "cell_type": "code",
   "execution_count": 0,
   "metadata": {
    "colab": {},
    "colab_type": "code",
    "id": "Hs3y2VQTA3KY"
   },
   "outputs": [],
   "source": [
    "X_train_level2 = X_train_level2[subcols]\n",
    "X_test_level2 = X_test_level2[subcols]"
   ]
  },
  {
   "cell_type": "markdown",
   "metadata": {
    "colab_type": "text",
    "id": "2ZTR4b8Z2wWS"
   },
   "source": [
    "### Build meta model"
   ]
  },
  {
   "cell_type": "markdown",
   "metadata": {
    "colab_type": "text",
    "id": "Md1es859hJnD"
   },
   "source": [
    "I will try Linear Regression, lightGBM and Averaging as meta model. I will train them on the meta training features and validate them using the meta validation features. Then compare the error on the validation set and pick the best."
   ]
  },
  {
   "cell_type": "code",
   "execution_count": 0,
   "metadata": {
    "colab": {},
    "colab_type": "code",
    "id": "J2UZLN_GKNGf"
   },
   "outputs": [],
   "source": [
    "last_month = dates_train_level2.max()\n",
    "X_train_meta = X_train_level2[dates_train_level2 < last_month]\n",
    "y_train_meta = y_train_level2[dates_train_level2 < last_month]\n",
    "\n",
    "X_val_meta = X_train_level2[dates_train_level2 == last_month]\n",
    "y_val_meta = y_train_level2[dates_train_level2 == last_month]"
   ]
  },
  {
   "cell_type": "markdown",
   "metadata": {
    "colab_type": "text",
    "id": "_rfKDezHGqXy"
   },
   "source": [
    "#### LR"
   ]
  },
  {
   "cell_type": "code",
   "execution_count": 301,
   "metadata": {
    "colab": {
     "base_uri": "https://localhost:8080/",
     "height": 34
    },
    "colab_type": "code",
    "executionInfo": {
     "elapsed": 747,
     "status": "ok",
     "timestamp": 1568996974895,
     "user": {
      "displayName": "BA22",
      "photoUrl": "",
      "userId": "02603670721502132211"
     },
     "user_tz": -120
    },
    "id": "3aNrkIObAwi4",
    "outputId": "138f5590-0146-4dad-ffc9-9db16d96efd7"
   },
   "outputs": [
    {
     "data": {
      "text/plain": [
       "LinearRegression(copy_X=True, fit_intercept=True, n_jobs=None, normalize=True)"
      ]
     },
     "execution_count": 301,
     "metadata": {
      "tags": []
     },
     "output_type": "execute_result"
    }
   ],
   "source": [
    "lr_meta_model = LinearRegression(normalize=True)\n",
    "lr_meta_model.fit(X_train_meta, y_train_meta)"
   ]
  },
  {
   "cell_type": "code",
   "execution_count": 302,
   "metadata": {
    "colab": {
     "base_uri": "https://localhost:8080/",
     "height": 51
    },
    "colab_type": "code",
    "executionInfo": {
     "elapsed": 517,
     "status": "ok",
     "timestamp": 1568996975098,
     "user": {
      "displayName": "BA22",
      "photoUrl": "",
      "userId": "02603670721502132211"
     },
     "user_tz": -120
    },
    "id": "06rZwJaKe3uT",
    "outputId": "b36c0487-5e10-4124-d817-0373446f1a30"
   },
   "outputs": [
    {
     "name": "stdout",
     "output_type": "stream",
     "text": [
      "rmse on meta train:  0.9098333097134329\n",
      "rmse on meta validation:  0.9054708888343179\n"
     ]
    }
   ],
   "source": [
    "print('rmse on meta train: ', rmse(lr_meta_model.predict(X_train_meta).clip(0, 20), y_train_meta))\n",
    "print('rmse on meta validation: ', rmse(lr_meta_model.predict(X_val_meta).clip(0, 20), y_val_meta))"
   ]
  },
  {
   "cell_type": "markdown",
   "metadata": {
    "colab_type": "text",
    "id": "xGoX66XaGs_d"
   },
   "source": [
    "#### Light GBM"
   ]
  },
  {
   "cell_type": "code",
   "execution_count": 304,
   "metadata": {
    "colab": {
     "base_uri": "https://localhost:8080/",
     "height": 1000
    },
    "colab_type": "code",
    "executionInfo": {
     "elapsed": 32468,
     "status": "ok",
     "timestamp": 1568997011252,
     "user": {
      "displayName": "BA22",
      "photoUrl": "",
      "userId": "02603670721502132211"
     },
     "user_tz": -120
    },
    "id": "rtcEfgUYLuaw",
    "outputId": "d5b560e1-41d5-4fcd-e568-aef21b3f862e"
   },
   "outputs": [
    {
     "name": "stdout",
     "output_type": "stream",
     "text": [
      "[1]\ttraining's rmse: 1.19982\tvalid_1's rmse: 1.12482\n",
      "Training until validation scores don't improve for 150 rounds.\n",
      "[2]\ttraining's rmse: 1.18552\tvalid_1's rmse: 1.11348\n",
      "[3]\ttraining's rmse: 1.1719\tvalid_1's rmse: 1.10273\n",
      "[4]\ttraining's rmse: 1.15894\tvalid_1's rmse: 1.09261\n",
      "[5]\ttraining's rmse: 1.14661\tvalid_1's rmse: 1.08297\n",
      "[6]\ttraining's rmse: 1.13487\tvalid_1's rmse: 1.07386\n",
      "[7]\ttraining's rmse: 1.12371\tvalid_1's rmse: 1.06521\n",
      "[8]\ttraining's rmse: 1.1131\tvalid_1's rmse: 1.05705\n",
      "[9]\ttraining's rmse: 1.10303\tvalid_1's rmse: 1.04929\n",
      "[10]\ttraining's rmse: 1.09347\tvalid_1's rmse: 1.04202\n",
      "[11]\ttraining's rmse: 1.08438\tvalid_1's rmse: 1.03512\n",
      "[12]\ttraining's rmse: 1.07576\tvalid_1's rmse: 1.02859\n",
      "[13]\ttraining's rmse: 1.06757\tvalid_1's rmse: 1.02242\n",
      "[14]\ttraining's rmse: 1.05982\tvalid_1's rmse: 1.01658\n",
      "[15]\ttraining's rmse: 1.05246\tvalid_1's rmse: 1.01112\n",
      "[16]\ttraining's rmse: 1.04549\tvalid_1's rmse: 1.00596\n",
      "[17]\ttraining's rmse: 1.0389\tvalid_1's rmse: 1.00111\n",
      "[18]\ttraining's rmse: 1.03264\tvalid_1's rmse: 0.996512\n",
      "[19]\ttraining's rmse: 1.02671\tvalid_1's rmse: 0.99215\n",
      "[20]\ttraining's rmse: 1.0211\tvalid_1's rmse: 0.988091\n",
      "[21]\ttraining's rmse: 1.0158\tvalid_1's rmse: 0.984279\n",
      "[22]\ttraining's rmse: 1.01077\tvalid_1's rmse: 0.980644\n",
      "[23]\ttraining's rmse: 1.006\tvalid_1's rmse: 0.97726\n",
      "[24]\ttraining's rmse: 1.00151\tvalid_1's rmse: 0.974057\n",
      "[25]\ttraining's rmse: 0.997255\tvalid_1's rmse: 0.971062\n",
      "[26]\ttraining's rmse: 0.993227\tvalid_1's rmse: 0.968283\n",
      "[27]\ttraining's rmse: 0.989421\tvalid_1's rmse: 0.965666\n",
      "[28]\ttraining's rmse: 0.985805\tvalid_1's rmse: 0.963172\n",
      "[29]\ttraining's rmse: 0.982392\tvalid_1's rmse: 0.960888\n",
      "[30]\ttraining's rmse: 0.979179\tvalid_1's rmse: 0.958691\n",
      "[31]\ttraining's rmse: 0.976137\tvalid_1's rmse: 0.956651\n",
      "[32]\ttraining's rmse: 0.973254\tvalid_1's rmse: 0.95476\n",
      "[33]\ttraining's rmse: 0.97052\tvalid_1's rmse: 0.953002\n",
      "[34]\ttraining's rmse: 0.967959\tvalid_1's rmse: 0.951296\n",
      "[35]\ttraining's rmse: 0.965531\tvalid_1's rmse: 0.949736\n",
      "[36]\ttraining's rmse: 0.963248\tvalid_1's rmse: 0.948257\n",
      "[37]\ttraining's rmse: 0.961068\tvalid_1's rmse: 0.946936\n",
      "[38]\ttraining's rmse: 0.959016\tvalid_1's rmse: 0.945662\n",
      "[39]\ttraining's rmse: 0.957077\tvalid_1's rmse: 0.944438\n",
      "[40]\ttraining's rmse: 0.955258\tvalid_1's rmse: 0.943298\n",
      "[41]\ttraining's rmse: 0.953528\tvalid_1's rmse: 0.94227\n",
      "[42]\ttraining's rmse: 0.9519\tvalid_1's rmse: 0.941277\n",
      "[43]\ttraining's rmse: 0.950368\tvalid_1's rmse: 0.940378\n",
      "[44]\ttraining's rmse: 0.948923\tvalid_1's rmse: 0.939528\n",
      "[45]\ttraining's rmse: 0.947539\tvalid_1's rmse: 0.93876\n",
      "[46]\ttraining's rmse: 0.946241\tvalid_1's rmse: 0.938046\n",
      "[47]\ttraining's rmse: 0.945025\tvalid_1's rmse: 0.937339\n",
      "[48]\ttraining's rmse: 0.943864\tvalid_1's rmse: 0.936711\n",
      "[49]\ttraining's rmse: 0.942777\tvalid_1's rmse: 0.936097\n",
      "[50]\ttraining's rmse: 0.941731\tvalid_1's rmse: 0.935578\n",
      "[51]\ttraining's rmse: 0.940758\tvalid_1's rmse: 0.935082\n",
      "[52]\ttraining's rmse: 0.939834\tvalid_1's rmse: 0.9346\n",
      "[53]\ttraining's rmse: 0.938955\tvalid_1's rmse: 0.93419\n",
      "[54]\ttraining's rmse: 0.938129\tvalid_1's rmse: 0.933808\n",
      "[55]\ttraining's rmse: 0.937358\tvalid_1's rmse: 0.933431\n",
      "[56]\ttraining's rmse: 0.936633\tvalid_1's rmse: 0.933098\n",
      "[57]\ttraining's rmse: 0.935931\tvalid_1's rmse: 0.93278\n",
      "[58]\ttraining's rmse: 0.935271\tvalid_1's rmse: 0.932498\n",
      "[59]\ttraining's rmse: 0.934657\tvalid_1's rmse: 0.932218\n",
      "[60]\ttraining's rmse: 0.934072\tvalid_1's rmse: 0.931981\n",
      "[61]\ttraining's rmse: 0.933518\tvalid_1's rmse: 0.931807\n",
      "[62]\ttraining's rmse: 0.932985\tvalid_1's rmse: 0.931613\n",
      "[63]\ttraining's rmse: 0.932485\tvalid_1's rmse: 0.931438\n",
      "[64]\ttraining's rmse: 0.932015\tvalid_1's rmse: 0.931254\n",
      "[65]\ttraining's rmse: 0.931571\tvalid_1's rmse: 0.93113\n",
      "[66]\ttraining's rmse: 0.931161\tvalid_1's rmse: 0.930975\n",
      "[67]\ttraining's rmse: 0.930756\tvalid_1's rmse: 0.930852\n",
      "[68]\ttraining's rmse: 0.930372\tvalid_1's rmse: 0.930769\n",
      "[69]\ttraining's rmse: 0.929994\tvalid_1's rmse: 0.930663\n",
      "[70]\ttraining's rmse: 0.929651\tvalid_1's rmse: 0.930573\n",
      "[71]\ttraining's rmse: 0.929323\tvalid_1's rmse: 0.93047\n",
      "[72]\ttraining's rmse: 0.92902\tvalid_1's rmse: 0.930418\n",
      "[73]\ttraining's rmse: 0.928724\tvalid_1's rmse: 0.930359\n",
      "[74]\ttraining's rmse: 0.928452\tvalid_1's rmse: 0.930287\n",
      "[75]\ttraining's rmse: 0.928175\tvalid_1's rmse: 0.930236\n",
      "[76]\ttraining's rmse: 0.927924\tvalid_1's rmse: 0.9302\n",
      "[77]\ttraining's rmse: 0.927679\tvalid_1's rmse: 0.930177\n",
      "[78]\ttraining's rmse: 0.927455\tvalid_1's rmse: 0.930174\n",
      "[79]\ttraining's rmse: 0.927228\tvalid_1's rmse: 0.930163\n",
      "[80]\ttraining's rmse: 0.927023\tvalid_1's rmse: 0.93016\n",
      "[81]\ttraining's rmse: 0.926828\tvalid_1's rmse: 0.930155\n",
      "[82]\ttraining's rmse: 0.926634\tvalid_1's rmse: 0.930158\n",
      "[83]\ttraining's rmse: 0.926466\tvalid_1's rmse: 0.93015\n",
      "[84]\ttraining's rmse: 0.926304\tvalid_1's rmse: 0.930148\n",
      "[85]\ttraining's rmse: 0.926133\tvalid_1's rmse: 0.930168\n",
      "[86]\ttraining's rmse: 0.925985\tvalid_1's rmse: 0.930178\n",
      "[87]\ttraining's rmse: 0.925848\tvalid_1's rmse: 0.930206\n",
      "[88]\ttraining's rmse: 0.925702\tvalid_1's rmse: 0.930226\n",
      "[89]\ttraining's rmse: 0.925575\tvalid_1's rmse: 0.930242\n",
      "[90]\ttraining's rmse: 0.925456\tvalid_1's rmse: 0.93024\n",
      "[91]\ttraining's rmse: 0.925329\tvalid_1's rmse: 0.930267\n",
      "[92]\ttraining's rmse: 0.925208\tvalid_1's rmse: 0.930282\n",
      "[93]\ttraining's rmse: 0.925104\tvalid_1's rmse: 0.930289\n",
      "[94]\ttraining's rmse: 0.924979\tvalid_1's rmse: 0.930306\n",
      "[95]\ttraining's rmse: 0.924869\tvalid_1's rmse: 0.930324\n",
      "[96]\ttraining's rmse: 0.924754\tvalid_1's rmse: 0.930357\n",
      "[97]\ttraining's rmse: 0.924647\tvalid_1's rmse: 0.930366\n",
      "[98]\ttraining's rmse: 0.924535\tvalid_1's rmse: 0.930382\n",
      "[99]\ttraining's rmse: 0.924448\tvalid_1's rmse: 0.930427\n",
      "[100]\ttraining's rmse: 0.924358\tvalid_1's rmse: 0.930463\n",
      "[101]\ttraining's rmse: 0.924274\tvalid_1's rmse: 0.93051\n",
      "[102]\ttraining's rmse: 0.924202\tvalid_1's rmse: 0.930559\n",
      "[103]\ttraining's rmse: 0.924119\tvalid_1's rmse: 0.930569\n",
      "[104]\ttraining's rmse: 0.924038\tvalid_1's rmse: 0.930575\n",
      "[105]\ttraining's rmse: 0.923962\tvalid_1's rmse: 0.93061\n",
      "[106]\ttraining's rmse: 0.923886\tvalid_1's rmse: 0.930646\n",
      "[107]\ttraining's rmse: 0.923816\tvalid_1's rmse: 0.930673\n",
      "[108]\ttraining's rmse: 0.923747\tvalid_1's rmse: 0.930681\n",
      "[109]\ttraining's rmse: 0.923687\tvalid_1's rmse: 0.930691\n",
      "[110]\ttraining's rmse: 0.923621\tvalid_1's rmse: 0.930715\n",
      "[111]\ttraining's rmse: 0.923563\tvalid_1's rmse: 0.930743\n",
      "[112]\ttraining's rmse: 0.923511\tvalid_1's rmse: 0.930754\n",
      "[113]\ttraining's rmse: 0.923454\tvalid_1's rmse: 0.930781\n",
      "[114]\ttraining's rmse: 0.923408\tvalid_1's rmse: 0.930798\n",
      "[115]\ttraining's rmse: 0.923355\tvalid_1's rmse: 0.930821\n",
      "[116]\ttraining's rmse: 0.923309\tvalid_1's rmse: 0.930875\n",
      "[117]\ttraining's rmse: 0.923261\tvalid_1's rmse: 0.930887\n",
      "[118]\ttraining's rmse: 0.923198\tvalid_1's rmse: 0.930903\n",
      "[119]\ttraining's rmse: 0.92316\tvalid_1's rmse: 0.930929\n",
      "[120]\ttraining's rmse: 0.923127\tvalid_1's rmse: 0.930931\n",
      "[121]\ttraining's rmse: 0.923085\tvalid_1's rmse: 0.930958\n",
      "[122]\ttraining's rmse: 0.92303\tvalid_1's rmse: 0.930982\n",
      "[123]\ttraining's rmse: 0.922983\tvalid_1's rmse: 0.931007\n",
      "[124]\ttraining's rmse: 0.922948\tvalid_1's rmse: 0.931024\n",
      "[125]\ttraining's rmse: 0.922897\tvalid_1's rmse: 0.931043\n",
      "[126]\ttraining's rmse: 0.92286\tvalid_1's rmse: 0.931063\n",
      "[127]\ttraining's rmse: 0.922812\tvalid_1's rmse: 0.931077\n",
      "[128]\ttraining's rmse: 0.922763\tvalid_1's rmse: 0.931086\n",
      "[129]\ttraining's rmse: 0.922726\tvalid_1's rmse: 0.931101\n",
      "[130]\ttraining's rmse: 0.92268\tvalid_1's rmse: 0.931108\n",
      "[131]\ttraining's rmse: 0.922646\tvalid_1's rmse: 0.931123\n",
      "[132]\ttraining's rmse: 0.922618\tvalid_1's rmse: 0.931137\n",
      "[133]\ttraining's rmse: 0.922586\tvalid_1's rmse: 0.931186\n",
      "[134]\ttraining's rmse: 0.922561\tvalid_1's rmse: 0.931202\n",
      "[135]\ttraining's rmse: 0.922526\tvalid_1's rmse: 0.931211\n",
      "[136]\ttraining's rmse: 0.922485\tvalid_1's rmse: 0.931216\n",
      "[137]\ttraining's rmse: 0.922447\tvalid_1's rmse: 0.93123\n",
      "[138]\ttraining's rmse: 0.922414\tvalid_1's rmse: 0.931269\n",
      "[139]\ttraining's rmse: 0.922384\tvalid_1's rmse: 0.931316\n",
      "[140]\ttraining's rmse: 0.922354\tvalid_1's rmse: 0.931349\n",
      "[141]\ttraining's rmse: 0.92232\tvalid_1's rmse: 0.931363\n",
      "[142]\ttraining's rmse: 0.922299\tvalid_1's rmse: 0.931368\n",
      "[143]\ttraining's rmse: 0.922275\tvalid_1's rmse: 0.931374\n",
      "[144]\ttraining's rmse: 0.922254\tvalid_1's rmse: 0.931399\n",
      "[145]\ttraining's rmse: 0.922227\tvalid_1's rmse: 0.931419\n",
      "[146]\ttraining's rmse: 0.92219\tvalid_1's rmse: 0.931432\n",
      "[147]\ttraining's rmse: 0.922163\tvalid_1's rmse: 0.931444\n",
      "[148]\ttraining's rmse: 0.922123\tvalid_1's rmse: 0.931463\n",
      "[149]\ttraining's rmse: 0.922088\tvalid_1's rmse: 0.931476\n",
      "[150]\ttraining's rmse: 0.922065\tvalid_1's rmse: 0.931494\n",
      "[151]\ttraining's rmse: 0.922032\tvalid_1's rmse: 0.9315\n",
      "[152]\ttraining's rmse: 0.921995\tvalid_1's rmse: 0.93153\n",
      "[153]\ttraining's rmse: 0.92198\tvalid_1's rmse: 0.93156\n",
      "[154]\ttraining's rmse: 0.921947\tvalid_1's rmse: 0.931564\n",
      "[155]\ttraining's rmse: 0.921913\tvalid_1's rmse: 0.931584\n",
      "[156]\ttraining's rmse: 0.921896\tvalid_1's rmse: 0.931615\n",
      "[157]\ttraining's rmse: 0.921866\tvalid_1's rmse: 0.931626\n",
      "[158]\ttraining's rmse: 0.921852\tvalid_1's rmse: 0.931657\n",
      "[159]\ttraining's rmse: 0.92183\tvalid_1's rmse: 0.931664\n",
      "[160]\ttraining's rmse: 0.921801\tvalid_1's rmse: 0.93166\n",
      "[161]\ttraining's rmse: 0.921785\tvalid_1's rmse: 0.931684\n",
      "[162]\ttraining's rmse: 0.921752\tvalid_1's rmse: 0.931692\n",
      "[163]\ttraining's rmse: 0.921739\tvalid_1's rmse: 0.931722\n",
      "[164]\ttraining's rmse: 0.921728\tvalid_1's rmse: 0.931728\n",
      "[165]\ttraining's rmse: 0.921715\tvalid_1's rmse: 0.931754\n",
      "[166]\ttraining's rmse: 0.921691\tvalid_1's rmse: 0.931761\n",
      "[167]\ttraining's rmse: 0.921664\tvalid_1's rmse: 0.931765\n",
      "[168]\ttraining's rmse: 0.921643\tvalid_1's rmse: 0.931806\n",
      "[169]\ttraining's rmse: 0.921632\tvalid_1's rmse: 0.931825\n",
      "[170]\ttraining's rmse: 0.921603\tvalid_1's rmse: 0.931835\n",
      "[171]\ttraining's rmse: 0.921582\tvalid_1's rmse: 0.931837\n",
      "[172]\ttraining's rmse: 0.92157\tvalid_1's rmse: 0.931861\n",
      "[173]\ttraining's rmse: 0.921546\tvalid_1's rmse: 0.931867\n",
      "[174]\ttraining's rmse: 0.921526\tvalid_1's rmse: 0.931873\n",
      "[175]\ttraining's rmse: 0.921502\tvalid_1's rmse: 0.931869\n",
      "[176]\ttraining's rmse: 0.921493\tvalid_1's rmse: 0.931895\n",
      "[177]\ttraining's rmse: 0.921483\tvalid_1's rmse: 0.931919\n",
      "[178]\ttraining's rmse: 0.921461\tvalid_1's rmse: 0.931915\n",
      "[179]\ttraining's rmse: 0.921453\tvalid_1's rmse: 0.93194\n",
      "[180]\ttraining's rmse: 0.921426\tvalid_1's rmse: 0.931958\n",
      "[181]\ttraining's rmse: 0.921412\tvalid_1's rmse: 0.931964\n",
      "[182]\ttraining's rmse: 0.921404\tvalid_1's rmse: 0.931989\n",
      "[183]\ttraining's rmse: 0.921391\tvalid_1's rmse: 0.931991\n",
      "[184]\ttraining's rmse: 0.921381\tvalid_1's rmse: 0.931997\n",
      "[185]\ttraining's rmse: 0.921372\tvalid_1's rmse: 0.931997\n",
      "[186]\ttraining's rmse: 0.921346\tvalid_1's rmse: 0.932018\n",
      "[187]\ttraining's rmse: 0.921332\tvalid_1's rmse: 0.93202\n",
      "[188]\ttraining's rmse: 0.921327\tvalid_1's rmse: 0.932019\n",
      "[189]\ttraining's rmse: 0.921319\tvalid_1's rmse: 0.932044\n",
      "[190]\ttraining's rmse: 0.921306\tvalid_1's rmse: 0.932045\n",
      "[191]\ttraining's rmse: 0.9213\tvalid_1's rmse: 0.932068\n",
      "[192]\ttraining's rmse: 0.921275\tvalid_1's rmse: 0.932085\n",
      "[193]\ttraining's rmse: 0.921271\tvalid_1's rmse: 0.932084\n",
      "[194]\ttraining's rmse: 0.921261\tvalid_1's rmse: 0.932083\n",
      "[195]\ttraining's rmse: 0.921236\tvalid_1's rmse: 0.932095\n",
      "[196]\ttraining's rmse: 0.92123\tvalid_1's rmse: 0.932118\n",
      "[197]\ttraining's rmse: 0.921219\tvalid_1's rmse: 0.932121\n",
      "[198]\ttraining's rmse: 0.921209\tvalid_1's rmse: 0.932125\n",
      "[199]\ttraining's rmse: 0.921199\tvalid_1's rmse: 0.932152\n",
      "[200]\ttraining's rmse: 0.921192\tvalid_1's rmse: 0.932174\n",
      "[201]\ttraining's rmse: 0.921177\tvalid_1's rmse: 0.932182\n",
      "[202]\ttraining's rmse: 0.92117\tvalid_1's rmse: 0.932182\n",
      "[203]\ttraining's rmse: 0.921164\tvalid_1's rmse: 0.932204\n",
      "[204]\ttraining's rmse: 0.921151\tvalid_1's rmse: 0.932206\n",
      "[205]\ttraining's rmse: 0.921144\tvalid_1's rmse: 0.932241\n",
      "[206]\ttraining's rmse: 0.921136\tvalid_1's rmse: 0.932242\n",
      "[207]\ttraining's rmse: 0.921131\tvalid_1's rmse: 0.932277\n",
      "[208]\ttraining's rmse: 0.921113\tvalid_1's rmse: 0.932277\n",
      "[209]\ttraining's rmse: 0.921101\tvalid_1's rmse: 0.932303\n",
      "[210]\ttraining's rmse: 0.921096\tvalid_1's rmse: 0.932327\n",
      "[211]\ttraining's rmse: 0.921077\tvalid_1's rmse: 0.932327\n",
      "[212]\ttraining's rmse: 0.921072\tvalid_1's rmse: 0.932362\n",
      "[213]\ttraining's rmse: 0.921066\tvalid_1's rmse: 0.932393\n",
      "[214]\ttraining's rmse: 0.921056\tvalid_1's rmse: 0.932392\n",
      "[215]\ttraining's rmse: 0.921038\tvalid_1's rmse: 0.932392\n",
      "[216]\ttraining's rmse: 0.921033\tvalid_1's rmse: 0.932427\n",
      "[217]\ttraining's rmse: 0.921019\tvalid_1's rmse: 0.932427\n",
      "[218]\ttraining's rmse: 0.921012\tvalid_1's rmse: 0.932428\n",
      "[219]\ttraining's rmse: 0.921003\tvalid_1's rmse: 0.932452\n",
      "[220]\ttraining's rmse: 0.920997\tvalid_1's rmse: 0.932482\n",
      "[221]\ttraining's rmse: 0.92098\tvalid_1's rmse: 0.93248\n",
      "[222]\ttraining's rmse: 0.920976\tvalid_1's rmse: 0.932506\n",
      "[223]\ttraining's rmse: 0.920966\tvalid_1's rmse: 0.932504\n",
      "[224]\ttraining's rmse: 0.920962\tvalid_1's rmse: 0.932524\n",
      "[225]\ttraining's rmse: 0.920951\tvalid_1's rmse: 0.93253\n",
      "[226]\ttraining's rmse: 0.920921\tvalid_1's rmse: 0.932533\n",
      "[227]\ttraining's rmse: 0.920916\tvalid_1's rmse: 0.932549\n",
      "[228]\ttraining's rmse: 0.920912\tvalid_1's rmse: 0.932565\n",
      "[229]\ttraining's rmse: 0.920898\tvalid_1's rmse: 0.932565\n",
      "[230]\ttraining's rmse: 0.920893\tvalid_1's rmse: 0.932585\n",
      "[231]\ttraining's rmse: 0.920889\tvalid_1's rmse: 0.932604\n",
      "[232]\ttraining's rmse: 0.920861\tvalid_1's rmse: 0.932607\n",
      "[233]\ttraining's rmse: 0.920857\tvalid_1's rmse: 0.932621\n",
      "[234]\ttraining's rmse: 0.920839\tvalid_1's rmse: 0.932622\n",
      "Early stopping, best iteration is:\n",
      "[84]\ttraining's rmse: 0.926304\tvalid_1's rmse: 0.930148\n",
      "it took:  32 seconds\n"
     ]
    },
    {
     "data": {
      "text/plain": [
       "<matplotlib.axes._subplots.AxesSubplot at 0x7fdf3bd95358>"
      ]
     },
     "execution_count": 304,
     "metadata": {
      "tags": []
     },
     "output_type": "execute_result"
    },
    {
     "data": {
      "image/png": "[encoded data removed]",
      "text/plain": [
       "<Figure size 576x432 with 1 Axes>"
      ]
     },
     "metadata": {
      "tags": []
     },
     "output_type": "display_data"
    }
   ],
   "source": [
    "start = time.time()\n",
    "n_estimators = 1000\n",
    "params = {\n",
    "    'max_depth': -1,\n",
    "    'metric': 'rmse',\n",
    "    'nthread': 1, \n",
    "    'learning_rate': 0.03, \n",
    "    'objective': 'mse',\n",
    "    'verbose': 1,\n",
    "}\n",
    "d_train = lgb.Dataset(X_train_meta, y_train_meta)\n",
    "d_valid = lgb.Dataset(X_val_meta, y_val_meta)\n",
    "watchlist = [d_train, d_valid]\n",
    "evals_result = {}\n",
    "lgbm_meta_model = lgb.train(params, \n",
    "                      d_train, \n",
    "                      n_estimators,\n",
    "                      valid_sets = watchlist, \n",
    "                      evals_result = evals_result, \n",
    "                      early_stopping_rounds = 150,\n",
    "                      verbose_eval = 1,\n",
    "                    )\n",
    "print('it took: ', round(time.time() - start), 'seconds')\n",
    "lgb.plot_metric(evals_result)"
   ]
  },
  {
   "cell_type": "code",
   "execution_count": 305,
   "metadata": {
    "colab": {
     "base_uri": "https://localhost:8080/",
     "height": 51
    },
    "colab_type": "code",
    "executionInfo": {
     "elapsed": 41415,
     "status": "ok",
     "timestamp": 1568997022989,
     "user": {
      "displayName": "BA22",
      "photoUrl": "",
      "userId": "02603670721502132211"
     },
     "user_tz": -120
    },
    "id": "pqK-FjojflVM",
    "outputId": "3c27b3e9-b182-4081-eeea-5d2b9aeaa877"
   },
   "outputs": [
    {
     "name": "stdout",
     "output_type": "stream",
     "text": [
      "rmse on meta train:  0.9263038449757224\n",
      "rmse on meta validation:  0.9301483887918832\n"
     ]
    }
   ],
   "source": [
    "print('rmse on meta train: ', rmse(lgbm_meta_model.predict(X_train_meta).clip(0, 20), y_train_meta))\n",
    "print('rmse on meta validation: ', rmse(lgbm_meta_model.predict(X_val_meta).clip(0, 20), y_val_meta))"
   ]
  },
  {
   "cell_type": "markdown",
   "metadata": {
    "colab_type": "text",
    "id": "u62Q93JeqYne"
   },
   "source": [
    "### Averaging"
   ]
  },
  {
   "cell_type": "code",
   "execution_count": 0,
   "metadata": {
    "colab": {},
    "colab_type": "code",
    "id": "dJxu41jnf2Jd"
   },
   "outputs": [],
   "source": [
    "train_pred = X_train_meta.mean(axis = 1).clip(0, 20)\n",
    "val_pred = X_val_meta.mean(axis = 1).clip(0, 20)\n",
    "test_preds =  X_test_level2.mean(axis = 1).clip(0, 20)"
   ]
  },
  {
   "cell_type": "code",
   "execution_count": 308,
   "metadata": {
    "colab": {
     "base_uri": "https://localhost:8080/",
     "height": 51
    },
    "colab_type": "code",
    "executionInfo": {
     "elapsed": 40718,
     "status": "ok",
     "timestamp": 1568997024497,
     "user": {
      "displayName": "BA22",
      "photoUrl": "",
      "userId": "02603670721502132211"
     },
     "user_tz": -120
    },
    "id": "pZBJwQGTqdjr",
    "outputId": "35e16cce-ad52-4591-ced2-e2c0269adda0"
   },
   "outputs": [
    {
     "name": "stdout",
     "output_type": "stream",
     "text": [
      "rmse on meta train:  0.9104895293233637\n",
      "rmse on meta validation:  0.9047025935649906\n"
     ]
    }
   ],
   "source": [
    "print('rmse on meta train: ', rmse(train_pred, y_train_meta))\n",
    "print('rmse on meta validation: ', rmse(val_pred, y_val_meta))"
   ]
  },
  {
   "cell_type": "markdown",
   "metadata": {
    "colab_type": "text",
    "id": "m-jzDUsM95SP"
   },
   "source": [
    "# Submit"
   ]
  },
  {
   "cell_type": "code",
   "execution_count": 311,
   "metadata": {
    "colab": {
     "base_uri": "https://localhost:8080/",
     "height": 34
    },
    "colab_type": "code",
    "executionInfo": {
     "elapsed": 1316,
     "status": "ok",
     "timestamp": 1568997120442,
     "user": {
      "displayName": "BA22",
      "photoUrl": "",
      "userId": "02603670721502132211"
     },
     "user_tz": -120
    },
    "id": "BuaaSGPtg9d6",
    "outputId": "4790318d-cc76-4f24-bb3b-76851978f9f5"
   },
   "outputs": [
    {
     "name": "stdout",
     "output_type": "stream",
     "text": [
      "saved:  /content/drive/My Drive/Colab Notebooks/predict_future_sales/submissions/lr_meta_model_18_31_58__20_Sep_2019.csv\n"
     ]
    }
   ],
   "source": [
    "submission, submission_name = create_submission(lr_meta_model, X_test_level2, 'lr_meta_model')"
   ]
  },
  {
   "cell_type": "code",
   "execution_count": 312,
   "metadata": {
    "colab": {
     "base_uri": "https://localhost:8080/",
     "height": 68
    },
    "colab_type": "code",
    "executionInfo": {
     "elapsed": 11530,
     "status": "ok",
     "timestamp": 1568997139208,
     "user": {
      "displayName": "BA22",
      "photoUrl": "",
      "userId": "02603670721502132211"
     },
     "user_tz": -120
    },
    "id": "EQGbXnBR97ke",
    "outputId": "e7b60384-df45-4858-9360-6d7433b4fe1f"
   },
   "outputs": [
    {
     "name": "stdout",
     "output_type": "stream",
     "text": [
      "Warning: Looks like you're using an outdated API Version, please consider updating (server 1.5.6 / client 1.5.4)\n",
      "100% 5.08M/5.08M [00:01<00:00, 3.51MB/s]\n",
      "403 - Your team has used its submission allowance (5 of 5). This resets at midnight UTC (7.5 hours from now).\n"
     ]
    }
   ],
   "source": [
    "submit_solution(submission, submission_name, True)"
   ]
  },
  {
   "cell_type": "code",
   "execution_count": 0,
   "metadata": {
    "colab": {},
    "colab_type": "code",
    "id": "A4D36L-ibVH0"
   },
   "outputs": [],
   "source": []
  }
 ],
 "metadata": {
  "accelerator": "GPU",
  "colab": {
   "collapsed_sections": [
    "XndOKqVa6_Xz",
    "GBtpWYT1E6W2",
    "02GEdV6uFgMR",
    "yN2l1te_rl-N",
    "aPNKAfn_ygFh",
    "MLMUh-6YO3hp",
    "9VrOHgncW_EU",
    "gr9agtspXC42",
    "425MsCU7XL1T",
    "AetzrBML_qM9",
    "yy4R1HXw_qNB",
    "k6a5mJnN_qNH",
    "FhcIWD4o_qNN",
    "vD1WVuOyD_wN",
    "qXWh4vC2NJmL",
    "cwiMX3Z2NWfm",
    "wYxbOfBwNzU1",
    "MuYnIhrs8reB",
    "2CpV6X9YDxzX",
    "CjgxWz8CRcfo",
    "wj7-f4ITBC5_",
    "YQrsIN2B2tfj",
    "2ZTR4b8Z2wWS",
    "_rfKDezHGqXy",
    "xGoX66XaGs_d",
    "MpytCNAZHCcS",
    "rBYjpGcDqIVQ",
    "u62Q93JeqYne",
    "l-bt5KfDfvOg"
   ],
   "machine_shape": "hm",
   "name": "modeling.ipynb",
   "provenance": []
  },
  "kernelspec": {
   "display_name": "Python 3",
   "language": "python",
   "name": "python3"
  },
  "language_info": {
   "codemirror_mode": {
    "name": "ipython",
    "version": 3
   },
   "file_extension": ".py",
   "mimetype": "text/x-python",
   "name": "python",
   "nbconvert_exporter": "python",
   "pygments_lexer": "ipython3",
   "version": "3.7.6"
  },
  "toc": {
   "base_numbering": 1,
   "nav_menu": {},
   "number_sections": true,
   "sideBar": true,
   "skip_h1_title": false,
   "title_cell": "Table of Contents",
   "title_sidebar": "Contents",
   "toc_cell": false,
   "toc_position": {},
   "toc_section_display": true,
   "toc_window_display": false
  }
 },
 "nbformat": 4,
 "nbformat_minor": 1
}
